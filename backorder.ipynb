{
  "nbformat": 4,
  "nbformat_minor": 0,
  "metadata": {
    "colab": {
      "name": "backorder.ipynb",
      "provenance": [],
      "collapsed_sections": [],
      "toc_visible": true
    },
    "kernelspec": {
      "name": "python3",
      "display_name": "Python 3"
    },
    "language_info": {
      "name": "python"
    },
    "accelerator": "GPU"
  },
  "cells": [
    {
      "cell_type": "markdown",
      "metadata": {
        "id": "iz2nkJf8GxrX"
      },
      "source": [
        "# Overview\n",
        "**What Is a Backorder?**\n",
        "\n",
        "A backorder is an order for a good or service that cannot be filled at the current time due to a lack of available supply. The item may not be held in the company's available inventory but could still be in production, or the company may need to still manufacture more of the product.\n",
        "\n",
        "**Problems with Backorders**\n",
        "\n",
        "* If a company consistently sees items in backorder, this could be taken as a signal that the company's operations are far too lean. It may also mean the company is losing out on business by not providing the products demanded by its customers. If a customer sees products on backorder—and notices this frequently—they may decide to cancel orders, forcing the company to issue refunds and readjust their books.\n",
        "\n",
        "* When an item is on backorder, a customer may look elsewhere for a substitute product, especially if the expected wait time until the product becomes available is long. This can provide an opportunity for once loyal customers to try other companies' products and potentially switch their loyalties. Difficulties with proper inventory management can lead to the eventual loss of market share as customers become frustrated with the company's lack of product availability.\n",
        "\n",
        "# Probel Definition\n",
        "Okay so after knowing what `Backorder` is and disadvantages associated with it, we are going to build a machine learning model to predict if ` a product will be in backorder or not`.\n",
        "\n",
        "# Evaluation\n",
        "If we are able to get a good accuracy score between **70** and **80** and a good precision and recal score between  **60** and 85, then our model will be ready to be served in production.\n",
        "\n",
        "# Algorithms to experiment on\n",
        "* Artificial Neural Network\n",
        "* RandomForestClassifier\n",
        "* DecisionTree\n",
        "* NaiveBayes\n",
        "* LogisticRegression\n",
        "* K-Nearest Neighbour(KNN)\n",
        "* Support Vector Machine(SVM)\n",
        "* GradientBoostingClassifier\n",
        "\n",
        "# Evaluation Metrics\n",
        "* Accuracy score\n",
        "* F1 score\n",
        "* Precision\n",
        "* Recall\n",
        "* Confusion matrics\n",
        "* Classification report\n",
        "\n",
        "# Deployment\n",
        "* **Cloud** Amazon Web Services(AWS).\n",
        "* **Backend** Python to create a rest API for our model.\n",
        "* **Frontend** Bootstrap, html, css and javascript.\n",
        "* **Proccess** Will use `cli` to automate the entire deployment process.\n",
        "* **GCP Services** \n",
        "  * Google CloudRun.\n",
        "  * Google Container Registory.\n",
        "* **Others** Docker.\n",
        "\n",
        "# Steps used to build model\n",
        "* Get our tools ready.\n",
        "* Perform Exploratory Data Analysis.\n",
        "* Preprocess training and test dataset saperatelly.\n",
        "* Build our base model.\n",
        "* Make predictions.\n",
        "* Evaluate our model.\n",
        "* Choose the model with good results by comparing with our evaluation.\n",
        "* Perform Hyperparameter tunning.\n",
        "* Make conclusion.\n",
        "\n",
        "  # Dataset\n",
        "  The dataset used can be downloaded by clicking the link provided bellow   [Dataset...](https://machinelearningmodelsbucket.s3.amazonaws.com/backlog.zip)"
      ]
    },
    {
      "cell_type": "markdown",
      "metadata": {
        "id": "76Nz5Rp-Jcbk"
      },
      "source": [
        "#Get our tools ready\n",
        "We are going to import all the libries we will use to build our model."
      ]
    },
    {
      "cell_type": "code",
      "metadata": {
        "id": "R52w96Fc7LtK"
      },
      "source": [
        "#Disable warning\n",
        "import warnings\n",
        "warnings.filterwarnings('ignore')\n",
        "\n",
        "#Import core tools\n",
        "import pandas as pd\n",
        "import numpy as np\n",
        "import matplotlib.pyplot as plt\n",
        "import seaborn as sns\n",
        "\n",
        "#Import scikit learn libries\n",
        "from sklearn.model_selection import train_test_split\n",
        "from sklearn.compose import ColumnTransformer\n",
        "from sklearn.pipeline import Pipeline\n",
        "from sklearn.impute import SimpleImputer\n",
        "from sklearn.preprocessing import OneHotEncoder, LabelEncoder, MinMaxScaler\n",
        "from sklearn.feature_selection import SelectKBest, chi2\n",
        "\n",
        "#Metrics to evaluate our models on\n",
        "from sklearn.metrics import f1_score, accuracy_score, precision_score, recall_score, \\\n",
        "confusion_matrix, classification_report\n",
        "\n",
        "#Algorithms to experiment on\n",
        "from sklearn.linear_model import LogisticRegression\n",
        "from sklearn.ensemble import RandomForestClassifier\n",
        "from sklearn.tree import DecisionTreeClassifier\n",
        "from sklearn.svm import SVC\n",
        "from sklearn.naive_bayes import GaussianNB\n",
        "from sklearn.neighbors import KNeighborsClassifier\n",
        "from sklearn.ensemble import GradientBoostingClassifier\n",
        "\n",
        "#Hyperparameter libries\n",
        "from sklearn.model_selection import RandomizedSearchCV, GridSearchCV\n",
        "\n",
        "#Import tensorflow libries\n",
        "import tensorflow as tf\n",
        "\n",
        "#Import other libries\n",
        "import zipfile\n",
        "import pickle"
      ],
      "execution_count": null,
      "outputs": []
    },
    {
      "cell_type": "markdown",
      "metadata": {
        "id": "WWMEQUTALTTy"
      },
      "source": [
        "# Exploratory Data Analysis\n",
        "Okay so we have successfully make preparations. Now, we are going to perform exploratory data analysis on our dataset by beforming some activities such as checking null values, checking categorical and numeric features, finding the correlation between dependent and non dependent features etc... Okay so, lets get started."
      ]
    },
    {
      "cell_type": "code",
      "metadata": {
        "colab": {
          "base_uri": "https://localhost:8080/"
        },
        "id": "98c6kx9pJo6a",
        "outputId": "6bfc2494-7968-4685-9970-b7f379fb0f77"
      },
      "source": [
        "#Import dataset from aws s3\n",
        "!wget https://machinelearningmodelsbucket.s3.amazonaws.com/backlog.zip\n",
        "dataset = zipfile.ZipFile(\"backlog.zip\")\n",
        "dataset.extractall()\n",
        "dataset.close()"
      ],
      "execution_count": null,
      "outputs": [
        {
          "output_type": "stream",
          "text": [
            "--2021-08-19 17:45:32--  https://machinelearningmodelsbucket.s3.amazonaws.com/backlog.zip\n",
            "Resolving machinelearningmodelsbucket.s3.amazonaws.com (machinelearningmodelsbucket.s3.amazonaws.com)... 52.216.245.220\n",
            "Connecting to machinelearningmodelsbucket.s3.amazonaws.com (machinelearningmodelsbucket.s3.amazonaws.com)|52.216.245.220|:443... connected.\n",
            "HTTP request sent, awaiting response... 200 OK\n",
            "Length: 27314219 (26M) [application/zip]\n",
            "Saving to: ‘backlog.zip.1’\n",
            "\n",
            "backlog.zip.1       100%[===================>]  26.05M  89.4MB/s    in 0.3s    \n",
            "\n",
            "2021-08-19 17:45:33 (89.4 MB/s) - ‘backlog.zip.1’ saved [27314219/27314219]\n",
            "\n"
          ],
          "name": "stdout"
        }
      ]
    },
    {
      "cell_type": "code",
      "metadata": {
        "colab": {
          "base_uri": "https://localhost:8080/",
          "height": 215
        },
        "id": "e1B-P_RMMCZp",
        "outputId": "6361677c-9da0-411d-ce69-bbb9f419a11a"
      },
      "source": [
        "#Read in dataset\n",
        "dataset = pd.read_csv(\"/content/dataset/Kaggle_Training_Dataset_v2.csv\", na_values=[\"!\",'\"',\"#\",\"%\",\"&\",\"'\",\"(\",\")\",\n",
        "\"*\",\"+\",\",\",\"-\",\".\",\"/\",\":\",\";\",\"<\",\"=\",\">\",\"?\",\"@\",\"[\",\"\\\\\",\"]\",\"^\",\"_\",\"`\",\"{\",\"|\",\"}\",\"~\",\"–\"])\n",
        "\n",
        "#Display dataset\n",
        "dataset.head()"
      ],
      "execution_count": null,
      "outputs": [
        {
          "output_type": "execute_result",
          "data": {
            "text/html": [
              "<div>\n",
              "<style scoped>\n",
              "    .dataframe tbody tr th:only-of-type {\n",
              "        vertical-align: middle;\n",
              "    }\n",
              "\n",
              "    .dataframe tbody tr th {\n",
              "        vertical-align: top;\n",
              "    }\n",
              "\n",
              "    .dataframe thead th {\n",
              "        text-align: right;\n",
              "    }\n",
              "</style>\n",
              "<table border=\"1\" class=\"dataframe\">\n",
              "  <thead>\n",
              "    <tr style=\"text-align: right;\">\n",
              "      <th></th>\n",
              "      <th>sku</th>\n",
              "      <th>national_inv</th>\n",
              "      <th>lead_time</th>\n",
              "      <th>in_transit_qty</th>\n",
              "      <th>forecast_3_month</th>\n",
              "      <th>forecast_6_month</th>\n",
              "      <th>forecast_9_month</th>\n",
              "      <th>sales_1_month</th>\n",
              "      <th>sales_3_month</th>\n",
              "      <th>sales_6_month</th>\n",
              "      <th>sales_9_month</th>\n",
              "      <th>min_bank</th>\n",
              "      <th>potential_issue</th>\n",
              "      <th>pieces_past_due</th>\n",
              "      <th>perf_6_month_avg</th>\n",
              "      <th>perf_12_month_avg</th>\n",
              "      <th>local_bo_qty</th>\n",
              "      <th>deck_risk</th>\n",
              "      <th>oe_constraint</th>\n",
              "      <th>ppap_risk</th>\n",
              "      <th>stop_auto_buy</th>\n",
              "      <th>rev_stop</th>\n",
              "      <th>went_on_backorder</th>\n",
              "    </tr>\n",
              "  </thead>\n",
              "  <tbody>\n",
              "    <tr>\n",
              "      <th>0</th>\n",
              "      <td>1026827</td>\n",
              "      <td>0.0</td>\n",
              "      <td>NaN</td>\n",
              "      <td>0.0</td>\n",
              "      <td>0.0</td>\n",
              "      <td>0.0</td>\n",
              "      <td>0.0</td>\n",
              "      <td>0.0</td>\n",
              "      <td>0.0</td>\n",
              "      <td>0.0</td>\n",
              "      <td>0.0</td>\n",
              "      <td>0.0</td>\n",
              "      <td>No</td>\n",
              "      <td>0.0</td>\n",
              "      <td>-99.00</td>\n",
              "      <td>-99.00</td>\n",
              "      <td>0.0</td>\n",
              "      <td>No</td>\n",
              "      <td>No</td>\n",
              "      <td>No</td>\n",
              "      <td>Yes</td>\n",
              "      <td>No</td>\n",
              "      <td>No</td>\n",
              "    </tr>\n",
              "    <tr>\n",
              "      <th>1</th>\n",
              "      <td>1043384</td>\n",
              "      <td>2.0</td>\n",
              "      <td>9.0</td>\n",
              "      <td>0.0</td>\n",
              "      <td>0.0</td>\n",
              "      <td>0.0</td>\n",
              "      <td>0.0</td>\n",
              "      <td>0.0</td>\n",
              "      <td>0.0</td>\n",
              "      <td>0.0</td>\n",
              "      <td>0.0</td>\n",
              "      <td>0.0</td>\n",
              "      <td>No</td>\n",
              "      <td>0.0</td>\n",
              "      <td>0.99</td>\n",
              "      <td>0.99</td>\n",
              "      <td>0.0</td>\n",
              "      <td>No</td>\n",
              "      <td>No</td>\n",
              "      <td>No</td>\n",
              "      <td>Yes</td>\n",
              "      <td>No</td>\n",
              "      <td>No</td>\n",
              "    </tr>\n",
              "    <tr>\n",
              "      <th>2</th>\n",
              "      <td>1043696</td>\n",
              "      <td>2.0</td>\n",
              "      <td>NaN</td>\n",
              "      <td>0.0</td>\n",
              "      <td>0.0</td>\n",
              "      <td>0.0</td>\n",
              "      <td>0.0</td>\n",
              "      <td>0.0</td>\n",
              "      <td>0.0</td>\n",
              "      <td>0.0</td>\n",
              "      <td>0.0</td>\n",
              "      <td>0.0</td>\n",
              "      <td>No</td>\n",
              "      <td>0.0</td>\n",
              "      <td>-99.00</td>\n",
              "      <td>-99.00</td>\n",
              "      <td>0.0</td>\n",
              "      <td>Yes</td>\n",
              "      <td>No</td>\n",
              "      <td>No</td>\n",
              "      <td>Yes</td>\n",
              "      <td>No</td>\n",
              "      <td>No</td>\n",
              "    </tr>\n",
              "    <tr>\n",
              "      <th>3</th>\n",
              "      <td>1043852</td>\n",
              "      <td>7.0</td>\n",
              "      <td>8.0</td>\n",
              "      <td>0.0</td>\n",
              "      <td>0.0</td>\n",
              "      <td>0.0</td>\n",
              "      <td>0.0</td>\n",
              "      <td>0.0</td>\n",
              "      <td>0.0</td>\n",
              "      <td>0.0</td>\n",
              "      <td>0.0</td>\n",
              "      <td>1.0</td>\n",
              "      <td>No</td>\n",
              "      <td>0.0</td>\n",
              "      <td>0.10</td>\n",
              "      <td>0.13</td>\n",
              "      <td>0.0</td>\n",
              "      <td>No</td>\n",
              "      <td>No</td>\n",
              "      <td>No</td>\n",
              "      <td>Yes</td>\n",
              "      <td>No</td>\n",
              "      <td>No</td>\n",
              "    </tr>\n",
              "    <tr>\n",
              "      <th>4</th>\n",
              "      <td>1044048</td>\n",
              "      <td>8.0</td>\n",
              "      <td>NaN</td>\n",
              "      <td>0.0</td>\n",
              "      <td>0.0</td>\n",
              "      <td>0.0</td>\n",
              "      <td>0.0</td>\n",
              "      <td>0.0</td>\n",
              "      <td>0.0</td>\n",
              "      <td>0.0</td>\n",
              "      <td>4.0</td>\n",
              "      <td>2.0</td>\n",
              "      <td>No</td>\n",
              "      <td>0.0</td>\n",
              "      <td>-99.00</td>\n",
              "      <td>-99.00</td>\n",
              "      <td>0.0</td>\n",
              "      <td>Yes</td>\n",
              "      <td>No</td>\n",
              "      <td>No</td>\n",
              "      <td>Yes</td>\n",
              "      <td>No</td>\n",
              "      <td>No</td>\n",
              "    </tr>\n",
              "  </tbody>\n",
              "</table>\n",
              "</div>"
            ],
            "text/plain": [
              "       sku  national_inv  lead_time  ...  stop_auto_buy  rev_stop  went_on_backorder\n",
              "0  1026827           0.0        NaN  ...            Yes        No                 No\n",
              "1  1043384           2.0        9.0  ...            Yes        No                 No\n",
              "2  1043696           2.0        NaN  ...            Yes        No                 No\n",
              "3  1043852           7.0        8.0  ...            Yes        No                 No\n",
              "4  1044048           8.0        NaN  ...            Yes        No                 No\n",
              "\n",
              "[5 rows x 23 columns]"
            ]
          },
          "metadata": {
            "tags": []
          },
          "execution_count": 277
        }
      ]
    },
    {
      "cell_type": "markdown",
      "metadata": {
        "id": "CXEHOpRIPJL_"
      },
      "source": [
        "### **Null values**"
      ]
    },
    {
      "cell_type": "code",
      "metadata": {
        "colab": {
          "base_uri": "https://localhost:8080/"
        },
        "id": "mZwJAvMEMash",
        "outputId": "74defa54-6526-4d0b-cf8a-12f1ab5b4cd7"
      },
      "source": [
        "#Check for null values in our dataset\n",
        "dataset.isna().sum()"
      ],
      "execution_count": null,
      "outputs": [
        {
          "output_type": "execute_result",
          "data": {
            "text/plain": [
              "sku                       0\n",
              "national_inv              1\n",
              "lead_time            100894\n",
              "in_transit_qty            1\n",
              "forecast_3_month          1\n",
              "forecast_6_month          1\n",
              "forecast_9_month          1\n",
              "sales_1_month             1\n",
              "sales_3_month             1\n",
              "sales_6_month             1\n",
              "sales_9_month             1\n",
              "min_bank                  1\n",
              "potential_issue           1\n",
              "pieces_past_due           1\n",
              "perf_6_month_avg          1\n",
              "perf_12_month_avg         1\n",
              "local_bo_qty              1\n",
              "deck_risk                 1\n",
              "oe_constraint             1\n",
              "ppap_risk                 1\n",
              "stop_auto_buy             1\n",
              "rev_stop                  1\n",
              "went_on_backorder         1\n",
              "dtype: int64"
            ]
          },
          "metadata": {
            "tags": []
          },
          "execution_count": 278
        }
      ]
    },
    {
      "cell_type": "code",
      "metadata": {
        "colab": {
          "base_uri": "https://localhost:8080/",
          "height": 684
        },
        "id": "uOzBZXplMyAG",
        "outputId": "abfc3c3e-b52b-4ba6-b6bc-ad2b6e16535f"
      },
      "source": [
        "#Okay so lets visualize our null values using heatmap\n",
        "plt.figure(figsize=(20,10))\n",
        "sns.heatmap(dataset.isnull())\n",
        "plt.show()"
      ],
      "execution_count": null,
      "outputs": [
        {
          "output_type": "display_data",
          "data": {
            "image/png": "[encoded data removed]",
            "text/plain": [
              "<Figure size 1440x720 with 2 Axes>"
            ]
          },
          "metadata": {
            "tags": [],
            "needs_background": "light"
          }
        }
      ]
    },
    {
      "cell_type": "markdown",
      "metadata": {
        "id": "6ZLMVU0wOccn"
      },
      "source": [
        "From above, we can see that all features have one(1) Nan values except `lead_time` feature which contains more Nan values. We will replace these features with values based on their `Normal Distribution` during our preprocessing stage and drop the feature `lead time`. Lets continue by exploring categorical and numeric features."
      ]
    },
    {
      "cell_type": "markdown",
      "metadata": {
        "id": "PI1p5-xWPN4n"
      },
      "source": [
        "### **Categorical and Numeric features**"
      ]
    },
    {
      "cell_type": "code",
      "metadata": {
        "colab": {
          "base_uri": "https://localhost:8080/"
        },
        "id": "WZ7ervzbNm2l",
        "outputId": "8c387b9f-8361-4af4-9b59-56d00e904101"
      },
      "source": [
        "#Check for dataset types\n",
        "dataset.dtypes"
      ],
      "execution_count": null,
      "outputs": [
        {
          "output_type": "execute_result",
          "data": {
            "text/plain": [
              "sku                   object\n",
              "national_inv         float64\n",
              "lead_time            float64\n",
              "in_transit_qty       float64\n",
              "forecast_3_month     float64\n",
              "forecast_6_month     float64\n",
              "forecast_9_month     float64\n",
              "sales_1_month        float64\n",
              "sales_3_month        float64\n",
              "sales_6_month        float64\n",
              "sales_9_month        float64\n",
              "min_bank             float64\n",
              "potential_issue       object\n",
              "pieces_past_due      float64\n",
              "perf_6_month_avg     float64\n",
              "perf_12_month_avg    float64\n",
              "local_bo_qty         float64\n",
              "deck_risk             object\n",
              "oe_constraint         object\n",
              "ppap_risk             object\n",
              "stop_auto_buy         object\n",
              "rev_stop              object\n",
              "went_on_backorder     object\n",
              "dtype: object"
            ]
          },
          "metadata": {
            "tags": []
          },
          "execution_count": 280
        }
      ]
    },
    {
      "cell_type": "code",
      "metadata": {
        "colab": {
          "base_uri": "https://localhost:8080/"
        },
        "id": "OnQaQHxSOI-3",
        "outputId": "29312dab-22a8-4eac-9fcc-18d56f0bcd0f"
      },
      "source": [
        "#Check the total number of categorical features\n",
        "print(\"Total number of categorical features is: {val} \\\n",
        "\".format(val=len(dataset.select_dtypes(include=[\"category\", \"object\"]).columns)\n",
        "))"
      ],
      "execution_count": null,
      "outputs": [
        {
          "output_type": "stream",
          "text": [
            "Total number of categorical features is: 8 \n"
          ],
          "name": "stdout"
        }
      ]
    },
    {
      "cell_type": "code",
      "metadata": {
        "colab": {
          "base_uri": "https://localhost:8080/"
        },
        "id": "J1K_oo_sOLgs",
        "outputId": "e135d661-72cd-472a-bfed-9e0ac0a31c03"
      },
      "source": [
        "#Check the total number of numeric features\n",
        "print(\"Total number of categorical features is: {val} \\\n",
        "\".format(val=len(dataset.select_dtypes(exclude=[\"category\", \"object\"]).columns)\n",
        "))"
      ],
      "execution_count": null,
      "outputs": [
        {
          "output_type": "stream",
          "text": [
            "Total number of categorical features is: 15 \n"
          ],
          "name": "stdout"
        }
      ]
    },
    {
      "cell_type": "markdown",
      "metadata": {
        "id": "5yB4F_GBQdWl"
      },
      "source": [
        "Okay so from above, we have eight(8) categorical features and fiftheen(15) numeric features. We will OneHotEncode all our categorical features during preprocessing stage. Lets continue by exploring our `Target Feature`."
      ]
    },
    {
      "cell_type": "markdown",
      "metadata": {
        "id": "OeVwDrkWQ08G"
      },
      "source": [
        "### **Explore Target Feature(went_on_backorder)**"
      ]
    },
    {
      "cell_type": "code",
      "metadata": {
        "colab": {
          "base_uri": "https://localhost:8080/"
        },
        "id": "hA41Vij4QCOz",
        "outputId": "d3210921-f70e-4a95-f914-1557b4b6be9f"
      },
      "source": [
        "#Check total value in each class\n",
        "dataset[\"went_on_backorder\"].value_counts()"
      ],
      "execution_count": null,
      "outputs": [
        {
          "output_type": "execute_result",
          "data": {
            "text/plain": [
              "No     1676567\n",
              "Yes      11293\n",
              "Name: went_on_backorder, dtype: int64"
            ]
          },
          "metadata": {
            "tags": []
          },
          "execution_count": 283
        }
      ]
    },
    {
      "cell_type": "code",
      "metadata": {
        "colab": {
          "base_uri": "https://localhost:8080/"
        },
        "id": "PPmmRFUERIM1",
        "outputId": "17b6df27-32a5-41d1-b717-973cca8a03d6"
      },
      "source": [
        "#Check total value in each class in percentage form\n",
        "dataset[\"went_on_backorder\"].value_counts() / len(dataset)"
      ],
      "execution_count": null,
      "outputs": [
        {
          "output_type": "execute_result",
          "data": {
            "text/plain": [
              "No     0.993309\n",
              "Yes    0.006691\n",
              "Name: went_on_backorder, dtype: float64"
            ]
          },
          "metadata": {
            "tags": []
          },
          "execution_count": 284
        }
      ]
    },
    {
      "cell_type": "code",
      "metadata": {
        "colab": {
          "base_uri": "https://localhost:8080/",
          "height": 337
        },
        "id": "GslMbh1KRMvB",
        "outputId": "12e2e829-96dd-4e6f-869f-d25e28a32576"
      },
      "source": [
        "#Lets visualize our result\n",
        "plt.figure(figsize=(10, 5))\n",
        "plt.subplot(1, 2, 1)\n",
        "dataset[\"went_on_backorder\"].value_counts().plot(kind=\"bar\")\n",
        "plt.subplot(1, 2, 2)\n",
        "dataset[\"went_on_backorder\"].value_counts().plot(kind=\"pie\")\n",
        "plt.show()"
      ],
      "execution_count": null,
      "outputs": [
        {
          "output_type": "display_data",
          "data": {
            "image/png": "[encoded data removed]",
            "text/plain": [
              "<Figure size 720x360 with 2 Axes>"
            ]
          },
          "metadata": {
            "tags": [],
            "needs_background": "light"
          }
        }
      ]
    },
    {
      "cell_type": "markdown",
      "metadata": {
        "id": "l5hVOCQCRnG0"
      },
      "source": [
        "From above, we can see that most of our dataset belong to products that are not in backorder. This means our dataset is not balanced at all hence, we will balance this dataset before we start our preprocessing stage. Lets continue by checking the correlation between the dependent feature and the non dependent features."
      ]
    },
    {
      "cell_type": "markdown",
      "metadata": {
        "id": "-iSSJa_GSGBN"
      },
      "source": [
        "### **Correlation between dependets and target feature**\n",
        "We are going to use heatmap to help us visualize the correlation in our dataset. Non dependent features having high correlation with other features will be droped."
      ]
    },
    {
      "cell_type": "code",
      "metadata": {
        "colab": {
          "base_uri": "https://localhost:8080/",
          "height": 682
        },
        "id": "BtcnkwkcRhTp",
        "outputId": "2e62acd2-d406-49b0-f270-86784d42fe2e"
      },
      "source": [
        "#Visualize correlation\n",
        "plt.figure(figsize=(20, 10))\n",
        "sns.heatmap(dataset.corr(), annot=True, linewidths=2)\n",
        "plt.show()"
      ],
      "execution_count": null,
      "outputs": [
        {
          "output_type": "display_data",
          "data": {
            "image/png": "[encoded data removed]",
            "text/plain": [
              "<Figure size 1440x720 with 2 Axes>"
            ]
          },
          "metadata": {
            "tags": [],
            "needs_background": "light"
          }
        }
      ]
    },
    {
      "cell_type": "code",
      "metadata": {
        "id": "DuxKwa3ZSmFL"
      },
      "source": [
        "\"\"\"\n",
        "Okay so we are going to create a custom function\n",
        "to help us dislay or list all highly correlated\n",
        "features with a thresshol of 0.90.\n",
        "\"\"\"\n",
        "def high_correlated(datasets, threshold):\n",
        "  \"\"\"\n",
        "  A function to display highly\n",
        "  correlated features in our\n",
        "  dataset.\n",
        "  Args:\n",
        "    dataset:\n",
        "        This is the dataset to\n",
        "        find the correlation between target\n",
        "        and non dependent features\n",
        "    threshold:\n",
        "        The number to use to determine\n",
        "        if a feature highly correlates\n",
        "        with another feature.\n",
        "  \"\"\"\n",
        "  cor_col = set()\n",
        "  cor_mat = datasets.corr()\n",
        "  for i in range(len(cor_mat.columns)):\n",
        "      for j in range(i):\n",
        "          if abs(cor_mat.iloc[i, j]) > threshold:\n",
        "              colname = cor_mat.columns[i]\n",
        "              cor_col.add(colname)\n",
        "  return cor_col"
      ],
      "execution_count": null,
      "outputs": []
    },
    {
      "cell_type": "code",
      "metadata": {
        "colab": {
          "base_uri": "https://localhost:8080/"
        },
        "id": "Yqgp6DQDTqXL",
        "outputId": "54fbf56b-339f-47c8-e267-23308ea337e0"
      },
      "source": [
        "#Get highly correlated features\n",
        "correlated_features = high_correlated(dataset, 0.90)\n",
        "\n",
        "#Display highly correlated features\n",
        "correlated_features"
      ],
      "execution_count": null,
      "outputs": [
        {
          "output_type": "execute_result",
          "data": {
            "text/plain": [
              "{'forecast_6_month',\n",
              " 'forecast_9_month',\n",
              " 'perf_12_month_avg',\n",
              " 'sales_3_month',\n",
              " 'sales_6_month',\n",
              " 'sales_9_month'}"
            ]
          },
          "metadata": {
            "tags": []
          },
          "execution_count": 288
        }
      ]
    },
    {
      "cell_type": "markdown",
      "metadata": {
        "id": "a-4DdseqUF4q"
      },
      "source": [
        "From above, we can see that some features are higly correlated to other features in our dataset. Hence, we will drop all this features from above when performng feature selection our dataset. Lets continue to explore outliers in our datasets."
      ]
    },
    {
      "cell_type": "markdown",
      "metadata": {
        "id": "dvG6JgPFZqUk"
      },
      "source": [
        "# Preprocessing Train Data\n",
        "Finally, we are going to perform preprocessing on both\n",
        "\n",
        "* `Training` dataset.\n",
        "* `Testing` dataset.\n",
        "\n",
        "We are going to user scikitlearn `Pipelines` and `ColumnTransformers` to perform our preprocessing. So, we will first replace all null values depending on the distribution of our dataset, Convert categorical dataset into numeric then scale our dataset also depending on the distribution of our datasets. Okay so before we start, lets first:\n",
        "* `Drop` both sku, time_lead and highly correlated features.\n",
        "*  `Balance` our dataset.\n",
        "\n",
        "Okay so lets just get started."
      ]
    },
    {
      "cell_type": "markdown",
      "metadata": {
        "id": "yGf4O1rfuJ7l"
      },
      "source": [
        "### **Balance train Dataset**\n",
        "we have successfully explored our datasets. Now are going to balance our dataset so that they will all have the same number of dataset in each class. Lets get started."
      ]
    },
    {
      "cell_type": "code",
      "metadata": {
        "colab": {
          "base_uri": "https://localhost:8080/",
          "height": 215
        },
        "id": "pdUz8koFID_v",
        "outputId": "26dfd463-8e49-4216-9a9a-ce8e79a0a3e0"
      },
      "source": [
        "#Display dataset\n",
        "dataset.head()"
      ],
      "execution_count": null,
      "outputs": [
        {
          "output_type": "execute_result",
          "data": {
            "text/html": [
              "<div>\n",
              "<style scoped>\n",
              "    .dataframe tbody tr th:only-of-type {\n",
              "        vertical-align: middle;\n",
              "    }\n",
              "\n",
              "    .dataframe tbody tr th {\n",
              "        vertical-align: top;\n",
              "    }\n",
              "\n",
              "    .dataframe thead th {\n",
              "        text-align: right;\n",
              "    }\n",
              "</style>\n",
              "<table border=\"1\" class=\"dataframe\">\n",
              "  <thead>\n",
              "    <tr style=\"text-align: right;\">\n",
              "      <th></th>\n",
              "      <th>sku</th>\n",
              "      <th>national_inv</th>\n",
              "      <th>lead_time</th>\n",
              "      <th>in_transit_qty</th>\n",
              "      <th>forecast_3_month</th>\n",
              "      <th>forecast_6_month</th>\n",
              "      <th>forecast_9_month</th>\n",
              "      <th>sales_1_month</th>\n",
              "      <th>sales_3_month</th>\n",
              "      <th>sales_6_month</th>\n",
              "      <th>sales_9_month</th>\n",
              "      <th>min_bank</th>\n",
              "      <th>potential_issue</th>\n",
              "      <th>pieces_past_due</th>\n",
              "      <th>perf_6_month_avg</th>\n",
              "      <th>perf_12_month_avg</th>\n",
              "      <th>local_bo_qty</th>\n",
              "      <th>deck_risk</th>\n",
              "      <th>oe_constraint</th>\n",
              "      <th>ppap_risk</th>\n",
              "      <th>stop_auto_buy</th>\n",
              "      <th>rev_stop</th>\n",
              "      <th>went_on_backorder</th>\n",
              "    </tr>\n",
              "  </thead>\n",
              "  <tbody>\n",
              "    <tr>\n",
              "      <th>0</th>\n",
              "      <td>1026827</td>\n",
              "      <td>0.0</td>\n",
              "      <td>NaN</td>\n",
              "      <td>0.0</td>\n",
              "      <td>0.0</td>\n",
              "      <td>0.0</td>\n",
              "      <td>0.0</td>\n",
              "      <td>0.0</td>\n",
              "      <td>0.0</td>\n",
              "      <td>0.0</td>\n",
              "      <td>0.0</td>\n",
              "      <td>0.0</td>\n",
              "      <td>No</td>\n",
              "      <td>0.0</td>\n",
              "      <td>-99.00</td>\n",
              "      <td>-99.00</td>\n",
              "      <td>0.0</td>\n",
              "      <td>No</td>\n",
              "      <td>No</td>\n",
              "      <td>No</td>\n",
              "      <td>Yes</td>\n",
              "      <td>No</td>\n",
              "      <td>No</td>\n",
              "    </tr>\n",
              "    <tr>\n",
              "      <th>1</th>\n",
              "      <td>1043384</td>\n",
              "      <td>2.0</td>\n",
              "      <td>9.0</td>\n",
              "      <td>0.0</td>\n",
              "      <td>0.0</td>\n",
              "      <td>0.0</td>\n",
              "      <td>0.0</td>\n",
              "      <td>0.0</td>\n",
              "      <td>0.0</td>\n",
              "      <td>0.0</td>\n",
              "      <td>0.0</td>\n",
              "      <td>0.0</td>\n",
              "      <td>No</td>\n",
              "      <td>0.0</td>\n",
              "      <td>0.99</td>\n",
              "      <td>0.99</td>\n",
              "      <td>0.0</td>\n",
              "      <td>No</td>\n",
              "      <td>No</td>\n",
              "      <td>No</td>\n",
              "      <td>Yes</td>\n",
              "      <td>No</td>\n",
              "      <td>No</td>\n",
              "    </tr>\n",
              "    <tr>\n",
              "      <th>2</th>\n",
              "      <td>1043696</td>\n",
              "      <td>2.0</td>\n",
              "      <td>NaN</td>\n",
              "      <td>0.0</td>\n",
              "      <td>0.0</td>\n",
              "      <td>0.0</td>\n",
              "      <td>0.0</td>\n",
              "      <td>0.0</td>\n",
              "      <td>0.0</td>\n",
              "      <td>0.0</td>\n",
              "      <td>0.0</td>\n",
              "      <td>0.0</td>\n",
              "      <td>No</td>\n",
              "      <td>0.0</td>\n",
              "      <td>-99.00</td>\n",
              "      <td>-99.00</td>\n",
              "      <td>0.0</td>\n",
              "      <td>Yes</td>\n",
              "      <td>No</td>\n",
              "      <td>No</td>\n",
              "      <td>Yes</td>\n",
              "      <td>No</td>\n",
              "      <td>No</td>\n",
              "    </tr>\n",
              "    <tr>\n",
              "      <th>3</th>\n",
              "      <td>1043852</td>\n",
              "      <td>7.0</td>\n",
              "      <td>8.0</td>\n",
              "      <td>0.0</td>\n",
              "      <td>0.0</td>\n",
              "      <td>0.0</td>\n",
              "      <td>0.0</td>\n",
              "      <td>0.0</td>\n",
              "      <td>0.0</td>\n",
              "      <td>0.0</td>\n",
              "      <td>0.0</td>\n",
              "      <td>1.0</td>\n",
              "      <td>No</td>\n",
              "      <td>0.0</td>\n",
              "      <td>0.10</td>\n",
              "      <td>0.13</td>\n",
              "      <td>0.0</td>\n",
              "      <td>No</td>\n",
              "      <td>No</td>\n",
              "      <td>No</td>\n",
              "      <td>Yes</td>\n",
              "      <td>No</td>\n",
              "      <td>No</td>\n",
              "    </tr>\n",
              "    <tr>\n",
              "      <th>4</th>\n",
              "      <td>1044048</td>\n",
              "      <td>8.0</td>\n",
              "      <td>NaN</td>\n",
              "      <td>0.0</td>\n",
              "      <td>0.0</td>\n",
              "      <td>0.0</td>\n",
              "      <td>0.0</td>\n",
              "      <td>0.0</td>\n",
              "      <td>0.0</td>\n",
              "      <td>0.0</td>\n",
              "      <td>4.0</td>\n",
              "      <td>2.0</td>\n",
              "      <td>No</td>\n",
              "      <td>0.0</td>\n",
              "      <td>-99.00</td>\n",
              "      <td>-99.00</td>\n",
              "      <td>0.0</td>\n",
              "      <td>Yes</td>\n",
              "      <td>No</td>\n",
              "      <td>No</td>\n",
              "      <td>Yes</td>\n",
              "      <td>No</td>\n",
              "      <td>No</td>\n",
              "    </tr>\n",
              "  </tbody>\n",
              "</table>\n",
              "</div>"
            ],
            "text/plain": [
              "       sku  national_inv  lead_time  ...  stop_auto_buy  rev_stop  went_on_backorder\n",
              "0  1026827           0.0        NaN  ...            Yes        No                 No\n",
              "1  1043384           2.0        9.0  ...            Yes        No                 No\n",
              "2  1043696           2.0        NaN  ...            Yes        No                 No\n",
              "3  1043852           7.0        8.0  ...            Yes        No                 No\n",
              "4  1044048           8.0        NaN  ...            Yes        No                 No\n",
              "\n",
              "[5 rows x 23 columns]"
            ]
          },
          "metadata": {
            "tags": []
          },
          "execution_count": 289
        }
      ]
    },
    {
      "cell_type": "code",
      "metadata": {
        "id": "HrVHCX7dIVGe"
      },
      "source": [
        "#Split dataset into went_on_backorder = yes and went_on_backorder = no. Lets get started.\n",
        "yes = dataset[dataset[\"went_on_backorder\"] == \"Yes\"]\n",
        "no = dataset[dataset[\"went_on_backorder\"] == \"No\"]"
      ],
      "execution_count": null,
      "outputs": []
    },
    {
      "cell_type": "code",
      "metadata": {
        "colab": {
          "base_uri": "https://localhost:8080/"
        },
        "id": "X_oeIRGrInel",
        "outputId": "6272b191-27ea-4002-845b-d174c215a65e"
      },
      "source": [
        "#Chech shapes\n",
        "dataset.shape, yes.shape, no.shape"
      ],
      "execution_count": null,
      "outputs": [
        {
          "output_type": "execute_result",
          "data": {
            "text/plain": [
              "((1687861, 23), (11293, 23), (1676567, 23))"
            ]
          },
          "metadata": {
            "tags": []
          },
          "execution_count": 291
        }
      ]
    },
    {
      "cell_type": "code",
      "metadata": {
        "id": "JS02JUurIqXk"
      },
      "source": [
        "\"\"\"Okay so we have successfully split our dataset\n",
        "into yes and no. Now, we are going to balance\n",
        "our dataset using the total number of classes in\n",
        "yes dataset using pandas sample. Lets get started.\"\"\"\n",
        "#Set random seed\n",
        "tf.random.set_seed(42)\n",
        "\n",
        "#Get generated dataset\n",
        "no_ = no.sample(yes.shape[0])"
      ],
      "execution_count": null,
      "outputs": []
    },
    {
      "cell_type": "code",
      "metadata": {
        "colab": {
          "base_uri": "https://localhost:8080/"
        },
        "id": "lEvH1vB7KFGz",
        "outputId": "54812cca-e735-4bb2-aa1e-7a9a61b61cc9"
      },
      "source": [
        "#Display dataset shapes after\n",
        "no_.shape, yes.shape"
      ],
      "execution_count": null,
      "outputs": [
        {
          "output_type": "execute_result",
          "data": {
            "text/plain": [
              "((11293, 23), (11293, 23))"
            ]
          },
          "metadata": {
            "tags": []
          },
          "execution_count": 293
        }
      ]
    },
    {
      "cell_type": "code",
      "metadata": {
        "colab": {
          "base_uri": "https://localhost:8080/",
          "height": 215
        },
        "id": "wjCybI7MKJMr",
        "outputId": "fae4d059-7fc3-487a-9c27-01f97e465d78"
      },
      "source": [
        "#Okay so now lets concatnate both into one dataset\n",
        "balanced_dt = pd.concat([no_, yes], axis=0)\n",
        "\n",
        "#Display results\n",
        "balanced_dt.head()"
      ],
      "execution_count": null,
      "outputs": [
        {
          "output_type": "execute_result",
          "data": {
            "text/html": [
              "<div>\n",
              "<style scoped>\n",
              "    .dataframe tbody tr th:only-of-type {\n",
              "        vertical-align: middle;\n",
              "    }\n",
              "\n",
              "    .dataframe tbody tr th {\n",
              "        vertical-align: top;\n",
              "    }\n",
              "\n",
              "    .dataframe thead th {\n",
              "        text-align: right;\n",
              "    }\n",
              "</style>\n",
              "<table border=\"1\" class=\"dataframe\">\n",
              "  <thead>\n",
              "    <tr style=\"text-align: right;\">\n",
              "      <th></th>\n",
              "      <th>sku</th>\n",
              "      <th>national_inv</th>\n",
              "      <th>lead_time</th>\n",
              "      <th>in_transit_qty</th>\n",
              "      <th>forecast_3_month</th>\n",
              "      <th>forecast_6_month</th>\n",
              "      <th>forecast_9_month</th>\n",
              "      <th>sales_1_month</th>\n",
              "      <th>sales_3_month</th>\n",
              "      <th>sales_6_month</th>\n",
              "      <th>sales_9_month</th>\n",
              "      <th>min_bank</th>\n",
              "      <th>potential_issue</th>\n",
              "      <th>pieces_past_due</th>\n",
              "      <th>perf_6_month_avg</th>\n",
              "      <th>perf_12_month_avg</th>\n",
              "      <th>local_bo_qty</th>\n",
              "      <th>deck_risk</th>\n",
              "      <th>oe_constraint</th>\n",
              "      <th>ppap_risk</th>\n",
              "      <th>stop_auto_buy</th>\n",
              "      <th>rev_stop</th>\n",
              "      <th>went_on_backorder</th>\n",
              "    </tr>\n",
              "  </thead>\n",
              "  <tbody>\n",
              "    <tr>\n",
              "      <th>1642057</th>\n",
              "      <td>3240004</td>\n",
              "      <td>5.0</td>\n",
              "      <td>8.0</td>\n",
              "      <td>0.0</td>\n",
              "      <td>0.0</td>\n",
              "      <td>0.0</td>\n",
              "      <td>0.0</td>\n",
              "      <td>0.0</td>\n",
              "      <td>0.0</td>\n",
              "      <td>0.0</td>\n",
              "      <td>0.0</td>\n",
              "      <td>1.0</td>\n",
              "      <td>No</td>\n",
              "      <td>0.0</td>\n",
              "      <td>0.92</td>\n",
              "      <td>0.87</td>\n",
              "      <td>0.0</td>\n",
              "      <td>No</td>\n",
              "      <td>No</td>\n",
              "      <td>No</td>\n",
              "      <td>Yes</td>\n",
              "      <td>No</td>\n",
              "      <td>No</td>\n",
              "    </tr>\n",
              "    <tr>\n",
              "      <th>1101331</th>\n",
              "      <td>1464265</td>\n",
              "      <td>10.0</td>\n",
              "      <td>12.0</td>\n",
              "      <td>8.0</td>\n",
              "      <td>2.0</td>\n",
              "      <td>2.0</td>\n",
              "      <td>2.0</td>\n",
              "      <td>0.0</td>\n",
              "      <td>0.0</td>\n",
              "      <td>0.0</td>\n",
              "      <td>0.0</td>\n",
              "      <td>1.0</td>\n",
              "      <td>No</td>\n",
              "      <td>0.0</td>\n",
              "      <td>0.58</td>\n",
              "      <td>0.58</td>\n",
              "      <td>0.0</td>\n",
              "      <td>Yes</td>\n",
              "      <td>No</td>\n",
              "      <td>No</td>\n",
              "      <td>Yes</td>\n",
              "      <td>No</td>\n",
              "      <td>No</td>\n",
              "    </tr>\n",
              "    <tr>\n",
              "      <th>386890</th>\n",
              "      <td>1734851</td>\n",
              "      <td>26.0</td>\n",
              "      <td>8.0</td>\n",
              "      <td>0.0</td>\n",
              "      <td>0.0</td>\n",
              "      <td>0.0</td>\n",
              "      <td>0.0</td>\n",
              "      <td>2.0</td>\n",
              "      <td>6.0</td>\n",
              "      <td>13.0</td>\n",
              "      <td>21.0</td>\n",
              "      <td>0.0</td>\n",
              "      <td>No</td>\n",
              "      <td>0.0</td>\n",
              "      <td>0.90</td>\n",
              "      <td>0.95</td>\n",
              "      <td>0.0</td>\n",
              "      <td>No</td>\n",
              "      <td>No</td>\n",
              "      <td>No</td>\n",
              "      <td>Yes</td>\n",
              "      <td>No</td>\n",
              "      <td>No</td>\n",
              "    </tr>\n",
              "    <tr>\n",
              "      <th>1240515</th>\n",
              "      <td>2822084</td>\n",
              "      <td>2.0</td>\n",
              "      <td>2.0</td>\n",
              "      <td>0.0</td>\n",
              "      <td>0.0</td>\n",
              "      <td>1.0</td>\n",
              "      <td>2.0</td>\n",
              "      <td>0.0</td>\n",
              "      <td>1.0</td>\n",
              "      <td>1.0</td>\n",
              "      <td>1.0</td>\n",
              "      <td>0.0</td>\n",
              "      <td>No</td>\n",
              "      <td>0.0</td>\n",
              "      <td>0.83</td>\n",
              "      <td>0.85</td>\n",
              "      <td>0.0</td>\n",
              "      <td>No</td>\n",
              "      <td>No</td>\n",
              "      <td>Yes</td>\n",
              "      <td>Yes</td>\n",
              "      <td>No</td>\n",
              "      <td>No</td>\n",
              "    </tr>\n",
              "    <tr>\n",
              "      <th>633338</th>\n",
              "      <td>1981313</td>\n",
              "      <td>7.0</td>\n",
              "      <td>4.0</td>\n",
              "      <td>0.0</td>\n",
              "      <td>0.0</td>\n",
              "      <td>0.0</td>\n",
              "      <td>0.0</td>\n",
              "      <td>0.0</td>\n",
              "      <td>0.0</td>\n",
              "      <td>0.0</td>\n",
              "      <td>0.0</td>\n",
              "      <td>1.0</td>\n",
              "      <td>No</td>\n",
              "      <td>0.0</td>\n",
              "      <td>0.24</td>\n",
              "      <td>0.14</td>\n",
              "      <td>0.0</td>\n",
              "      <td>Yes</td>\n",
              "      <td>No</td>\n",
              "      <td>No</td>\n",
              "      <td>Yes</td>\n",
              "      <td>No</td>\n",
              "      <td>No</td>\n",
              "    </tr>\n",
              "  </tbody>\n",
              "</table>\n",
              "</div>"
            ],
            "text/plain": [
              "             sku  national_inv  ...  rev_stop  went_on_backorder\n",
              "1642057  3240004           5.0  ...        No                 No\n",
              "1101331  1464265          10.0  ...        No                 No\n",
              "386890   1734851          26.0  ...        No                 No\n",
              "1240515  2822084           2.0  ...        No                 No\n",
              "633338   1981313           7.0  ...        No                 No\n",
              "\n",
              "[5 rows x 23 columns]"
            ]
          },
          "metadata": {
            "tags": []
          },
          "execution_count": 294
        }
      ]
    },
    {
      "cell_type": "code",
      "metadata": {
        "colab": {
          "base_uri": "https://localhost:8080/",
          "height": 326
        },
        "id": "7BvtOR00KgjC",
        "outputId": "d2e20524-1485-4098-cfef-203007a710a0"
      },
      "source": [
        "\"\"\"Okay we have successfully balanced our\n",
        "dataset now. Lets try to visualize our dataset\n",
        "and see our results.\"\"\"\n",
        "plt.figure(figsize=(15, 5))\n",
        "plt.subplot(1, 2, 1)\n",
        "balanced_dt[\"went_on_backorder\"].value_counts().plot(kind=\"bar\")\n",
        "plt.subplot(1, 2, 2)\n",
        "balanced_dt[\"went_on_backorder\"].value_counts().plot(kind=\"pie\")\n",
        "plt.show()"
      ],
      "execution_count": null,
      "outputs": [
        {
          "output_type": "display_data",
          "data": {
            "image/png": "[encoded data removed]",
            "text/plain": [
              "<Figure size 1080x360 with 2 Axes>"
            ]
          },
          "metadata": {
            "tags": [],
            "needs_background": "light"
          }
        }
      ]
    },
    {
      "cell_type": "markdown",
      "metadata": {
        "id": "gIj4233mLwkO"
      },
      "source": [
        "Okay so we have successfully balanced our dataset. Okay so we are going to start with our preprocessing steps. We will now split our dataset into training and test because both were given to us saperatelly. But before we get started with our preprocessing steps, we will saperate our dataset into **x_train** and **y_train** then drop our highly correlated features and **lead_time** feature. Now lets get started."
      ]
    },
    {
      "cell_type": "code",
      "metadata": {
        "id": "HdFZKvoHLkOo"
      },
      "source": [
        "#Split dataset into x_train and y_train\n",
        "x_train = balanced_dt.drop(\"went_on_backorder\", axis=1)\n",
        "y_train = balanced_dt[\"went_on_backorder\"]"
      ],
      "execution_count": null,
      "outputs": []
    },
    {
      "cell_type": "code",
      "metadata": {
        "colab": {
          "base_uri": "https://localhost:8080/",
          "height": 215
        },
        "id": "YVH6FVUGNSGe",
        "outputId": "41bcbc20-e352-44e0-a0ff-b702d21fe7ca"
      },
      "source": [
        "#Display x_train dataset\n",
        "x_train.head()"
      ],
      "execution_count": null,
      "outputs": [
        {
          "output_type": "execute_result",
          "data": {
            "text/html": [
              "<div>\n",
              "<style scoped>\n",
              "    .dataframe tbody tr th:only-of-type {\n",
              "        vertical-align: middle;\n",
              "    }\n",
              "\n",
              "    .dataframe tbody tr th {\n",
              "        vertical-align: top;\n",
              "    }\n",
              "\n",
              "    .dataframe thead th {\n",
              "        text-align: right;\n",
              "    }\n",
              "</style>\n",
              "<table border=\"1\" class=\"dataframe\">\n",
              "  <thead>\n",
              "    <tr style=\"text-align: right;\">\n",
              "      <th></th>\n",
              "      <th>sku</th>\n",
              "      <th>national_inv</th>\n",
              "      <th>lead_time</th>\n",
              "      <th>in_transit_qty</th>\n",
              "      <th>forecast_3_month</th>\n",
              "      <th>forecast_6_month</th>\n",
              "      <th>forecast_9_month</th>\n",
              "      <th>sales_1_month</th>\n",
              "      <th>sales_3_month</th>\n",
              "      <th>sales_6_month</th>\n",
              "      <th>sales_9_month</th>\n",
              "      <th>min_bank</th>\n",
              "      <th>potential_issue</th>\n",
              "      <th>pieces_past_due</th>\n",
              "      <th>perf_6_month_avg</th>\n",
              "      <th>perf_12_month_avg</th>\n",
              "      <th>local_bo_qty</th>\n",
              "      <th>deck_risk</th>\n",
              "      <th>oe_constraint</th>\n",
              "      <th>ppap_risk</th>\n",
              "      <th>stop_auto_buy</th>\n",
              "      <th>rev_stop</th>\n",
              "    </tr>\n",
              "  </thead>\n",
              "  <tbody>\n",
              "    <tr>\n",
              "      <th>1642057</th>\n",
              "      <td>3240004</td>\n",
              "      <td>5.0</td>\n",
              "      <td>8.0</td>\n",
              "      <td>0.0</td>\n",
              "      <td>0.0</td>\n",
              "      <td>0.0</td>\n",
              "      <td>0.0</td>\n",
              "      <td>0.0</td>\n",
              "      <td>0.0</td>\n",
              "      <td>0.0</td>\n",
              "      <td>0.0</td>\n",
              "      <td>1.0</td>\n",
              "      <td>No</td>\n",
              "      <td>0.0</td>\n",
              "      <td>0.92</td>\n",
              "      <td>0.87</td>\n",
              "      <td>0.0</td>\n",
              "      <td>No</td>\n",
              "      <td>No</td>\n",
              "      <td>No</td>\n",
              "      <td>Yes</td>\n",
              "      <td>No</td>\n",
              "    </tr>\n",
              "    <tr>\n",
              "      <th>1101331</th>\n",
              "      <td>1464265</td>\n",
              "      <td>10.0</td>\n",
              "      <td>12.0</td>\n",
              "      <td>8.0</td>\n",
              "      <td>2.0</td>\n",
              "      <td>2.0</td>\n",
              "      <td>2.0</td>\n",
              "      <td>0.0</td>\n",
              "      <td>0.0</td>\n",
              "      <td>0.0</td>\n",
              "      <td>0.0</td>\n",
              "      <td>1.0</td>\n",
              "      <td>No</td>\n",
              "      <td>0.0</td>\n",
              "      <td>0.58</td>\n",
              "      <td>0.58</td>\n",
              "      <td>0.0</td>\n",
              "      <td>Yes</td>\n",
              "      <td>No</td>\n",
              "      <td>No</td>\n",
              "      <td>Yes</td>\n",
              "      <td>No</td>\n",
              "    </tr>\n",
              "    <tr>\n",
              "      <th>386890</th>\n",
              "      <td>1734851</td>\n",
              "      <td>26.0</td>\n",
              "      <td>8.0</td>\n",
              "      <td>0.0</td>\n",
              "      <td>0.0</td>\n",
              "      <td>0.0</td>\n",
              "      <td>0.0</td>\n",
              "      <td>2.0</td>\n",
              "      <td>6.0</td>\n",
              "      <td>13.0</td>\n",
              "      <td>21.0</td>\n",
              "      <td>0.0</td>\n",
              "      <td>No</td>\n",
              "      <td>0.0</td>\n",
              "      <td>0.90</td>\n",
              "      <td>0.95</td>\n",
              "      <td>0.0</td>\n",
              "      <td>No</td>\n",
              "      <td>No</td>\n",
              "      <td>No</td>\n",
              "      <td>Yes</td>\n",
              "      <td>No</td>\n",
              "    </tr>\n",
              "    <tr>\n",
              "      <th>1240515</th>\n",
              "      <td>2822084</td>\n",
              "      <td>2.0</td>\n",
              "      <td>2.0</td>\n",
              "      <td>0.0</td>\n",
              "      <td>0.0</td>\n",
              "      <td>1.0</td>\n",
              "      <td>2.0</td>\n",
              "      <td>0.0</td>\n",
              "      <td>1.0</td>\n",
              "      <td>1.0</td>\n",
              "      <td>1.0</td>\n",
              "      <td>0.0</td>\n",
              "      <td>No</td>\n",
              "      <td>0.0</td>\n",
              "      <td>0.83</td>\n",
              "      <td>0.85</td>\n",
              "      <td>0.0</td>\n",
              "      <td>No</td>\n",
              "      <td>No</td>\n",
              "      <td>Yes</td>\n",
              "      <td>Yes</td>\n",
              "      <td>No</td>\n",
              "    </tr>\n",
              "    <tr>\n",
              "      <th>633338</th>\n",
              "      <td>1981313</td>\n",
              "      <td>7.0</td>\n",
              "      <td>4.0</td>\n",
              "      <td>0.0</td>\n",
              "      <td>0.0</td>\n",
              "      <td>0.0</td>\n",
              "      <td>0.0</td>\n",
              "      <td>0.0</td>\n",
              "      <td>0.0</td>\n",
              "      <td>0.0</td>\n",
              "      <td>0.0</td>\n",
              "      <td>1.0</td>\n",
              "      <td>No</td>\n",
              "      <td>0.0</td>\n",
              "      <td>0.24</td>\n",
              "      <td>0.14</td>\n",
              "      <td>0.0</td>\n",
              "      <td>Yes</td>\n",
              "      <td>No</td>\n",
              "      <td>No</td>\n",
              "      <td>Yes</td>\n",
              "      <td>No</td>\n",
              "    </tr>\n",
              "  </tbody>\n",
              "</table>\n",
              "</div>"
            ],
            "text/plain": [
              "             sku  national_inv  lead_time  ...  ppap_risk  stop_auto_buy  rev_stop\n",
              "1642057  3240004           5.0        8.0  ...         No            Yes        No\n",
              "1101331  1464265          10.0       12.0  ...         No            Yes        No\n",
              "386890   1734851          26.0        8.0  ...         No            Yes        No\n",
              "1240515  2822084           2.0        2.0  ...        Yes            Yes        No\n",
              "633338   1981313           7.0        4.0  ...         No            Yes        No\n",
              "\n",
              "[5 rows x 22 columns]"
            ]
          },
          "metadata": {
            "tags": []
          },
          "execution_count": 297
        }
      ]
    },
    {
      "cell_type": "code",
      "metadata": {
        "colab": {
          "base_uri": "https://localhost:8080/"
        },
        "id": "IpUUDFoDNXAn",
        "outputId": "fd9cbec0-d419-4e54-c6bb-d9da3bf4bc6c"
      },
      "source": [
        "#Display y_train dataset\n",
        "y_train.head()"
      ],
      "execution_count": null,
      "outputs": [
        {
          "output_type": "execute_result",
          "data": {
            "text/plain": [
              "1642057    No\n",
              "1101331    No\n",
              "386890     No\n",
              "1240515    No\n",
              "633338     No\n",
              "Name: went_on_backorder, dtype: object"
            ]
          },
          "metadata": {
            "tags": []
          },
          "execution_count": 298
        }
      ]
    },
    {
      "cell_type": "code",
      "metadata": {
        "colab": {
          "base_uri": "https://localhost:8080/"
        },
        "id": "AdbRBPvONd72",
        "outputId": "d398ee69-5a6b-43df-c195-2126cb12d62a"
      },
      "source": [
        "#Display both shapes\n",
        "x_train.shape, y_train.shape"
      ],
      "execution_count": null,
      "outputs": [
        {
          "output_type": "execute_result",
          "data": {
            "text/plain": [
              "((22586, 22), (22586,))"
            ]
          },
          "metadata": {
            "tags": []
          },
          "execution_count": 299
        }
      ]
    },
    {
      "cell_type": "markdown",
      "metadata": {
        "id": "BiO4s82AOePw"
      },
      "source": [
        "## Drop features"
      ]
    },
    {
      "cell_type": "code",
      "metadata": {
        "colab": {
          "base_uri": "https://localhost:8080/"
        },
        "id": "Ar7K9d1zNxNb",
        "outputId": "0d9cd73d-9c3c-49ad-82ac-d32ed8fab462"
      },
      "source": [
        "#Display highly correlated features\n",
        "correlated_features"
      ],
      "execution_count": null,
      "outputs": [
        {
          "output_type": "execute_result",
          "data": {
            "text/plain": [
              "{'forecast_6_month',\n",
              " 'forecast_9_month',\n",
              " 'perf_12_month_avg',\n",
              " 'sales_3_month',\n",
              " 'sales_6_month',\n",
              " 'sales_9_month'}"
            ]
          },
          "metadata": {
            "tags": []
          },
          "execution_count": 300
        }
      ]
    },
    {
      "cell_type": "code",
      "metadata": {
        "id": "pm-B3XtXNp_F"
      },
      "source": [
        "#Drop highly correlated features with liad time\n",
        "x_train_ = x_train.drop([\n",
        " 'forecast_6_month','forecast_9_month','perf_12_month_avg',\"sku\",\n",
        " 'sales_3_month','sales_6_month','sales_9_month',\"lead_time\"           \n",
        "], axis=1)"
      ],
      "execution_count": null,
      "outputs": []
    },
    {
      "cell_type": "code",
      "metadata": {
        "colab": {
          "base_uri": "https://localhost:8080/"
        },
        "id": "_7b6UW1bOKUl",
        "outputId": "e38cafbe-89f5-4093-ba31-a710460dd019"
      },
      "source": [
        "#Display dataset shape\n",
        "x_train_.shape"
      ],
      "execution_count": null,
      "outputs": [
        {
          "output_type": "execute_result",
          "data": {
            "text/plain": [
              "(22586, 14)"
            ]
          },
          "metadata": {
            "tags": []
          },
          "execution_count": 302
        }
      ]
    },
    {
      "cell_type": "markdown",
      "metadata": {
        "id": "YOEbQ04qPJe4"
      },
      "source": [
        "## Preprocessing train dataset\n",
        "Okay so we are now ready to preprocess our dataset. Now, we are going to use `ColumnTransformer` and `Pipelines` to preprocess our datasets. Here, we are going to perform the following:\n",
        "\n",
        "* Replace Null values based on the distribution of the dataset.\n",
        "* Convert categorical features into numeric.\n",
        "* Scale our dataset based on the distribution of our datasets.\n",
        "\n",
        "Without wasting much time, lets get started.\n"
      ]
    },
    {
      "cell_type": "code",
      "metadata": {
        "id": "Z1JGs-I4OQd0"
      },
      "source": [
        "#Get categorical features\n",
        "cat_cols = x_train_.select_dtypes(include=[\"object\",\"category\"]).columns\n",
        "num_cols = x_train_.select_dtypes(exclude=[\"object\", \"category\"]).columns"
      ],
      "execution_count": null,
      "outputs": []
    },
    {
      "cell_type": "code",
      "metadata": {
        "colab": {
          "base_uri": "https://localhost:8080/"
        },
        "id": "oBsx9lXSQEpD",
        "outputId": "ab7584a4-4778-4594-eeac-05b7a781e449"
      },
      "source": [
        "#Display categorical features\n",
        "cat_cols"
      ],
      "execution_count": null,
      "outputs": [
        {
          "output_type": "execute_result",
          "data": {
            "text/plain": [
              "Index(['potential_issue', 'deck_risk', 'oe_constraint', 'ppap_risk',\n",
              "       'stop_auto_buy', 'rev_stop'],\n",
              "      dtype='object')"
            ]
          },
          "metadata": {
            "tags": []
          },
          "execution_count": 304
        }
      ]
    },
    {
      "cell_type": "code",
      "metadata": {
        "colab": {
          "base_uri": "https://localhost:8080/"
        },
        "id": "Ui_A9f3iQIey",
        "outputId": "a6a06b37-4885-467d-be4a-e70687f4ccb9"
      },
      "source": [
        "#Display numeric features\n",
        "num_cols"
      ],
      "execution_count": null,
      "outputs": [
        {
          "output_type": "execute_result",
          "data": {
            "text/plain": [
              "Index(['national_inv', 'in_transit_qty', 'forecast_3_month', 'sales_1_month',\n",
              "       'min_bank', 'pieces_past_due', 'perf_6_month_avg', 'local_bo_qty'],\n",
              "      dtype='object')"
            ]
          },
          "metadata": {
            "tags": []
          },
          "execution_count": 305
        }
      ]
    },
    {
      "cell_type": "code",
      "metadata": {
        "colab": {
          "base_uri": "https://localhost:8080/",
          "height": 1000
        },
        "id": "xtpNsdbBQvKo",
        "outputId": "4a3a30b7-d224-4fef-b835-2105de431441"
      },
      "source": [
        "#Check distribution of our dataset\n",
        "for col in x_train_[list(x_train_.select_dtypes(exclude=[\"object\"]))]:\n",
        "    plt.figure(figsize=(20,5))\n",
        "    plt.subplot(131)\n",
        "    sns.distplot(x_train_[col], label=\"skew: \"+str(np.round(x_train_[col].skew(),2)))\n",
        "    plt.legend()"
      ],
      "execution_count": null,
      "outputs": [
        {
          "output_type": "display_data",
          "data": {
            "image/png": "[encoded data removed]",
            "text/plain": [
              "<Figure size 1440x360 with 1 Axes>"
            ]
          },
          "metadata": {
            "tags": [],
            "needs_background": "light"
          }
        },
        {
          "output_type": "display_data",
          "data": {
            "image/png": "[encoded data removed]",
            "text/plain": [
              "<Figure size 1440x360 with 1 Axes>"
            ]
          },
          "metadata": {
            "tags": [],
            "needs_background": "light"
          }
        },
        {
          "output_type": "display_data",
          "data": {
            "image/png": "[encoded data removed]",
            "text/plain": [
              "<Figure size 1440x360 with 1 Axes>"
            ]
          },
          "metadata": {
            "tags": [],
            "needs_background": "light"
          }
        },
        {
          "output_type": "display_data",
          "data": {
            "image/png": "[encoded data removed]",
            "text/plain": [
              "<Figure size 1440x360 with 1 Axes>"
            ]
          },
          "metadata": {
            "tags": [],
            "needs_background": "light"
          }
        },
        {
          "output_type": "display_data",
          "data": {
            "image/png": "[encoded data removed]",
            "text/plain": [
              "<Figure size 1440x360 with 1 Axes>"
            ]
          },
          "metadata": {
            "tags": [],
            "needs_background": "light"
          }
        },
        {
          "output_type": "display_data",
          "data": {
            "image/png": "[encoded data removed]",
            "text/plain": [
              "<Figure size 1440x360 with 1 Axes>"
            ]
          },
          "metadata": {
            "tags": [],
            "needs_background": "light"
          }
        },
        {
          "output_type": "display_data",
          "data": {
            "image/png": "[encoded data removed]",
            "text/plain": [
              "<Figure size 1440x360 with 1 Axes>"
            ]
          },
          "metadata": {
            "tags": [],
            "needs_background": "light"
          }
        },
        {
          "output_type": "display_data",
          "data": {
            "image/png": "[encoded data removed]",
            "text/plain": [
              "<Figure size 1440x360 with 1 Axes>"
            ]
          },
          "metadata": {
            "tags": [],
            "needs_background": "light"
          }
        }
      ]
    },
    {
      "cell_type": "code",
      "metadata": {
        "colab": {
          "base_uri": "https://localhost:8080/"
        },
        "id": "YPhIFizv4n0o",
        "outputId": "de556410-99b8-4a25-b6da-c10ec851227a"
      },
      "source": [
        "#Check original dataset null values\n",
        "print(f\"The total number of Nan values in original dataset is: {dataset.isna().sum().sum()}\")\n",
        "print(f\"The total number of Nan values in dataset after balance is: {x_train_.isna().sum().sum()}\")"
      ],
      "execution_count": null,
      "outputs": [
        {
          "output_type": "stream",
          "text": [
            "The total number of Nan values in original dataset is: 100915\n",
            "The total number of Nan values in dataset after balance is: 0\n"
          ],
          "name": "stdout"
        }
      ]
    },
    {
      "cell_type": "markdown",
      "metadata": {
        "id": "i-F3Ir-F5ikA"
      },
      "source": [
        "**Conclusion**\n",
        "After checking the total number of Nan values in original and balanced dataset, we can see that there is no Nan values in our balanced dataset. Why? this is because we used pandas `**sample**` which randomly selected the values in our dataset for us. By doing so, it did not selected the rows with the null values. Hence, we dont have to deal with any null values in our dataset. In other to reproduce the same dataset when we re-run the notebook, we have use `**tf.random.set_seed(42)**` to continueslly generate the same values. Okay so now that we dont have to any null values in our datasets, lets continue by **OneHotEncoiding** our categorical dataset then scale our numeric values. Okay so lets get started now."
      ]
    },
    {
      "cell_type": "code",
      "metadata": {
        "id": "QCHbZ54PQOba"
      },
      "source": [
        "\"\"\"\n",
        "NOTE:\n",
        "  Now we know the distribution of our dataset. Its\n",
        "\"\"\"\n",
        "\n",
        "#Categorical pipeline\n",
        "cat_pip = Pipeline([\n",
        "  (\"step1\", OneHotEncoder(handle_unknown=\"ignore\", sparse=False))\n",
        "])\n",
        "\n",
        "#Numeric pipeline\n",
        "num_pip = Pipeline([\n",
        "  (\"step1\", MinMaxScaler())\n",
        "])\n",
        "\n",
        "#Column transofmer to call our pipelines\n",
        "cat_ = ColumnTransformer([\n",
        "   (\"step1\", cat_pip, cat_cols),\n",
        "   (\"step2\", num_pip, num_cols)\n",
        "], remainder=\"passthrough\")"
      ],
      "execution_count": null,
      "outputs": []
    },
    {
      "cell_type": "code",
      "metadata": {
        "colab": {
          "base_uri": "https://localhost:8080/"
        },
        "id": "O4pbMrs1TRRn",
        "outputId": "6ef965c5-9ab9-42ce-ccb2-7dd18eb4402e"
      },
      "source": [
        "#Fit on train datasets\n",
        "cat_.fit(x_train_)"
      ],
      "execution_count": null,
      "outputs": [
        {
          "output_type": "execute_result",
          "data": {
            "text/plain": [
              "ColumnTransformer(n_jobs=None, remainder='passthrough', sparse_threshold=0.3,\n",
              "                  transformer_weights=None,\n",
              "                  transformers=[('step1',\n",
              "                                 Pipeline(memory=None,\n",
              "                                          steps=[('step1',\n",
              "                                                  OneHotEncoder(categories='auto',\n",
              "                                                                drop=None,\n",
              "                                                                dtype=<class 'numpy.float64'>,\n",
              "                                                                handle_unknown='ignore',\n",
              "                                                                sparse=False))],\n",
              "                                          verbose=False),\n",
              "                                 Index(['potential_issue', 'deck_risk', 'oe_constraint', 'ppap_risk',\n",
              "       'stop_auto_buy', 'rev_stop'],\n",
              "      dtype='object')),\n",
              "                                ('step2',\n",
              "                                 Pipeline(memory=None,\n",
              "                                          steps=[('step1',\n",
              "                                                  MinMaxScaler(copy=True,\n",
              "                                                               feature_range=(0,\n",
              "                                                                              1)))],\n",
              "                                          verbose=False),\n",
              "                                 Index(['national_inv', 'in_transit_qty', 'forecast_3_month', 'sales_1_month',\n",
              "       'min_bank', 'pieces_past_due', 'perf_6_month_avg', 'local_bo_qty'],\n",
              "      dtype='object'))],\n",
              "                  verbose=False)"
            ]
          },
          "metadata": {
            "tags": []
          },
          "execution_count": 309
        }
      ]
    },
    {
      "cell_type": "code",
      "metadata": {
        "colab": {
          "base_uri": "https://localhost:8080/"
        },
        "id": "I19oWc1b72cN",
        "outputId": "d446c67b-5ed8-4709-fe60-76f8502b17c6"
      },
      "source": [
        "#Transform on train dataset\n",
        "xxtrain = cat_.transform(x_train_)\n",
        "\n",
        "#Display\n",
        "xxtrain"
      ],
      "execution_count": null,
      "outputs": [
        {
          "output_type": "execute_result",
          "data": {
            "text/plain": [
              "array([[1.00000000e+00, 0.00000000e+00, 1.00000000e+00, ...,\n",
              "        0.00000000e+00, 9.99200000e-01, 0.00000000e+00],\n",
              "       [1.00000000e+00, 0.00000000e+00, 0.00000000e+00, ...,\n",
              "        0.00000000e+00, 9.95800000e-01, 0.00000000e+00],\n",
              "       [1.00000000e+00, 0.00000000e+00, 1.00000000e+00, ...,\n",
              "        0.00000000e+00, 9.99000000e-01, 0.00000000e+00],\n",
              "       ...,\n",
              "       [1.00000000e+00, 0.00000000e+00, 1.00000000e+00, ...,\n",
              "        0.00000000e+00, 9.94400000e-01, 1.94594595e-02],\n",
              "       [1.00000000e+00, 0.00000000e+00, 1.00000000e+00, ...,\n",
              "        0.00000000e+00, 9.99800000e-01, 6.17760618e-04],\n",
              "       [1.00000000e+00, 0.00000000e+00, 0.00000000e+00, ...,\n",
              "        0.00000000e+00, 9.98600000e-01, 1.54440154e-04]])"
            ]
          },
          "metadata": {
            "tags": []
          },
          "execution_count": 310
        }
      ]
    },
    {
      "cell_type": "code",
      "metadata": {
        "colab": {
          "base_uri": "https://localhost:8080/"
        },
        "id": "Zwn1J0bw8PRT",
        "outputId": "c673d5c4-7b49-4721-c6d6-cf5382b6b7e5"
      },
      "source": [
        "#Display onehotencoded columns(categorical features)\n",
        "cat_.transformers_[0][1].named_steps[\"step1\"].get_feature_names()"
      ],
      "execution_count": null,
      "outputs": [
        {
          "output_type": "execute_result",
          "data": {
            "text/plain": [
              "array(['x0_No', 'x0_Yes', 'x1_No', 'x1_Yes', 'x2_No', 'x2_Yes', 'x3_No',\n",
              "       'x3_Yes', 'x4_No', 'x4_Yes', 'x5_No', 'x5_Yes'], dtype=object)"
            ]
          },
          "metadata": {
            "tags": []
          },
          "execution_count": 311
        }
      ]
    },
    {
      "cell_type": "code",
      "metadata": {
        "colab": {
          "base_uri": "https://localhost:8080/"
        },
        "id": "ohpSiJwP8TBb",
        "outputId": "db393c39-8ea2-44a5-92fe-57fad5d263f9"
      },
      "source": [
        "#Display categorical features\n",
        "num_cols"
      ],
      "execution_count": null,
      "outputs": [
        {
          "output_type": "execute_result",
          "data": {
            "text/plain": [
              "Index(['national_inv', 'in_transit_qty', 'forecast_3_month', 'sales_1_month',\n",
              "       'min_bank', 'pieces_past_due', 'perf_6_month_avg', 'local_bo_qty'],\n",
              "      dtype='object')"
            ]
          },
          "metadata": {
            "tags": []
          },
          "execution_count": 312
        }
      ]
    },
    {
      "cell_type": "code",
      "metadata": {
        "colab": {
          "base_uri": "https://localhost:8080/",
          "height": 215
        },
        "id": "DqiEpTzV3aPC",
        "outputId": "14e2138b-0976-4d2c-b066-bf827d041e30"
      },
      "source": [
        "#Create a dataframe out of our results\n",
        "xxtrain_ = pd.DataFrame(xxtrain, columns=['x0_No', 'x0_Yes', 'x1_No', 'x1_Yes', 'x2_No', 'x2_Yes', 'x3_No',\n",
        "                                'x3_Yes', 'x4_No', 'x4_Yes', 'x5_No', 'x5_Yes','national_inv', 'in_transit_qty', \n",
        "                               'forecast_3_month', 'sales_1_month','min_bank', 'pieces_past_due', 'perf_6_month_avg', \n",
        "                               'local_bo_qty'])\n",
        "\n",
        "#Display results\n",
        "xxtrain_.head()"
      ],
      "execution_count": null,
      "outputs": [
        {
          "output_type": "execute_result",
          "data": {
            "text/html": [
              "<div>\n",
              "<style scoped>\n",
              "    .dataframe tbody tr th:only-of-type {\n",
              "        vertical-align: middle;\n",
              "    }\n",
              "\n",
              "    .dataframe tbody tr th {\n",
              "        vertical-align: top;\n",
              "    }\n",
              "\n",
              "    .dataframe thead th {\n",
              "        text-align: right;\n",
              "    }\n",
              "</style>\n",
              "<table border=\"1\" class=\"dataframe\">\n",
              "  <thead>\n",
              "    <tr style=\"text-align: right;\">\n",
              "      <th></th>\n",
              "      <th>x0_No</th>\n",
              "      <th>x0_Yes</th>\n",
              "      <th>x1_No</th>\n",
              "      <th>x1_Yes</th>\n",
              "      <th>x2_No</th>\n",
              "      <th>x2_Yes</th>\n",
              "      <th>x3_No</th>\n",
              "      <th>x3_Yes</th>\n",
              "      <th>x4_No</th>\n",
              "      <th>x4_Yes</th>\n",
              "      <th>x5_No</th>\n",
              "      <th>x5_Yes</th>\n",
              "      <th>national_inv</th>\n",
              "      <th>in_transit_qty</th>\n",
              "      <th>forecast_3_month</th>\n",
              "      <th>sales_1_month</th>\n",
              "      <th>min_bank</th>\n",
              "      <th>pieces_past_due</th>\n",
              "      <th>perf_6_month_avg</th>\n",
              "      <th>local_bo_qty</th>\n",
              "    </tr>\n",
              "  </thead>\n",
              "  <tbody>\n",
              "    <tr>\n",
              "      <th>0</th>\n",
              "      <td>1.0</td>\n",
              "      <td>0.0</td>\n",
              "      <td>1.0</td>\n",
              "      <td>0.0</td>\n",
              "      <td>1.0</td>\n",
              "      <td>0.0</td>\n",
              "      <td>1.0</td>\n",
              "      <td>0.0</td>\n",
              "      <td>0.0</td>\n",
              "      <td>1.0</td>\n",
              "      <td>1.0</td>\n",
              "      <td>0.0</td>\n",
              "      <td>0.006280</td>\n",
              "      <td>0.000000</td>\n",
              "      <td>0.000000</td>\n",
              "      <td>0.000000</td>\n",
              "      <td>0.000021</td>\n",
              "      <td>0.0</td>\n",
              "      <td>0.9992</td>\n",
              "      <td>0.0</td>\n",
              "    </tr>\n",
              "    <tr>\n",
              "      <th>1</th>\n",
              "      <td>1.0</td>\n",
              "      <td>0.0</td>\n",
              "      <td>0.0</td>\n",
              "      <td>1.0</td>\n",
              "      <td>1.0</td>\n",
              "      <td>0.0</td>\n",
              "      <td>1.0</td>\n",
              "      <td>0.0</td>\n",
              "      <td>0.0</td>\n",
              "      <td>1.0</td>\n",
              "      <td>1.0</td>\n",
              "      <td>0.0</td>\n",
              "      <td>0.006283</td>\n",
              "      <td>0.000102</td>\n",
              "      <td>0.000007</td>\n",
              "      <td>0.000000</td>\n",
              "      <td>0.000021</td>\n",
              "      <td>0.0</td>\n",
              "      <td>0.9958</td>\n",
              "      <td>0.0</td>\n",
              "    </tr>\n",
              "    <tr>\n",
              "      <th>2</th>\n",
              "      <td>1.0</td>\n",
              "      <td>0.0</td>\n",
              "      <td>1.0</td>\n",
              "      <td>0.0</td>\n",
              "      <td>1.0</td>\n",
              "      <td>0.0</td>\n",
              "      <td>1.0</td>\n",
              "      <td>0.0</td>\n",
              "      <td>0.0</td>\n",
              "      <td>1.0</td>\n",
              "      <td>1.0</td>\n",
              "      <td>0.0</td>\n",
              "      <td>0.006296</td>\n",
              "      <td>0.000000</td>\n",
              "      <td>0.000000</td>\n",
              "      <td>0.000035</td>\n",
              "      <td>0.000000</td>\n",
              "      <td>0.0</td>\n",
              "      <td>0.9990</td>\n",
              "      <td>0.0</td>\n",
              "    </tr>\n",
              "    <tr>\n",
              "      <th>3</th>\n",
              "      <td>1.0</td>\n",
              "      <td>0.0</td>\n",
              "      <td>1.0</td>\n",
              "      <td>0.0</td>\n",
              "      <td>1.0</td>\n",
              "      <td>0.0</td>\n",
              "      <td>0.0</td>\n",
              "      <td>1.0</td>\n",
              "      <td>0.0</td>\n",
              "      <td>1.0</td>\n",
              "      <td>1.0</td>\n",
              "      <td>0.0</td>\n",
              "      <td>0.006277</td>\n",
              "      <td>0.000000</td>\n",
              "      <td>0.000000</td>\n",
              "      <td>0.000000</td>\n",
              "      <td>0.000000</td>\n",
              "      <td>0.0</td>\n",
              "      <td>0.9983</td>\n",
              "      <td>0.0</td>\n",
              "    </tr>\n",
              "    <tr>\n",
              "      <th>4</th>\n",
              "      <td>1.0</td>\n",
              "      <td>0.0</td>\n",
              "      <td>0.0</td>\n",
              "      <td>1.0</td>\n",
              "      <td>1.0</td>\n",
              "      <td>0.0</td>\n",
              "      <td>1.0</td>\n",
              "      <td>0.0</td>\n",
              "      <td>0.0</td>\n",
              "      <td>1.0</td>\n",
              "      <td>1.0</td>\n",
              "      <td>0.0</td>\n",
              "      <td>0.006281</td>\n",
              "      <td>0.000000</td>\n",
              "      <td>0.000000</td>\n",
              "      <td>0.000000</td>\n",
              "      <td>0.000021</td>\n",
              "      <td>0.0</td>\n",
              "      <td>0.9924</td>\n",
              "      <td>0.0</td>\n",
              "    </tr>\n",
              "  </tbody>\n",
              "</table>\n",
              "</div>"
            ],
            "text/plain": [
              "   x0_No  x0_Yes  x1_No  ...  pieces_past_due  perf_6_month_avg  local_bo_qty\n",
              "0    1.0     0.0    1.0  ...              0.0            0.9992           0.0\n",
              "1    1.0     0.0    0.0  ...              0.0            0.9958           0.0\n",
              "2    1.0     0.0    1.0  ...              0.0            0.9990           0.0\n",
              "3    1.0     0.0    1.0  ...              0.0            0.9983           0.0\n",
              "4    1.0     0.0    0.0  ...              0.0            0.9924           0.0\n",
              "\n",
              "[5 rows x 20 columns]"
            ]
          },
          "metadata": {
            "tags": []
          },
          "execution_count": 313
        }
      ]
    },
    {
      "cell_type": "markdown",
      "metadata": {
        "id": "HvFcGhL99w1N"
      },
      "source": [
        "Okay so now we have successfully preproccessed our train dataset. Now we are going to perform feature selection. We are going to select the most eight(8) import features to train or build our model from.But before we do that, we are going to **label encode** our y_train dataset. Okay so now lets get started."
      ]
    },
    {
      "cell_type": "code",
      "metadata": {
        "id": "hSgcYOLr-rfY"
      },
      "source": [
        "#Initialize label encoding\n",
        "label = LabelEncoder()\n",
        "\n",
        "#Fit on y_train dataset\n",
        "ytrain = label.fit_transform(y_train)"
      ],
      "execution_count": null,
      "outputs": []
    },
    {
      "cell_type": "code",
      "metadata": {
        "colab": {
          "base_uri": "https://localhost:8080/"
        },
        "id": "NmZZ4RKYC6n7",
        "outputId": "c87658b9-058f-47b0-86a4-d25324b9d1d9"
      },
      "source": [
        "#Display results\n",
        "ytrain"
      ],
      "execution_count": null,
      "outputs": [
        {
          "output_type": "execute_result",
          "data": {
            "text/plain": [
              "array([0, 0, 0, ..., 1, 1, 1])"
            ]
          },
          "metadata": {
            "tags": []
          },
          "execution_count": 315
        }
      ]
    },
    {
      "cell_type": "markdown",
      "metadata": {
        "id": "AVUR6gv4-Ikd"
      },
      "source": [
        "## Feature Selection"
      ]
    },
    {
      "cell_type": "code",
      "metadata": {
        "colab": {
          "base_uri": "https://localhost:8080/"
        },
        "id": "DA5lUe7d7QAW",
        "outputId": "a79b8f51-237f-4880-d652-93d1437caa91"
      },
      "source": [
        "#Initialize select KBest\n",
        "KBest = SelectKBest(score_func=chi2, k=8)\n",
        "\n",
        "#Fit on train datasets\n",
        "KBest.fit(xxtrain_, ytrain)"
      ],
      "execution_count": null,
      "outputs": [
        {
          "output_type": "execute_result",
          "data": {
            "text/plain": [
              "SelectKBest(k=8, score_func=<function chi2 at 0x7f848fccd830>)"
            ]
          },
          "metadata": {
            "tags": []
          },
          "execution_count": 316
        }
      ]
    },
    {
      "cell_type": "code",
      "metadata": {
        "colab": {
          "base_uri": "https://localhost:8080/"
        },
        "id": "HKPcus1b-YVm",
        "outputId": "fd38f6c1-1b26-4dd0-f8cf-8c589bac2365"
      },
      "source": [
        "#Get score\n",
        "scores = KBest.scores_\n",
        "\n",
        "#Display scores\n",
        "scores"
      ],
      "execution_count": null,
      "outputs": [
        {
          "output_type": "execute_result",
          "data": {
            "text/plain": [
              "array([8.59375000e-02, 3.33793103e+01, 2.30459465e+01, 9.31924967e+01,\n",
              "       1.10741971e-03, 2.27272727e+00, 6.09602308e+00, 3.72829238e+01,\n",
              "       6.85433526e+00, 2.72961650e-01, 3.98529868e-04, 3.00000000e+00,\n",
              "       1.18327689e-01, 4.20671752e+00, 8.22748160e-02, 9.11862768e-01,\n",
              "       1.95581903e+00, 2.75452859e-02, 8.59071136e+00, 3.94253706e+00])"
            ]
          },
          "metadata": {
            "tags": []
          },
          "execution_count": 317
        }
      ]
    },
    {
      "cell_type": "code",
      "metadata": {
        "colab": {
          "base_uri": "https://localhost:8080/",
          "height": 284
        },
        "id": "PASJCT6R-cOk",
        "outputId": "06592c8a-12a2-45cc-b018-9733ececaf91"
      },
      "source": [
        "#Create a dataframe from our scores and features\n",
        "pd.DataFrame({\n",
        "    \"Features\": xxtrain_.columns,\n",
        "    \"Scores\": scores\n",
        "}).sort_values(by=\"Scores\", ascending=False).head(8)"
      ],
      "execution_count": null,
      "outputs": [
        {
          "output_type": "execute_result",
          "data": {
            "text/html": [
              "<div>\n",
              "<style scoped>\n",
              "    .dataframe tbody tr th:only-of-type {\n",
              "        vertical-align: middle;\n",
              "    }\n",
              "\n",
              "    .dataframe tbody tr th {\n",
              "        vertical-align: top;\n",
              "    }\n",
              "\n",
              "    .dataframe thead th {\n",
              "        text-align: right;\n",
              "    }\n",
              "</style>\n",
              "<table border=\"1\" class=\"dataframe\">\n",
              "  <thead>\n",
              "    <tr style=\"text-align: right;\">\n",
              "      <th></th>\n",
              "      <th>Features</th>\n",
              "      <th>Scores</th>\n",
              "    </tr>\n",
              "  </thead>\n",
              "  <tbody>\n",
              "    <tr>\n",
              "      <th>3</th>\n",
              "      <td>x1_Yes</td>\n",
              "      <td>93.192497</td>\n",
              "    </tr>\n",
              "    <tr>\n",
              "      <th>7</th>\n",
              "      <td>x3_Yes</td>\n",
              "      <td>37.282924</td>\n",
              "    </tr>\n",
              "    <tr>\n",
              "      <th>1</th>\n",
              "      <td>x0_Yes</td>\n",
              "      <td>33.379310</td>\n",
              "    </tr>\n",
              "    <tr>\n",
              "      <th>2</th>\n",
              "      <td>x1_No</td>\n",
              "      <td>23.045947</td>\n",
              "    </tr>\n",
              "    <tr>\n",
              "      <th>18</th>\n",
              "      <td>perf_6_month_avg</td>\n",
              "      <td>8.590711</td>\n",
              "    </tr>\n",
              "    <tr>\n",
              "      <th>8</th>\n",
              "      <td>x4_No</td>\n",
              "      <td>6.854335</td>\n",
              "    </tr>\n",
              "    <tr>\n",
              "      <th>6</th>\n",
              "      <td>x3_No</td>\n",
              "      <td>6.096023</td>\n",
              "    </tr>\n",
              "    <tr>\n",
              "      <th>13</th>\n",
              "      <td>in_transit_qty</td>\n",
              "      <td>4.206718</td>\n",
              "    </tr>\n",
              "  </tbody>\n",
              "</table>\n",
              "</div>"
            ],
            "text/plain": [
              "            Features     Scores\n",
              "3             x1_Yes  93.192497\n",
              "7             x3_Yes  37.282924\n",
              "1             x0_Yes  33.379310\n",
              "2              x1_No  23.045947\n",
              "18  perf_6_month_avg   8.590711\n",
              "8              x4_No   6.854335\n",
              "6              x3_No   6.096023\n",
              "13    in_transit_qty   4.206718"
            ]
          },
          "metadata": {
            "tags": []
          },
          "execution_count": 318
        }
      ]
    },
    {
      "cell_type": "code",
      "metadata": {
        "colab": {
          "base_uri": "https://localhost:8080/",
          "height": 195
        },
        "id": "aHl0ZFbREBn1",
        "outputId": "d7ad9a4c-1624-46a0-83a0-a6bf07f9ec7f"
      },
      "source": [
        "\"\"\"Okay so now we are going to take some\n",
        "  features from our dataset based on our\n",
        "  score from above. Note: we will not \n",
        "  include x1_No and x3_No.\"\"\"\n",
        "\n",
        "#Get dataset for model building\n",
        "train_data = xxtrain_[[\n",
        "\"x1_Yes\",\"x3_Yes\",\"x0_Yes\",\"local_bo_qty\",\n",
        "\"perf_6_month_avg\",\"x5_Yes\"]]\n",
        "\n",
        "#Display results\n",
        "train_data.head()"
      ],
      "execution_count": null,
      "outputs": [
        {
          "output_type": "execute_result",
          "data": {
            "text/html": [
              "<div>\n",
              "<style scoped>\n",
              "    .dataframe tbody tr th:only-of-type {\n",
              "        vertical-align: middle;\n",
              "    }\n",
              "\n",
              "    .dataframe tbody tr th {\n",
              "        vertical-align: top;\n",
              "    }\n",
              "\n",
              "    .dataframe thead th {\n",
              "        text-align: right;\n",
              "    }\n",
              "</style>\n",
              "<table border=\"1\" class=\"dataframe\">\n",
              "  <thead>\n",
              "    <tr style=\"text-align: right;\">\n",
              "      <th></th>\n",
              "      <th>x1_Yes</th>\n",
              "      <th>x3_Yes</th>\n",
              "      <th>x0_Yes</th>\n",
              "      <th>local_bo_qty</th>\n",
              "      <th>perf_6_month_avg</th>\n",
              "      <th>x5_Yes</th>\n",
              "    </tr>\n",
              "  </thead>\n",
              "  <tbody>\n",
              "    <tr>\n",
              "      <th>0</th>\n",
              "      <td>0.0</td>\n",
              "      <td>0.0</td>\n",
              "      <td>0.0</td>\n",
              "      <td>0.0</td>\n",
              "      <td>0.9992</td>\n",
              "      <td>0.0</td>\n",
              "    </tr>\n",
              "    <tr>\n",
              "      <th>1</th>\n",
              "      <td>1.0</td>\n",
              "      <td>0.0</td>\n",
              "      <td>0.0</td>\n",
              "      <td>0.0</td>\n",
              "      <td>0.9958</td>\n",
              "      <td>0.0</td>\n",
              "    </tr>\n",
              "    <tr>\n",
              "      <th>2</th>\n",
              "      <td>0.0</td>\n",
              "      <td>0.0</td>\n",
              "      <td>0.0</td>\n",
              "      <td>0.0</td>\n",
              "      <td>0.9990</td>\n",
              "      <td>0.0</td>\n",
              "    </tr>\n",
              "    <tr>\n",
              "      <th>3</th>\n",
              "      <td>0.0</td>\n",
              "      <td>1.0</td>\n",
              "      <td>0.0</td>\n",
              "      <td>0.0</td>\n",
              "      <td>0.9983</td>\n",
              "      <td>0.0</td>\n",
              "    </tr>\n",
              "    <tr>\n",
              "      <th>4</th>\n",
              "      <td>1.0</td>\n",
              "      <td>0.0</td>\n",
              "      <td>0.0</td>\n",
              "      <td>0.0</td>\n",
              "      <td>0.9924</td>\n",
              "      <td>0.0</td>\n",
              "    </tr>\n",
              "  </tbody>\n",
              "</table>\n",
              "</div>"
            ],
            "text/plain": [
              "   x1_Yes  x3_Yes  x0_Yes  local_bo_qty  perf_6_month_avg  x5_Yes\n",
              "0     0.0     0.0     0.0           0.0            0.9992     0.0\n",
              "1     1.0     0.0     0.0           0.0            0.9958     0.0\n",
              "2     0.0     0.0     0.0           0.0            0.9990     0.0\n",
              "3     0.0     1.0     0.0           0.0            0.9983     0.0\n",
              "4     1.0     0.0     0.0           0.0            0.9924     0.0"
            ]
          },
          "metadata": {
            "tags": []
          },
          "execution_count": 319
        }
      ]
    },
    {
      "cell_type": "markdown",
      "metadata": {
        "id": "us3XtB6dGeD0"
      },
      "source": [
        "We wonted to select 8 features but we ended up selecting only 6 features to build our model on. Okay so now we are going to start preprocessing our test datasets. Lets get started now."
      ]
    },
    {
      "cell_type": "markdown",
      "metadata": {
        "id": "uUs3OMKSGxLV"
      },
      "source": [
        "# Preprocessing Test Data"
      ]
    },
    {
      "cell_type": "code",
      "metadata": {
        "colab": {
          "base_uri": "https://localhost:8080/",
          "height": 215
        },
        "id": "1PiqZLiVGLwO",
        "outputId": "ecb5b98c-5515-4cac-e34a-7eea92381583"
      },
      "source": [
        "#Get dataset\n",
        "test_df = pd.read_csv(\"/content/dataset/Kaggle_Training_Dataset_v2.csv\", na_values=[\"!\",'\"',\"#\",\"%\",\"&\",\"'\",\"(\",\")\",\n",
        "\"*\",\"+\",\",\",\"-\",\".\",\"/\",\":\",\";\",\"<\",\"=\",\">\",\"?\",\"@\",\"[\",\"\\\\\",\"]\",\"^\",\"_\",\"`\",\"{\",\"|\",\"}\",\"~\",\"–\"])\n",
        "\n",
        "#Display results\n",
        "test_df.head()"
      ],
      "execution_count": null,
      "outputs": [
        {
          "output_type": "execute_result",
          "data": {
            "text/html": [
              "<div>\n",
              "<style scoped>\n",
              "    .dataframe tbody tr th:only-of-type {\n",
              "        vertical-align: middle;\n",
              "    }\n",
              "\n",
              "    .dataframe tbody tr th {\n",
              "        vertical-align: top;\n",
              "    }\n",
              "\n",
              "    .dataframe thead th {\n",
              "        text-align: right;\n",
              "    }\n",
              "</style>\n",
              "<table border=\"1\" class=\"dataframe\">\n",
              "  <thead>\n",
              "    <tr style=\"text-align: right;\">\n",
              "      <th></th>\n",
              "      <th>sku</th>\n",
              "      <th>national_inv</th>\n",
              "      <th>lead_time</th>\n",
              "      <th>in_transit_qty</th>\n",
              "      <th>forecast_3_month</th>\n",
              "      <th>forecast_6_month</th>\n",
              "      <th>forecast_9_month</th>\n",
              "      <th>sales_1_month</th>\n",
              "      <th>sales_3_month</th>\n",
              "      <th>sales_6_month</th>\n",
              "      <th>sales_9_month</th>\n",
              "      <th>min_bank</th>\n",
              "      <th>potential_issue</th>\n",
              "      <th>pieces_past_due</th>\n",
              "      <th>perf_6_month_avg</th>\n",
              "      <th>perf_12_month_avg</th>\n",
              "      <th>local_bo_qty</th>\n",
              "      <th>deck_risk</th>\n",
              "      <th>oe_constraint</th>\n",
              "      <th>ppap_risk</th>\n",
              "      <th>stop_auto_buy</th>\n",
              "      <th>rev_stop</th>\n",
              "      <th>went_on_backorder</th>\n",
              "    </tr>\n",
              "  </thead>\n",
              "  <tbody>\n",
              "    <tr>\n",
              "      <th>0</th>\n",
              "      <td>1026827</td>\n",
              "      <td>0.0</td>\n",
              "      <td>NaN</td>\n",
              "      <td>0.0</td>\n",
              "      <td>0.0</td>\n",
              "      <td>0.0</td>\n",
              "      <td>0.0</td>\n",
              "      <td>0.0</td>\n",
              "      <td>0.0</td>\n",
              "      <td>0.0</td>\n",
              "      <td>0.0</td>\n",
              "      <td>0.0</td>\n",
              "      <td>No</td>\n",
              "      <td>0.0</td>\n",
              "      <td>-99.00</td>\n",
              "      <td>-99.00</td>\n",
              "      <td>0.0</td>\n",
              "      <td>No</td>\n",
              "      <td>No</td>\n",
              "      <td>No</td>\n",
              "      <td>Yes</td>\n",
              "      <td>No</td>\n",
              "      <td>No</td>\n",
              "    </tr>\n",
              "    <tr>\n",
              "      <th>1</th>\n",
              "      <td>1043384</td>\n",
              "      <td>2.0</td>\n",
              "      <td>9.0</td>\n",
              "      <td>0.0</td>\n",
              "      <td>0.0</td>\n",
              "      <td>0.0</td>\n",
              "      <td>0.0</td>\n",
              "      <td>0.0</td>\n",
              "      <td>0.0</td>\n",
              "      <td>0.0</td>\n",
              "      <td>0.0</td>\n",
              "      <td>0.0</td>\n",
              "      <td>No</td>\n",
              "      <td>0.0</td>\n",
              "      <td>0.99</td>\n",
              "      <td>0.99</td>\n",
              "      <td>0.0</td>\n",
              "      <td>No</td>\n",
              "      <td>No</td>\n",
              "      <td>No</td>\n",
              "      <td>Yes</td>\n",
              "      <td>No</td>\n",
              "      <td>No</td>\n",
              "    </tr>\n",
              "    <tr>\n",
              "      <th>2</th>\n",
              "      <td>1043696</td>\n",
              "      <td>2.0</td>\n",
              "      <td>NaN</td>\n",
              "      <td>0.0</td>\n",
              "      <td>0.0</td>\n",
              "      <td>0.0</td>\n",
              "      <td>0.0</td>\n",
              "      <td>0.0</td>\n",
              "      <td>0.0</td>\n",
              "      <td>0.0</td>\n",
              "      <td>0.0</td>\n",
              "      <td>0.0</td>\n",
              "      <td>No</td>\n",
              "      <td>0.0</td>\n",
              "      <td>-99.00</td>\n",
              "      <td>-99.00</td>\n",
              "      <td>0.0</td>\n",
              "      <td>Yes</td>\n",
              "      <td>No</td>\n",
              "      <td>No</td>\n",
              "      <td>Yes</td>\n",
              "      <td>No</td>\n",
              "      <td>No</td>\n",
              "    </tr>\n",
              "    <tr>\n",
              "      <th>3</th>\n",
              "      <td>1043852</td>\n",
              "      <td>7.0</td>\n",
              "      <td>8.0</td>\n",
              "      <td>0.0</td>\n",
              "      <td>0.0</td>\n",
              "      <td>0.0</td>\n",
              "      <td>0.0</td>\n",
              "      <td>0.0</td>\n",
              "      <td>0.0</td>\n",
              "      <td>0.0</td>\n",
              "      <td>0.0</td>\n",
              "      <td>1.0</td>\n",
              "      <td>No</td>\n",
              "      <td>0.0</td>\n",
              "      <td>0.10</td>\n",
              "      <td>0.13</td>\n",
              "      <td>0.0</td>\n",
              "      <td>No</td>\n",
              "      <td>No</td>\n",
              "      <td>No</td>\n",
              "      <td>Yes</td>\n",
              "      <td>No</td>\n",
              "      <td>No</td>\n",
              "    </tr>\n",
              "    <tr>\n",
              "      <th>4</th>\n",
              "      <td>1044048</td>\n",
              "      <td>8.0</td>\n",
              "      <td>NaN</td>\n",
              "      <td>0.0</td>\n",
              "      <td>0.0</td>\n",
              "      <td>0.0</td>\n",
              "      <td>0.0</td>\n",
              "      <td>0.0</td>\n",
              "      <td>0.0</td>\n",
              "      <td>0.0</td>\n",
              "      <td>4.0</td>\n",
              "      <td>2.0</td>\n",
              "      <td>No</td>\n",
              "      <td>0.0</td>\n",
              "      <td>-99.00</td>\n",
              "      <td>-99.00</td>\n",
              "      <td>0.0</td>\n",
              "      <td>Yes</td>\n",
              "      <td>No</td>\n",
              "      <td>No</td>\n",
              "      <td>Yes</td>\n",
              "      <td>No</td>\n",
              "      <td>No</td>\n",
              "    </tr>\n",
              "  </tbody>\n",
              "</table>\n",
              "</div>"
            ],
            "text/plain": [
              "       sku  national_inv  lead_time  ...  stop_auto_buy  rev_stop  went_on_backorder\n",
              "0  1026827           0.0        NaN  ...            Yes        No                 No\n",
              "1  1043384           2.0        9.0  ...            Yes        No                 No\n",
              "2  1043696           2.0        NaN  ...            Yes        No                 No\n",
              "3  1043852           7.0        8.0  ...            Yes        No                 No\n",
              "4  1044048           8.0        NaN  ...            Yes        No                 No\n",
              "\n",
              "[5 rows x 23 columns]"
            ]
          },
          "metadata": {
            "tags": []
          },
          "execution_count": 320
        }
      ]
    },
    {
      "cell_type": "markdown",
      "metadata": {
        "id": "LEw-jcZDHga5"
      },
      "source": [
        "## Balance test Dataset"
      ]
    },
    {
      "cell_type": "code",
      "metadata": {
        "id": "GAFmTf20G99c"
      },
      "source": [
        "#Split dataset into went_on_backorder = yes and went_on_backorder = no. Lets get started.\n",
        "test_yes = test_df[test_df[\"went_on_backorder\"] == \"Yes\"]\n",
        "test_no = test_df[test_df[\"went_on_backorder\"] == \"No\"]"
      ],
      "execution_count": null,
      "outputs": []
    },
    {
      "cell_type": "code",
      "metadata": {
        "id": "QcPuxRxqK-Bl"
      },
      "source": [
        "#Set random seed\n",
        "tf.random.set_seed(42)\n",
        "\n",
        "#Get generated dataset\n",
        "test_no_ = test_no.sample(test_yes.shape[0])"
      ],
      "execution_count": null,
      "outputs": []
    },
    {
      "cell_type": "code",
      "metadata": {
        "colab": {
          "base_uri": "https://localhost:8080/",
          "height": 215
        },
        "id": "e2cte72JG-LQ",
        "outputId": "6ed4af3b-c332-41f5-bcfa-d56bd6a46ca7"
      },
      "source": [
        "#Okay so now lets concatnate both into one dataset\n",
        "balanced_test_dt = pd.concat([test_no_, test_yes], axis=0)\n",
        "\n",
        "#Display results\n",
        "balanced_test_dt.head()"
      ],
      "execution_count": null,
      "outputs": [
        {
          "output_type": "execute_result",
          "data": {
            "text/html": [
              "<div>\n",
              "<style scoped>\n",
              "    .dataframe tbody tr th:only-of-type {\n",
              "        vertical-align: middle;\n",
              "    }\n",
              "\n",
              "    .dataframe tbody tr th {\n",
              "        vertical-align: top;\n",
              "    }\n",
              "\n",
              "    .dataframe thead th {\n",
              "        text-align: right;\n",
              "    }\n",
              "</style>\n",
              "<table border=\"1\" class=\"dataframe\">\n",
              "  <thead>\n",
              "    <tr style=\"text-align: right;\">\n",
              "      <th></th>\n",
              "      <th>sku</th>\n",
              "      <th>national_inv</th>\n",
              "      <th>lead_time</th>\n",
              "      <th>in_transit_qty</th>\n",
              "      <th>forecast_3_month</th>\n",
              "      <th>forecast_6_month</th>\n",
              "      <th>forecast_9_month</th>\n",
              "      <th>sales_1_month</th>\n",
              "      <th>sales_3_month</th>\n",
              "      <th>sales_6_month</th>\n",
              "      <th>sales_9_month</th>\n",
              "      <th>min_bank</th>\n",
              "      <th>potential_issue</th>\n",
              "      <th>pieces_past_due</th>\n",
              "      <th>perf_6_month_avg</th>\n",
              "      <th>perf_12_month_avg</th>\n",
              "      <th>local_bo_qty</th>\n",
              "      <th>deck_risk</th>\n",
              "      <th>oe_constraint</th>\n",
              "      <th>ppap_risk</th>\n",
              "      <th>stop_auto_buy</th>\n",
              "      <th>rev_stop</th>\n",
              "      <th>went_on_backorder</th>\n",
              "    </tr>\n",
              "  </thead>\n",
              "  <tbody>\n",
              "    <tr>\n",
              "      <th>134190</th>\n",
              "      <td>1245695</td>\n",
              "      <td>2.0</td>\n",
              "      <td>8.0</td>\n",
              "      <td>0.0</td>\n",
              "      <td>0.0</td>\n",
              "      <td>0.0</td>\n",
              "      <td>0.0</td>\n",
              "      <td>0.0</td>\n",
              "      <td>0.0</td>\n",
              "      <td>0.0</td>\n",
              "      <td>0.0</td>\n",
              "      <td>0.0</td>\n",
              "      <td>No</td>\n",
              "      <td>0.0</td>\n",
              "      <td>0.46</td>\n",
              "      <td>0.35</td>\n",
              "      <td>0.0</td>\n",
              "      <td>No</td>\n",
              "      <td>No</td>\n",
              "      <td>No</td>\n",
              "      <td>Yes</td>\n",
              "      <td>No</td>\n",
              "      <td>No</td>\n",
              "    </tr>\n",
              "    <tr>\n",
              "      <th>630622</th>\n",
              "      <td>1978598</td>\n",
              "      <td>11.0</td>\n",
              "      <td>8.0</td>\n",
              "      <td>0.0</td>\n",
              "      <td>18.0</td>\n",
              "      <td>36.0</td>\n",
              "      <td>36.0</td>\n",
              "      <td>6.0</td>\n",
              "      <td>17.0</td>\n",
              "      <td>31.0</td>\n",
              "      <td>48.0</td>\n",
              "      <td>13.0</td>\n",
              "      <td>No</td>\n",
              "      <td>0.0</td>\n",
              "      <td>0.87</td>\n",
              "      <td>0.88</td>\n",
              "      <td>0.0</td>\n",
              "      <td>No</td>\n",
              "      <td>No</td>\n",
              "      <td>Yes</td>\n",
              "      <td>Yes</td>\n",
              "      <td>No</td>\n",
              "      <td>No</td>\n",
              "    </tr>\n",
              "    <tr>\n",
              "      <th>599795</th>\n",
              "      <td>1947762</td>\n",
              "      <td>15.0</td>\n",
              "      <td>9.0</td>\n",
              "      <td>0.0</td>\n",
              "      <td>0.0</td>\n",
              "      <td>0.0</td>\n",
              "      <td>0.0</td>\n",
              "      <td>0.0</td>\n",
              "      <td>1.0</td>\n",
              "      <td>2.0</td>\n",
              "      <td>2.0</td>\n",
              "      <td>1.0</td>\n",
              "      <td>No</td>\n",
              "      <td>0.0</td>\n",
              "      <td>0.99</td>\n",
              "      <td>0.98</td>\n",
              "      <td>0.0</td>\n",
              "      <td>No</td>\n",
              "      <td>No</td>\n",
              "      <td>No</td>\n",
              "      <td>Yes</td>\n",
              "      <td>No</td>\n",
              "      <td>No</td>\n",
              "    </tr>\n",
              "    <tr>\n",
              "      <th>981765</th>\n",
              "      <td>3153832</td>\n",
              "      <td>50562.0</td>\n",
              "      <td>8.0</td>\n",
              "      <td>0.0</td>\n",
              "      <td>0.0</td>\n",
              "      <td>0.0</td>\n",
              "      <td>0.0</td>\n",
              "      <td>25.0</td>\n",
              "      <td>65.0</td>\n",
              "      <td>88.0</td>\n",
              "      <td>382.0</td>\n",
              "      <td>0.0</td>\n",
              "      <td>No</td>\n",
              "      <td>0.0</td>\n",
              "      <td>0.92</td>\n",
              "      <td>0.91</td>\n",
              "      <td>0.0</td>\n",
              "      <td>No</td>\n",
              "      <td>No</td>\n",
              "      <td>Yes</td>\n",
              "      <td>Yes</td>\n",
              "      <td>No</td>\n",
              "      <td>No</td>\n",
              "    </tr>\n",
              "    <tr>\n",
              "      <th>1262355</th>\n",
              "      <td>2844802</td>\n",
              "      <td>2.0</td>\n",
              "      <td>8.0</td>\n",
              "      <td>0.0</td>\n",
              "      <td>0.0</td>\n",
              "      <td>0.0</td>\n",
              "      <td>0.0</td>\n",
              "      <td>0.0</td>\n",
              "      <td>0.0</td>\n",
              "      <td>1.0</td>\n",
              "      <td>2.0</td>\n",
              "      <td>0.0</td>\n",
              "      <td>No</td>\n",
              "      <td>0.0</td>\n",
              "      <td>0.92</td>\n",
              "      <td>0.92</td>\n",
              "      <td>0.0</td>\n",
              "      <td>No</td>\n",
              "      <td>No</td>\n",
              "      <td>No</td>\n",
              "      <td>Yes</td>\n",
              "      <td>No</td>\n",
              "      <td>No</td>\n",
              "    </tr>\n",
              "  </tbody>\n",
              "</table>\n",
              "</div>"
            ],
            "text/plain": [
              "             sku  national_inv  ...  rev_stop  went_on_backorder\n",
              "134190   1245695           2.0  ...        No                 No\n",
              "630622   1978598          11.0  ...        No                 No\n",
              "599795   1947762          15.0  ...        No                 No\n",
              "981765   3153832       50562.0  ...        No                 No\n",
              "1262355  2844802           2.0  ...        No                 No\n",
              "\n",
              "[5 rows x 23 columns]"
            ]
          },
          "metadata": {
            "tags": []
          },
          "execution_count": 323
        }
      ]
    },
    {
      "cell_type": "code",
      "metadata": {
        "colab": {
          "base_uri": "https://localhost:8080/",
          "height": 326
        },
        "id": "-U70DgjjKvqQ",
        "outputId": "5b872cbe-6802-4438-e6d0-ab9a4eee5f8e"
      },
      "source": [
        "#Visualize our balance dataset\n",
        "\"\"\"Okay we have successfully balanced our\n",
        "dataset now. Lets try to visualize our dataset\n",
        "and see our results.\"\"\"\n",
        "plt.figure(figsize=(15, 5))\n",
        "plt.subplot(1, 2, 1)\n",
        "balanced_test_dt[\"went_on_backorder\"].value_counts().plot(kind=\"bar\")\n",
        "plt.subplot(1, 2, 2)\n",
        "balanced_test_dt[\"went_on_backorder\"].value_counts().plot(kind=\"pie\")\n",
        "plt.show()"
      ],
      "execution_count": null,
      "outputs": [
        {
          "output_type": "display_data",
          "data": {
            "image/png": "[encoded data removed]",
            "text/plain": [
              "<Figure size 1080x360 with 2 Axes>"
            ]
          },
          "metadata": {
            "tags": [],
            "needs_background": "light"
          }
        }
      ]
    },
    {
      "cell_type": "markdown",
      "metadata": {
        "id": "O9K5Rx1BIo5l"
      },
      "source": [
        "## Drop features\n",
        "We are going to drop all the features we droped in our train dataset. Lets get started."
      ]
    },
    {
      "cell_type": "code",
      "metadata": {
        "id": "uId2VrJqI_Uv"
      },
      "source": [
        "#Split dataset into x_test and y_test\n",
        "x_test = balanced_test_dt.drop(\"went_on_backorder\", axis=1)\n",
        "y_test = balanced_test_dt[\"went_on_backorder\"]"
      ],
      "execution_count": null,
      "outputs": []
    },
    {
      "cell_type": "code",
      "metadata": {
        "id": "03Xup_75H7nF"
      },
      "source": [
        "#Drop highly correlated features with liad time\n",
        "x_test_ = x_test.drop([\n",
        " 'forecast_6_month','forecast_9_month','perf_12_month_avg',\"sku\",\n",
        " 'sales_3_month','sales_6_month','sales_9_month',\"lead_time\"           \n",
        "], axis=1)"
      ],
      "execution_count": null,
      "outputs": []
    },
    {
      "cell_type": "code",
      "metadata": {
        "colab": {
          "base_uri": "https://localhost:8080/",
          "height": 215
        },
        "id": "qcCAVRRDJJ5A",
        "outputId": "29926f5b-031c-4ec3-fd07-87e7dd7fe1de"
      },
      "source": [
        "#Display to check results\n",
        "x_test_.head()"
      ],
      "execution_count": null,
      "outputs": [
        {
          "output_type": "execute_result",
          "data": {
            "text/html": [
              "<div>\n",
              "<style scoped>\n",
              "    .dataframe tbody tr th:only-of-type {\n",
              "        vertical-align: middle;\n",
              "    }\n",
              "\n",
              "    .dataframe tbody tr th {\n",
              "        vertical-align: top;\n",
              "    }\n",
              "\n",
              "    .dataframe thead th {\n",
              "        text-align: right;\n",
              "    }\n",
              "</style>\n",
              "<table border=\"1\" class=\"dataframe\">\n",
              "  <thead>\n",
              "    <tr style=\"text-align: right;\">\n",
              "      <th></th>\n",
              "      <th>national_inv</th>\n",
              "      <th>in_transit_qty</th>\n",
              "      <th>forecast_3_month</th>\n",
              "      <th>sales_1_month</th>\n",
              "      <th>min_bank</th>\n",
              "      <th>potential_issue</th>\n",
              "      <th>pieces_past_due</th>\n",
              "      <th>perf_6_month_avg</th>\n",
              "      <th>local_bo_qty</th>\n",
              "      <th>deck_risk</th>\n",
              "      <th>oe_constraint</th>\n",
              "      <th>ppap_risk</th>\n",
              "      <th>stop_auto_buy</th>\n",
              "      <th>rev_stop</th>\n",
              "    </tr>\n",
              "  </thead>\n",
              "  <tbody>\n",
              "    <tr>\n",
              "      <th>134190</th>\n",
              "      <td>2.0</td>\n",
              "      <td>0.0</td>\n",
              "      <td>0.0</td>\n",
              "      <td>0.0</td>\n",
              "      <td>0.0</td>\n",
              "      <td>No</td>\n",
              "      <td>0.0</td>\n",
              "      <td>0.46</td>\n",
              "      <td>0.0</td>\n",
              "      <td>No</td>\n",
              "      <td>No</td>\n",
              "      <td>No</td>\n",
              "      <td>Yes</td>\n",
              "      <td>No</td>\n",
              "    </tr>\n",
              "    <tr>\n",
              "      <th>630622</th>\n",
              "      <td>11.0</td>\n",
              "      <td>0.0</td>\n",
              "      <td>18.0</td>\n",
              "      <td>6.0</td>\n",
              "      <td>13.0</td>\n",
              "      <td>No</td>\n",
              "      <td>0.0</td>\n",
              "      <td>0.87</td>\n",
              "      <td>0.0</td>\n",
              "      <td>No</td>\n",
              "      <td>No</td>\n",
              "      <td>Yes</td>\n",
              "      <td>Yes</td>\n",
              "      <td>No</td>\n",
              "    </tr>\n",
              "    <tr>\n",
              "      <th>599795</th>\n",
              "      <td>15.0</td>\n",
              "      <td>0.0</td>\n",
              "      <td>0.0</td>\n",
              "      <td>0.0</td>\n",
              "      <td>1.0</td>\n",
              "      <td>No</td>\n",
              "      <td>0.0</td>\n",
              "      <td>0.99</td>\n",
              "      <td>0.0</td>\n",
              "      <td>No</td>\n",
              "      <td>No</td>\n",
              "      <td>No</td>\n",
              "      <td>Yes</td>\n",
              "      <td>No</td>\n",
              "    </tr>\n",
              "    <tr>\n",
              "      <th>981765</th>\n",
              "      <td>50562.0</td>\n",
              "      <td>0.0</td>\n",
              "      <td>0.0</td>\n",
              "      <td>25.0</td>\n",
              "      <td>0.0</td>\n",
              "      <td>No</td>\n",
              "      <td>0.0</td>\n",
              "      <td>0.92</td>\n",
              "      <td>0.0</td>\n",
              "      <td>No</td>\n",
              "      <td>No</td>\n",
              "      <td>Yes</td>\n",
              "      <td>Yes</td>\n",
              "      <td>No</td>\n",
              "    </tr>\n",
              "    <tr>\n",
              "      <th>1262355</th>\n",
              "      <td>2.0</td>\n",
              "      <td>0.0</td>\n",
              "      <td>0.0</td>\n",
              "      <td>0.0</td>\n",
              "      <td>0.0</td>\n",
              "      <td>No</td>\n",
              "      <td>0.0</td>\n",
              "      <td>0.92</td>\n",
              "      <td>0.0</td>\n",
              "      <td>No</td>\n",
              "      <td>No</td>\n",
              "      <td>No</td>\n",
              "      <td>Yes</td>\n",
              "      <td>No</td>\n",
              "    </tr>\n",
              "  </tbody>\n",
              "</table>\n",
              "</div>"
            ],
            "text/plain": [
              "         national_inv  in_transit_qty  ...  stop_auto_buy  rev_stop\n",
              "134190            2.0             0.0  ...            Yes        No\n",
              "630622           11.0             0.0  ...            Yes        No\n",
              "599795           15.0             0.0  ...            Yes        No\n",
              "981765        50562.0             0.0  ...            Yes        No\n",
              "1262355           2.0             0.0  ...            Yes        No\n",
              "\n",
              "[5 rows x 14 columns]"
            ]
          },
          "metadata": {
            "tags": []
          },
          "execution_count": 327
        }
      ]
    },
    {
      "cell_type": "markdown",
      "metadata": {
        "id": "8GLMHukcJcpN"
      },
      "source": [
        "## Preprocessing test dataset\n",
        "Okay so we are going to transform on our test dataset. **Note** When we were balancing our dataset, the selected values did not contain any Nan values. Hence we have to drop the null values in our test dataset before we can transform on our test dataset. Okay so lets get started now."
      ]
    },
    {
      "cell_type": "code",
      "metadata": {
        "colab": {
          "base_uri": "https://localhost:8080/",
          "height": 215
        },
        "id": "tQanzJUeKNam",
        "outputId": "173f7dc2-02cc-4b38-e967-81e357f7d89e"
      },
      "source": [
        "#Drop rows with null values\n",
        "xtest_ = x_test_.dropna(axis=0, how=\"any\", thresh=None, subset=None, inplace=False)\n",
        "\n",
        "#Display results\n",
        "xtest_.head()"
      ],
      "execution_count": null,
      "outputs": [
        {
          "output_type": "execute_result",
          "data": {
            "text/html": [
              "<div>\n",
              "<style scoped>\n",
              "    .dataframe tbody tr th:only-of-type {\n",
              "        vertical-align: middle;\n",
              "    }\n",
              "\n",
              "    .dataframe tbody tr th {\n",
              "        vertical-align: top;\n",
              "    }\n",
              "\n",
              "    .dataframe thead th {\n",
              "        text-align: right;\n",
              "    }\n",
              "</style>\n",
              "<table border=\"1\" class=\"dataframe\">\n",
              "  <thead>\n",
              "    <tr style=\"text-align: right;\">\n",
              "      <th></th>\n",
              "      <th>national_inv</th>\n",
              "      <th>in_transit_qty</th>\n",
              "      <th>forecast_3_month</th>\n",
              "      <th>sales_1_month</th>\n",
              "      <th>min_bank</th>\n",
              "      <th>potential_issue</th>\n",
              "      <th>pieces_past_due</th>\n",
              "      <th>perf_6_month_avg</th>\n",
              "      <th>local_bo_qty</th>\n",
              "      <th>deck_risk</th>\n",
              "      <th>oe_constraint</th>\n",
              "      <th>ppap_risk</th>\n",
              "      <th>stop_auto_buy</th>\n",
              "      <th>rev_stop</th>\n",
              "    </tr>\n",
              "  </thead>\n",
              "  <tbody>\n",
              "    <tr>\n",
              "      <th>134190</th>\n",
              "      <td>2.0</td>\n",
              "      <td>0.0</td>\n",
              "      <td>0.0</td>\n",
              "      <td>0.0</td>\n",
              "      <td>0.0</td>\n",
              "      <td>No</td>\n",
              "      <td>0.0</td>\n",
              "      <td>0.46</td>\n",
              "      <td>0.0</td>\n",
              "      <td>No</td>\n",
              "      <td>No</td>\n",
              "      <td>No</td>\n",
              "      <td>Yes</td>\n",
              "      <td>No</td>\n",
              "    </tr>\n",
              "    <tr>\n",
              "      <th>630622</th>\n",
              "      <td>11.0</td>\n",
              "      <td>0.0</td>\n",
              "      <td>18.0</td>\n",
              "      <td>6.0</td>\n",
              "      <td>13.0</td>\n",
              "      <td>No</td>\n",
              "      <td>0.0</td>\n",
              "      <td>0.87</td>\n",
              "      <td>0.0</td>\n",
              "      <td>No</td>\n",
              "      <td>No</td>\n",
              "      <td>Yes</td>\n",
              "      <td>Yes</td>\n",
              "      <td>No</td>\n",
              "    </tr>\n",
              "    <tr>\n",
              "      <th>599795</th>\n",
              "      <td>15.0</td>\n",
              "      <td>0.0</td>\n",
              "      <td>0.0</td>\n",
              "      <td>0.0</td>\n",
              "      <td>1.0</td>\n",
              "      <td>No</td>\n",
              "      <td>0.0</td>\n",
              "      <td>0.99</td>\n",
              "      <td>0.0</td>\n",
              "      <td>No</td>\n",
              "      <td>No</td>\n",
              "      <td>No</td>\n",
              "      <td>Yes</td>\n",
              "      <td>No</td>\n",
              "    </tr>\n",
              "    <tr>\n",
              "      <th>981765</th>\n",
              "      <td>50562.0</td>\n",
              "      <td>0.0</td>\n",
              "      <td>0.0</td>\n",
              "      <td>25.0</td>\n",
              "      <td>0.0</td>\n",
              "      <td>No</td>\n",
              "      <td>0.0</td>\n",
              "      <td>0.92</td>\n",
              "      <td>0.0</td>\n",
              "      <td>No</td>\n",
              "      <td>No</td>\n",
              "      <td>Yes</td>\n",
              "      <td>Yes</td>\n",
              "      <td>No</td>\n",
              "    </tr>\n",
              "    <tr>\n",
              "      <th>1262355</th>\n",
              "      <td>2.0</td>\n",
              "      <td>0.0</td>\n",
              "      <td>0.0</td>\n",
              "      <td>0.0</td>\n",
              "      <td>0.0</td>\n",
              "      <td>No</td>\n",
              "      <td>0.0</td>\n",
              "      <td>0.92</td>\n",
              "      <td>0.0</td>\n",
              "      <td>No</td>\n",
              "      <td>No</td>\n",
              "      <td>No</td>\n",
              "      <td>Yes</td>\n",
              "      <td>No</td>\n",
              "    </tr>\n",
              "  </tbody>\n",
              "</table>\n",
              "</div>"
            ],
            "text/plain": [
              "         national_inv  in_transit_qty  ...  stop_auto_buy  rev_stop\n",
              "134190            2.0             0.0  ...            Yes        No\n",
              "630622           11.0             0.0  ...            Yes        No\n",
              "599795           15.0             0.0  ...            Yes        No\n",
              "981765        50562.0             0.0  ...            Yes        No\n",
              "1262355           2.0             0.0  ...            Yes        No\n",
              "\n",
              "[5 rows x 14 columns]"
            ]
          },
          "metadata": {
            "tags": []
          },
          "execution_count": 328
        }
      ]
    },
    {
      "cell_type": "code",
      "metadata": {
        "colab": {
          "base_uri": "https://localhost:8080/"
        },
        "id": "kUhNXK9mJXJb",
        "outputId": "a4f1b313-0c2f-4d45-99bb-43c8b6f3bf4a"
      },
      "source": [
        "#Transoform on x_test\n",
        "xtest_ = cat_.transform(x_test_)\n",
        "\n",
        "#Display results\n",
        "xtest_"
      ],
      "execution_count": null,
      "outputs": [
        {
          "output_type": "execute_result",
          "data": {
            "text/plain": [
              "array([[1.00000000e+00, 0.00000000e+00, 1.00000000e+00, ...,\n",
              "        0.00000000e+00, 9.94600000e-01, 0.00000000e+00],\n",
              "       [1.00000000e+00, 0.00000000e+00, 1.00000000e+00, ...,\n",
              "        0.00000000e+00, 9.98700000e-01, 0.00000000e+00],\n",
              "       [1.00000000e+00, 0.00000000e+00, 1.00000000e+00, ...,\n",
              "        0.00000000e+00, 9.99900000e-01, 0.00000000e+00],\n",
              "       ...,\n",
              "       [1.00000000e+00, 0.00000000e+00, 1.00000000e+00, ...,\n",
              "        0.00000000e+00, 9.94400000e-01, 1.94594595e-02],\n",
              "       [1.00000000e+00, 0.00000000e+00, 1.00000000e+00, ...,\n",
              "        0.00000000e+00, 9.99800000e-01, 6.17760618e-04],\n",
              "       [1.00000000e+00, 0.00000000e+00, 0.00000000e+00, ...,\n",
              "        0.00000000e+00, 9.98600000e-01, 1.54440154e-04]])"
            ]
          },
          "metadata": {
            "tags": []
          },
          "execution_count": 329
        }
      ]
    },
    {
      "cell_type": "code",
      "metadata": {
        "colab": {
          "base_uri": "https://localhost:8080/"
        },
        "id": "dBiV_I5qLYfv",
        "outputId": "758aef27-1f8e-4052-b4a2-dd5519f0acc3"
      },
      "source": [
        "#Display onehotencoded columns(categorical features)\n",
        "cat_.transformers_[0][1].named_steps[\"step1\"].get_feature_names()"
      ],
      "execution_count": null,
      "outputs": [
        {
          "output_type": "execute_result",
          "data": {
            "text/plain": [
              "array(['x0_No', 'x0_Yes', 'x1_No', 'x1_Yes', 'x2_No', 'x2_Yes', 'x3_No',\n",
              "       'x3_Yes', 'x4_No', 'x4_Yes', 'x5_No', 'x5_Yes'], dtype=object)"
            ]
          },
          "metadata": {
            "tags": []
          },
          "execution_count": 330
        }
      ]
    },
    {
      "cell_type": "code",
      "metadata": {
        "colab": {
          "base_uri": "https://localhost:8080/",
          "height": 215
        },
        "id": "XMvfCQ3jLnJi",
        "outputId": "f6d32759-1b2e-4dcd-a7d5-fe560fe686f0"
      },
      "source": [
        "#Create a dataframe out of our results\n",
        "xxtest_ = pd.DataFrame(xtest_, columns=['x0_No', 'x0_Yes', 'x1_No', 'x1_Yes', 'x2_No', 'x2_Yes', 'x3_No',\n",
        "                                'x3_Yes', 'x4_No', 'x4_Yes', 'x5_No', 'x5_Yes','national_inv', 'in_transit_qty', \n",
        "                               'forecast_3_month', 'sales_1_month','min_bank', 'pieces_past_due', 'perf_6_month_avg', \n",
        "                               'local_bo_qty'])\n",
        "\n",
        "#Display results\n",
        "xxtest_.head()"
      ],
      "execution_count": null,
      "outputs": [
        {
          "output_type": "execute_result",
          "data": {
            "text/html": [
              "<div>\n",
              "<style scoped>\n",
              "    .dataframe tbody tr th:only-of-type {\n",
              "        vertical-align: middle;\n",
              "    }\n",
              "\n",
              "    .dataframe tbody tr th {\n",
              "        vertical-align: top;\n",
              "    }\n",
              "\n",
              "    .dataframe thead th {\n",
              "        text-align: right;\n",
              "    }\n",
              "</style>\n",
              "<table border=\"1\" class=\"dataframe\">\n",
              "  <thead>\n",
              "    <tr style=\"text-align: right;\">\n",
              "      <th></th>\n",
              "      <th>x0_No</th>\n",
              "      <th>x0_Yes</th>\n",
              "      <th>x1_No</th>\n",
              "      <th>x1_Yes</th>\n",
              "      <th>x2_No</th>\n",
              "      <th>x2_Yes</th>\n",
              "      <th>x3_No</th>\n",
              "      <th>x3_Yes</th>\n",
              "      <th>x4_No</th>\n",
              "      <th>x4_Yes</th>\n",
              "      <th>x5_No</th>\n",
              "      <th>x5_Yes</th>\n",
              "      <th>national_inv</th>\n",
              "      <th>in_transit_qty</th>\n",
              "      <th>forecast_3_month</th>\n",
              "      <th>sales_1_month</th>\n",
              "      <th>min_bank</th>\n",
              "      <th>pieces_past_due</th>\n",
              "      <th>perf_6_month_avg</th>\n",
              "      <th>local_bo_qty</th>\n",
              "    </tr>\n",
              "  </thead>\n",
              "  <tbody>\n",
              "    <tr>\n",
              "      <th>0</th>\n",
              "      <td>1.0</td>\n",
              "      <td>0.0</td>\n",
              "      <td>1.0</td>\n",
              "      <td>0.0</td>\n",
              "      <td>1.0</td>\n",
              "      <td>0.0</td>\n",
              "      <td>1.0</td>\n",
              "      <td>0.0</td>\n",
              "      <td>0.0</td>\n",
              "      <td>1.0</td>\n",
              "      <td>1.0</td>\n",
              "      <td>0.0</td>\n",
              "      <td>0.006277</td>\n",
              "      <td>0.0</td>\n",
              "      <td>0.000000</td>\n",
              "      <td>0.000000</td>\n",
              "      <td>0.000000</td>\n",
              "      <td>0.0</td>\n",
              "      <td>0.9946</td>\n",
              "      <td>0.0</td>\n",
              "    </tr>\n",
              "    <tr>\n",
              "      <th>1</th>\n",
              "      <td>1.0</td>\n",
              "      <td>0.0</td>\n",
              "      <td>1.0</td>\n",
              "      <td>0.0</td>\n",
              "      <td>1.0</td>\n",
              "      <td>0.0</td>\n",
              "      <td>0.0</td>\n",
              "      <td>1.0</td>\n",
              "      <td>0.0</td>\n",
              "      <td>1.0</td>\n",
              "      <td>1.0</td>\n",
              "      <td>0.0</td>\n",
              "      <td>0.006284</td>\n",
              "      <td>0.0</td>\n",
              "      <td>0.000067</td>\n",
              "      <td>0.000105</td>\n",
              "      <td>0.000272</td>\n",
              "      <td>0.0</td>\n",
              "      <td>0.9987</td>\n",
              "      <td>0.0</td>\n",
              "    </tr>\n",
              "    <tr>\n",
              "      <th>2</th>\n",
              "      <td>1.0</td>\n",
              "      <td>0.0</td>\n",
              "      <td>1.0</td>\n",
              "      <td>0.0</td>\n",
              "      <td>1.0</td>\n",
              "      <td>0.0</td>\n",
              "      <td>1.0</td>\n",
              "      <td>0.0</td>\n",
              "      <td>0.0</td>\n",
              "      <td>1.0</td>\n",
              "      <td>1.0</td>\n",
              "      <td>0.0</td>\n",
              "      <td>0.006287</td>\n",
              "      <td>0.0</td>\n",
              "      <td>0.000000</td>\n",
              "      <td>0.000000</td>\n",
              "      <td>0.000021</td>\n",
              "      <td>0.0</td>\n",
              "      <td>0.9999</td>\n",
              "      <td>0.0</td>\n",
              "    </tr>\n",
              "    <tr>\n",
              "      <th>3</th>\n",
              "      <td>1.0</td>\n",
              "      <td>0.0</td>\n",
              "      <td>1.0</td>\n",
              "      <td>0.0</td>\n",
              "      <td>1.0</td>\n",
              "      <td>0.0</td>\n",
              "      <td>0.0</td>\n",
              "      <td>1.0</td>\n",
              "      <td>0.0</td>\n",
              "      <td>1.0</td>\n",
              "      <td>1.0</td>\n",
              "      <td>0.0</td>\n",
              "      <td>0.044831</td>\n",
              "      <td>0.0</td>\n",
              "      <td>0.000000</td>\n",
              "      <td>0.000436</td>\n",
              "      <td>0.000000</td>\n",
              "      <td>0.0</td>\n",
              "      <td>0.9992</td>\n",
              "      <td>0.0</td>\n",
              "    </tr>\n",
              "    <tr>\n",
              "      <th>4</th>\n",
              "      <td>1.0</td>\n",
              "      <td>0.0</td>\n",
              "      <td>1.0</td>\n",
              "      <td>0.0</td>\n",
              "      <td>1.0</td>\n",
              "      <td>0.0</td>\n",
              "      <td>1.0</td>\n",
              "      <td>0.0</td>\n",
              "      <td>0.0</td>\n",
              "      <td>1.0</td>\n",
              "      <td>1.0</td>\n",
              "      <td>0.0</td>\n",
              "      <td>0.006277</td>\n",
              "      <td>0.0</td>\n",
              "      <td>0.000000</td>\n",
              "      <td>0.000000</td>\n",
              "      <td>0.000000</td>\n",
              "      <td>0.0</td>\n",
              "      <td>0.9992</td>\n",
              "      <td>0.0</td>\n",
              "    </tr>\n",
              "  </tbody>\n",
              "</table>\n",
              "</div>"
            ],
            "text/plain": [
              "   x0_No  x0_Yes  x1_No  ...  pieces_past_due  perf_6_month_avg  local_bo_qty\n",
              "0    1.0     0.0    1.0  ...              0.0            0.9946           0.0\n",
              "1    1.0     0.0    1.0  ...              0.0            0.9987           0.0\n",
              "2    1.0     0.0    1.0  ...              0.0            0.9999           0.0\n",
              "3    1.0     0.0    1.0  ...              0.0            0.9992           0.0\n",
              "4    1.0     0.0    1.0  ...              0.0            0.9992           0.0\n",
              "\n",
              "[5 rows x 20 columns]"
            ]
          },
          "metadata": {
            "tags": []
          },
          "execution_count": 331
        }
      ]
    },
    {
      "cell_type": "markdown",
      "metadata": {
        "id": "ZzcyELRxL4K6"
      },
      "source": [
        "Great we have successfully preproccessed our test dataset. Now, we are going to select the most import columns using the train_dataset columns. Okay so now, lets get started."
      ]
    },
    {
      "cell_type": "code",
      "metadata": {
        "colab": {
          "base_uri": "https://localhost:8080/",
          "height": 195
        },
        "id": "LVnaiMf-LzPN",
        "outputId": "ab32113d-3430-4f3a-f798-fc4ed519cada"
      },
      "source": [
        "#Get best 6 features from our test dataset using train_data\n",
        "test_data = xxtest_[train_data.columns]\n",
        "\n",
        "#Display results\n",
        "test_data.head()"
      ],
      "execution_count": null,
      "outputs": [
        {
          "output_type": "execute_result",
          "data": {
            "text/html": [
              "<div>\n",
              "<style scoped>\n",
              "    .dataframe tbody tr th:only-of-type {\n",
              "        vertical-align: middle;\n",
              "    }\n",
              "\n",
              "    .dataframe tbody tr th {\n",
              "        vertical-align: top;\n",
              "    }\n",
              "\n",
              "    .dataframe thead th {\n",
              "        text-align: right;\n",
              "    }\n",
              "</style>\n",
              "<table border=\"1\" class=\"dataframe\">\n",
              "  <thead>\n",
              "    <tr style=\"text-align: right;\">\n",
              "      <th></th>\n",
              "      <th>x1_Yes</th>\n",
              "      <th>x3_Yes</th>\n",
              "      <th>x0_Yes</th>\n",
              "      <th>local_bo_qty</th>\n",
              "      <th>perf_6_month_avg</th>\n",
              "      <th>x5_Yes</th>\n",
              "    </tr>\n",
              "  </thead>\n",
              "  <tbody>\n",
              "    <tr>\n",
              "      <th>0</th>\n",
              "      <td>0.0</td>\n",
              "      <td>0.0</td>\n",
              "      <td>0.0</td>\n",
              "      <td>0.0</td>\n",
              "      <td>0.9946</td>\n",
              "      <td>0.0</td>\n",
              "    </tr>\n",
              "    <tr>\n",
              "      <th>1</th>\n",
              "      <td>0.0</td>\n",
              "      <td>1.0</td>\n",
              "      <td>0.0</td>\n",
              "      <td>0.0</td>\n",
              "      <td>0.9987</td>\n",
              "      <td>0.0</td>\n",
              "    </tr>\n",
              "    <tr>\n",
              "      <th>2</th>\n",
              "      <td>0.0</td>\n",
              "      <td>0.0</td>\n",
              "      <td>0.0</td>\n",
              "      <td>0.0</td>\n",
              "      <td>0.9999</td>\n",
              "      <td>0.0</td>\n",
              "    </tr>\n",
              "    <tr>\n",
              "      <th>3</th>\n",
              "      <td>0.0</td>\n",
              "      <td>1.0</td>\n",
              "      <td>0.0</td>\n",
              "      <td>0.0</td>\n",
              "      <td>0.9992</td>\n",
              "      <td>0.0</td>\n",
              "    </tr>\n",
              "    <tr>\n",
              "      <th>4</th>\n",
              "      <td>0.0</td>\n",
              "      <td>0.0</td>\n",
              "      <td>0.0</td>\n",
              "      <td>0.0</td>\n",
              "      <td>0.9992</td>\n",
              "      <td>0.0</td>\n",
              "    </tr>\n",
              "  </tbody>\n",
              "</table>\n",
              "</div>"
            ],
            "text/plain": [
              "   x1_Yes  x3_Yes  x0_Yes  local_bo_qty  perf_6_month_avg  x5_Yes\n",
              "0     0.0     0.0     0.0           0.0            0.9946     0.0\n",
              "1     0.0     1.0     0.0           0.0            0.9987     0.0\n",
              "2     0.0     0.0     0.0           0.0            0.9999     0.0\n",
              "3     0.0     1.0     0.0           0.0            0.9992     0.0\n",
              "4     0.0     0.0     0.0           0.0            0.9992     0.0"
            ]
          },
          "metadata": {
            "tags": []
          },
          "execution_count": 332
        }
      ]
    },
    {
      "cell_type": "code",
      "metadata": {
        "colab": {
          "base_uri": "https://localhost:8080/"
        },
        "id": "qhzgQmD-Mbw7",
        "outputId": "f7e0ef6b-e393-439b-82d6-5f34a7ded2b7"
      },
      "source": [
        "#Transform on test dataset\n",
        "ytest = label.transform(y_test)\n",
        "\n",
        "#Display results\n",
        "ytest"
      ],
      "execution_count": null,
      "outputs": [
        {
          "output_type": "execute_result",
          "data": {
            "text/plain": [
              "array([0, 0, 0, ..., 1, 1, 1])"
            ]
          },
          "metadata": {
            "tags": []
          },
          "execution_count": 333
        }
      ]
    },
    {
      "cell_type": "code",
      "metadata": {
        "colab": {
          "base_uri": "https://localhost:8080/"
        },
        "id": "NpxwdeKrMhJ6",
        "outputId": "e6aa8be4-c0c3-404c-db19-829869ffb68e"
      },
      "source": [
        "#Okay so now lets check their shapes to see if they are both in the same shape\n",
        "train_data.shape, ytrain.shape, test_data.shape, ytest.shape"
      ],
      "execution_count": null,
      "outputs": [
        {
          "output_type": "execute_result",
          "data": {
            "text/plain": [
              "((22586, 6), (22586,), (22586, 6), (22586,))"
            ]
          },
          "metadata": {
            "tags": []
          },
          "execution_count": 334
        }
      ]
    },
    {
      "cell_type": "code",
      "metadata": {
        "colab": {
          "base_uri": "https://localhost:8080/",
          "height": 195
        },
        "id": "RbfIEuWpMzDJ",
        "outputId": "5c88b656-277a-4ab7-9360-5e487d121fda"
      },
      "source": [
        "#Display final train dataset\n",
        "train_data.head()"
      ],
      "execution_count": null,
      "outputs": [
        {
          "output_type": "execute_result",
          "data": {
            "text/html": [
              "<div>\n",
              "<style scoped>\n",
              "    .dataframe tbody tr th:only-of-type {\n",
              "        vertical-align: middle;\n",
              "    }\n",
              "\n",
              "    .dataframe tbody tr th {\n",
              "        vertical-align: top;\n",
              "    }\n",
              "\n",
              "    .dataframe thead th {\n",
              "        text-align: right;\n",
              "    }\n",
              "</style>\n",
              "<table border=\"1\" class=\"dataframe\">\n",
              "  <thead>\n",
              "    <tr style=\"text-align: right;\">\n",
              "      <th></th>\n",
              "      <th>x1_Yes</th>\n",
              "      <th>x3_Yes</th>\n",
              "      <th>x0_Yes</th>\n",
              "      <th>local_bo_qty</th>\n",
              "      <th>perf_6_month_avg</th>\n",
              "      <th>x5_Yes</th>\n",
              "    </tr>\n",
              "  </thead>\n",
              "  <tbody>\n",
              "    <tr>\n",
              "      <th>0</th>\n",
              "      <td>0.0</td>\n",
              "      <td>0.0</td>\n",
              "      <td>0.0</td>\n",
              "      <td>0.0</td>\n",
              "      <td>0.9992</td>\n",
              "      <td>0.0</td>\n",
              "    </tr>\n",
              "    <tr>\n",
              "      <th>1</th>\n",
              "      <td>1.0</td>\n",
              "      <td>0.0</td>\n",
              "      <td>0.0</td>\n",
              "      <td>0.0</td>\n",
              "      <td>0.9958</td>\n",
              "      <td>0.0</td>\n",
              "    </tr>\n",
              "    <tr>\n",
              "      <th>2</th>\n",
              "      <td>0.0</td>\n",
              "      <td>0.0</td>\n",
              "      <td>0.0</td>\n",
              "      <td>0.0</td>\n",
              "      <td>0.9990</td>\n",
              "      <td>0.0</td>\n",
              "    </tr>\n",
              "    <tr>\n",
              "      <th>3</th>\n",
              "      <td>0.0</td>\n",
              "      <td>1.0</td>\n",
              "      <td>0.0</td>\n",
              "      <td>0.0</td>\n",
              "      <td>0.9983</td>\n",
              "      <td>0.0</td>\n",
              "    </tr>\n",
              "    <tr>\n",
              "      <th>4</th>\n",
              "      <td>1.0</td>\n",
              "      <td>0.0</td>\n",
              "      <td>0.0</td>\n",
              "      <td>0.0</td>\n",
              "      <td>0.9924</td>\n",
              "      <td>0.0</td>\n",
              "    </tr>\n",
              "  </tbody>\n",
              "</table>\n",
              "</div>"
            ],
            "text/plain": [
              "   x1_Yes  x3_Yes  x0_Yes  local_bo_qty  perf_6_month_avg  x5_Yes\n",
              "0     0.0     0.0     0.0           0.0            0.9992     0.0\n",
              "1     1.0     0.0     0.0           0.0            0.9958     0.0\n",
              "2     0.0     0.0     0.0           0.0            0.9990     0.0\n",
              "3     0.0     1.0     0.0           0.0            0.9983     0.0\n",
              "4     1.0     0.0     0.0           0.0            0.9924     0.0"
            ]
          },
          "metadata": {
            "tags": []
          },
          "execution_count": 335
        }
      ]
    },
    {
      "cell_type": "code",
      "metadata": {
        "colab": {
          "base_uri": "https://localhost:8080/",
          "height": 195
        },
        "id": "iMXW3pynNHCQ",
        "outputId": "5badd44b-42ce-4d31-82f7-0ee77ea676ae"
      },
      "source": [
        "#Display final test dataset\n",
        "test_data.head()"
      ],
      "execution_count": null,
      "outputs": [
        {
          "output_type": "execute_result",
          "data": {
            "text/html": [
              "<div>\n",
              "<style scoped>\n",
              "    .dataframe tbody tr th:only-of-type {\n",
              "        vertical-align: middle;\n",
              "    }\n",
              "\n",
              "    .dataframe tbody tr th {\n",
              "        vertical-align: top;\n",
              "    }\n",
              "\n",
              "    .dataframe thead th {\n",
              "        text-align: right;\n",
              "    }\n",
              "</style>\n",
              "<table border=\"1\" class=\"dataframe\">\n",
              "  <thead>\n",
              "    <tr style=\"text-align: right;\">\n",
              "      <th></th>\n",
              "      <th>x1_Yes</th>\n",
              "      <th>x3_Yes</th>\n",
              "      <th>x0_Yes</th>\n",
              "      <th>local_bo_qty</th>\n",
              "      <th>perf_6_month_avg</th>\n",
              "      <th>x5_Yes</th>\n",
              "    </tr>\n",
              "  </thead>\n",
              "  <tbody>\n",
              "    <tr>\n",
              "      <th>0</th>\n",
              "      <td>0.0</td>\n",
              "      <td>0.0</td>\n",
              "      <td>0.0</td>\n",
              "      <td>0.0</td>\n",
              "      <td>0.9946</td>\n",
              "      <td>0.0</td>\n",
              "    </tr>\n",
              "    <tr>\n",
              "      <th>1</th>\n",
              "      <td>0.0</td>\n",
              "      <td>1.0</td>\n",
              "      <td>0.0</td>\n",
              "      <td>0.0</td>\n",
              "      <td>0.9987</td>\n",
              "      <td>0.0</td>\n",
              "    </tr>\n",
              "    <tr>\n",
              "      <th>2</th>\n",
              "      <td>0.0</td>\n",
              "      <td>0.0</td>\n",
              "      <td>0.0</td>\n",
              "      <td>0.0</td>\n",
              "      <td>0.9999</td>\n",
              "      <td>0.0</td>\n",
              "    </tr>\n",
              "    <tr>\n",
              "      <th>3</th>\n",
              "      <td>0.0</td>\n",
              "      <td>1.0</td>\n",
              "      <td>0.0</td>\n",
              "      <td>0.0</td>\n",
              "      <td>0.9992</td>\n",
              "      <td>0.0</td>\n",
              "    </tr>\n",
              "    <tr>\n",
              "      <th>4</th>\n",
              "      <td>0.0</td>\n",
              "      <td>0.0</td>\n",
              "      <td>0.0</td>\n",
              "      <td>0.0</td>\n",
              "      <td>0.9992</td>\n",
              "      <td>0.0</td>\n",
              "    </tr>\n",
              "  </tbody>\n",
              "</table>\n",
              "</div>"
            ],
            "text/plain": [
              "   x1_Yes  x3_Yes  x0_Yes  local_bo_qty  perf_6_month_avg  x5_Yes\n",
              "0     0.0     0.0     0.0           0.0            0.9946     0.0\n",
              "1     0.0     1.0     0.0           0.0            0.9987     0.0\n",
              "2     0.0     0.0     0.0           0.0            0.9999     0.0\n",
              "3     0.0     1.0     0.0           0.0            0.9992     0.0\n",
              "4     0.0     0.0     0.0           0.0            0.9992     0.0"
            ]
          },
          "metadata": {
            "tags": []
          },
          "execution_count": 336
        }
      ]
    },
    {
      "cell_type": "markdown",
      "metadata": {
        "id": "CYKEAMFSNnQW"
      },
      "source": [
        "# Model Building\n",
        "Finally, we are done preprocessing our train and test dataset. Now, we are going to start building our model. As said earlier, we are going to build our model by peforming different type of experiment using different type of `Algorithms`. Algorithms to experiment on are as follows:\n",
        "\n",
        "* Artificial Neural Network\n",
        "* RandomForestClassifier\n",
        "* DecisionTree\n",
        "* NaiveBayes\n",
        "* LogisticRegression\n",
        "* K-Nearest Neighbour(KNN)\n",
        "* Support Vector Machine(SVM)\n",
        "* GradientBoostingClassifier\n",
        "\n",
        "Then evaluate our models on the following Evaluation metrics inother to make better decisions:\n",
        "\n",
        "* Accuracy score\n",
        "* F1 score\n",
        "* Precision\n",
        "* Recall\n",
        "* Confusion matrics\n",
        "* Classification report\n",
        "\n",
        "But before we get started, lets build two functions. The first function will be used to evaluate our model after we successfully build it whiles the second function will be used to build our models. Without wasting much time, lets get started.\n"
      ]
    },
    {
      "cell_type": "code",
      "metadata": {
        "id": "r0YSpfiPNYZ7"
      },
      "source": [
        "#a function to evaluate our models performances\n",
        "def evaluate_model(y_pred, y_test):\n",
        "  \"\"\"\n",
        "  This function will be used to evaluate\n",
        "  our model after it has been successfully\n",
        "  been built.\n",
        "\n",
        "  Args:\n",
        "    y_pred-> the predicted values after\n",
        "    the model has been successfully been built.\n",
        "\n",
        "    y_test-> the actual/y_test dataset which\n",
        "    will be used in conjuction with our predicted\n",
        "    value to evaluate our model\"\"\"\n",
        "\n",
        "  #Get confusion metrics\n",
        "  conf_metrics = confusion_matrix(y_test, y_pred)\n",
        "\n",
        "  #Get classification report\n",
        "  cls_report = classification_report(y_pred, y_test)\n",
        "\n",
        "  #Get precision, recall, f1, accuracy_score and corss_val_score\n",
        "  results = {\n",
        "      \"accuracy\": round(accuracy_score(y_test, y_pred), 3),\n",
        "      \"precision\": round(precision_score(y_test, y_pred), 3),\n",
        "      \"recall\": round(recall_score(y_test, y_pred), 3),\n",
        "      \"f1\": round(f1_score(y_test, y_pred), 3)\n",
        "  }\n",
        "\n",
        "  #Visualize our confusion metrics\n",
        "  sns.heatmap(conf_metrics, annot=True, fmt=\"g\")\n",
        "  plt.show()\n",
        "\n",
        "  #Display confusion metrics\n",
        "  print(cls_report)\n",
        "\n",
        "  #return results\n",
        "  return results"
      ],
      "execution_count": null,
      "outputs": []
    },
    {
      "cell_type": "code",
      "metadata": {
        "id": "lAVO4PPaTQ1A"
      },
      "source": [
        "#Create a function to build model\n",
        "def build_model(xtrain, ytrain, xtest, algorithm):\n",
        "  \"\"\"\n",
        "  This function will be used\n",
        "  to build all our models.\n",
        "  Args:\n",
        "    xtrain-> x train dataset to build\n",
        "    our model.\n",
        "\n",
        "    ytrain-> y train dataset to build\n",
        "    our model.\n",
        "\n",
        "    algorithm-> the algorithm to be used\n",
        "    to build our model\n",
        "  \"\"\"\n",
        "\n",
        "  #Initialize our model\n",
        "  clf = algorithm()\n",
        "\n",
        "  #Fit our model\n",
        "  clf.fit(xtrain, ytrain)\n",
        "\n",
        "  #Make prediction\n",
        "  pred = clf.predict(xtest)\n",
        "\n",
        "  #Return final results\n",
        "  return clf, pred\n"
      ],
      "execution_count": null,
      "outputs": []
    },
    {
      "cell_type": "markdown",
      "metadata": {
        "id": "mznxblKUUP0W"
      },
      "source": [
        "## Logistic Regression(Base model)\n",
        "Okay so we are going to build our base model using `Logistic Regression` with default parameters. Lets get started."
      ]
    },
    {
      "cell_type": "code",
      "metadata": {
        "id": "Z1BfgkAzUAds"
      },
      "source": [
        "#Set random seed\n",
        "tf.random.set_seed(42)\n",
        "\n",
        "#Build model by calling the \n",
        "clf_0, ypred_0 = build_model(\n",
        "    train_data, ytrain,\n",
        "    test_data,\n",
        "    LogisticRegression\n",
        ")"
      ],
      "execution_count": null,
      "outputs": []
    },
    {
      "cell_type": "code",
      "metadata": {
        "colab": {
          "base_uri": "https://localhost:8080/"
        },
        "id": "iOAdP8DLUrYG",
        "outputId": "7e8db572-9de1-4377-b3ed-7a0ff1920d01"
      },
      "source": [
        "#Check predicted values\n",
        "ypred_0"
      ],
      "execution_count": null,
      "outputs": [
        {
          "output_type": "execute_result",
          "data": {
            "text/plain": [
              "array([1, 1, 1, ..., 1, 1, 0])"
            ]
          },
          "metadata": {
            "tags": []
          },
          "execution_count": 66
        }
      ]
    },
    {
      "cell_type": "code",
      "metadata": {
        "colab": {
          "base_uri": "https://localhost:8080/",
          "height": 433
        },
        "id": "KPvZlnftUvQm",
        "outputId": "dae226cc-2315-4adf-8f30-5422632024e7"
      },
      "source": [
        "#Lets evaluate our model\n",
        "eval_0 = evaluate_model(ypred_0, ytest)\n",
        "\n",
        "#Display results\n",
        "eval_0"
      ],
      "execution_count": null,
      "outputs": [
        {
          "output_type": "display_data",
          "data": {
            "image/png": "[encoded data removed]",
            "text/plain": [
              "<Figure size 432x288 with 2 Axes>"
            ]
          },
          "metadata": {
            "tags": [],
            "needs_background": "light"
          }
        },
        {
          "output_type": "stream",
          "text": [
            "              precision    recall  f1-score   support\n",
            "\n",
            "           0       0.24      0.60      0.34      4425\n",
            "           1       0.85      0.53      0.65     18161\n",
            "\n",
            "    accuracy                           0.54     22586\n",
            "   macro avg       0.54      0.57      0.49     22586\n",
            "weighted avg       0.73      0.54      0.59     22586\n",
            "\n"
          ],
          "name": "stdout"
        },
        {
          "output_type": "execute_result",
          "data": {
            "text/plain": [
              "{'accuracy': 0.541, 'f1': 0.648, 'precision': 0.526, 'recall': 0.845}"
            ]
          },
          "metadata": {
            "tags": []
          },
          "execution_count": 67
        }
      ]
    },
    {
      "cell_type": "markdown",
      "metadata": {
        "id": "pEavLvAyZb_h"
      },
      "source": [
        "## Support Vector Machine(model_1)\n",
        "Build model_1 using support vector machine."
      ]
    },
    {
      "cell_type": "code",
      "metadata": {
        "id": "4zJZKET5Vyu-"
      },
      "source": [
        "#Set random seed\n",
        "tf.random.set_seed(42)\n",
        "\n",
        "#Build model by calling the \n",
        "clf_1, ypred_1 = build_model(\n",
        "    train_data, ytrain,\n",
        "    test_data,\n",
        "    SVC\n",
        ")"
      ],
      "execution_count": null,
      "outputs": []
    },
    {
      "cell_type": "code",
      "metadata": {
        "colab": {
          "base_uri": "https://localhost:8080/",
          "height": 433
        },
        "id": "Norv9JuRZqdb",
        "outputId": "bda9e5dd-970b-488a-d628-273752dfec36"
      },
      "source": [
        "#Evaluate our model\n",
        "eval_1 = evaluate_model(ypred_1, ytest)\n",
        "\n",
        "#isplay results\n",
        "eval_1"
      ],
      "execution_count": null,
      "outputs": [
        {
          "output_type": "display_data",
          "data": {
            "image/png": "[encoded data removed]",
            "text/plain": [
              "<Figure size 432x288 with 2 Axes>"
            ]
          },
          "metadata": {
            "tags": [],
            "needs_background": "light"
          }
        },
        {
          "output_type": "stream",
          "text": [
            "              precision    recall  f1-score   support\n",
            "\n",
            "           0       0.24      0.60      0.34      4425\n",
            "           1       0.85      0.53      0.65     18161\n",
            "\n",
            "    accuracy                           0.54     22586\n",
            "   macro avg       0.54      0.57      0.49     22586\n",
            "weighted avg       0.73      0.54      0.59     22586\n",
            "\n"
          ],
          "name": "stdout"
        },
        {
          "output_type": "execute_result",
          "data": {
            "text/plain": [
              "{'accuracy': 0.541, 'f1': 0.648, 'precision': 0.526, 'recall': 0.845}"
            ]
          },
          "metadata": {
            "tags": []
          },
          "execution_count": 69
        }
      ]
    },
    {
      "cell_type": "markdown",
      "metadata": {
        "id": "ux1GiKzCsR9V"
      },
      "source": [
        "## K-Nearest Neighbour(model_2)\n",
        "Okay soo we are going to build our 3rd model. With this model, we are going to use KNN. From the previous models, we could see that our models are having similer results. Lets see if with this model, we will get a different results. Lets get started now."
      ]
    },
    {
      "cell_type": "code",
      "metadata": {
        "id": "994mnceNZ45h"
      },
      "source": [
        "#Set random seed\n",
        "tf.random.set_seed(42)\n",
        "\n",
        "#Build model\n",
        "clf_2, ypred_2 = build_model(\n",
        "     train_data, ytrain,\n",
        "     test_data, KNeighborsClassifier\n",
        ")"
      ],
      "execution_count": null,
      "outputs": []
    },
    {
      "cell_type": "code",
      "metadata": {
        "id": "Np4zYY3IaSU9",
        "colab": {
          "base_uri": "https://localhost:8080/",
          "height": 433
        },
        "outputId": "84c4740a-0f91-4584-84e4-ba40009b0a2e"
      },
      "source": [
        "#Evaluate model\n",
        "eval_2 = evaluate_model(ypred_2, ytest)\n",
        "\n",
        "#Display results\n",
        "eval_2"
      ],
      "execution_count": null,
      "outputs": [
        {
          "output_type": "display_data",
          "data": {
            "image/png": "[encoded data removed]",
            "text/plain": [
              "<Figure size 432x288 with 2 Axes>"
            ]
          },
          "metadata": {
            "tags": [],
            "needs_background": "light"
          }
        },
        {
          "output_type": "stream",
          "text": [
            "              precision    recall  f1-score   support\n",
            "\n",
            "           0       0.91      0.54      0.68     18928\n",
            "           1       0.23      0.72      0.35      3658\n",
            "\n",
            "    accuracy                           0.57     22586\n",
            "   macro avg       0.57      0.63      0.52     22586\n",
            "weighted avg       0.80      0.57      0.63     22586\n",
            "\n"
          ],
          "name": "stdout"
        },
        {
          "output_type": "execute_result",
          "data": {
            "text/plain": [
              "{'accuracy': 0.572, 'f1': 0.354, 'precision': 0.723, 'recall': 0.234}"
            ]
          },
          "metadata": {
            "tags": []
          },
          "execution_count": 71
        }
      ]
    },
    {
      "cell_type": "markdown",
      "metadata": {
        "id": "0UL4oM-fuGW7"
      },
      "source": [
        "## GaussianNB(model_3)"
      ]
    },
    {
      "cell_type": "code",
      "metadata": {
        "id": "ws6j0Du4uDGz"
      },
      "source": [
        "#Bset random seed\n",
        "tf.random.set_seed(42)\n",
        "\n",
        "#Build model\n",
        "clf_3, ypred_3 = build_model(train_data, ytrain,\n",
        "                          test_data, GaussianNB)"
      ],
      "execution_count": null,
      "outputs": []
    },
    {
      "cell_type": "code",
      "metadata": {
        "colab": {
          "base_uri": "https://localhost:8080/",
          "height": 433
        },
        "id": "fy6E5SYZugQm",
        "outputId": "a6143a8b-6241-487b-df44-8a337ee2ca7c"
      },
      "source": [
        "#Evaluate model\n",
        "eval_3 = evaluate_model(ypred_3, ytest)\n",
        "\n",
        "#Display results\n",
        "eval_3"
      ],
      "execution_count": null,
      "outputs": [
        {
          "output_type": "display_data",
          "data": {
            "image/png": "[encoded data removed]",
            "text/plain": [
              "<Figure size 432x288 with 2 Axes>"
            ]
          },
          "metadata": {
            "tags": [],
            "needs_background": "light"
          }
        },
        {
          "output_type": "stream",
          "text": [
            "              precision    recall  f1-score   support\n",
            "\n",
            "           0       0.08      0.68      0.14      1284\n",
            "           1       0.96      0.51      0.67     21302\n",
            "\n",
            "    accuracy                           0.52     22586\n",
            "   macro avg       0.52      0.59      0.40     22586\n",
            "weighted avg       0.91      0.52      0.64     22586\n",
            "\n"
          ],
          "name": "stdout"
        },
        {
          "output_type": "execute_result",
          "data": {
            "text/plain": [
              "{'accuracy': 0.52, 'f1': 0.667, 'precision': 0.511, 'recall': 0.963}"
            ]
          },
          "metadata": {
            "tags": []
          },
          "execution_count": 73
        }
      ]
    },
    {
      "cell_type": "markdown",
      "metadata": {
        "id": "HobZu3GBuzUQ"
      },
      "source": [
        "## RandomForestClassifier(model_4)"
      ]
    },
    {
      "cell_type": "code",
      "metadata": {
        "id": "FCPdLvt5uoKY"
      },
      "source": [
        "#Set random seed\n",
        "tf.random.set_seed(42)\n",
        "\n",
        "#Build model\n",
        "clf_4, ypred_4 = build_model(train_data, ytrain,\n",
        "                    test_data, RandomForestClassifier)"
      ],
      "execution_count": null,
      "outputs": []
    },
    {
      "cell_type": "code",
      "metadata": {
        "colab": {
          "base_uri": "https://localhost:8080/",
          "height": 433
        },
        "id": "yw0C1hKhvkWn",
        "outputId": "a553f65d-896f-477d-c925-0c279143b5e1"
      },
      "source": [
        "#Evaluate odel\n",
        "eval_4 = evaluate_model(ypred_4, ytest)\n",
        "\n",
        "#Display results\n",
        "eval_4"
      ],
      "execution_count": null,
      "outputs": [
        {
          "output_type": "display_data",
          "data": {
            "image/png": "[encoded data removed]",
            "text/plain": [
              "<Figure size 432x288 with 2 Axes>"
            ]
          },
          "metadata": {
            "tags": [],
            "needs_background": "light"
          }
        },
        {
          "output_type": "stream",
          "text": [
            "              precision    recall  f1-score   support\n",
            "\n",
            "           0       0.73      0.61      0.67     13417\n",
            "           1       0.54      0.67      0.60      9169\n",
            "\n",
            "    accuracy                           0.63     22586\n",
            "   macro avg       0.63      0.64      0.63     22586\n",
            "weighted avg       0.65      0.63      0.64     22586\n",
            "\n"
          ],
          "name": "stdout"
        },
        {
          "output_type": "execute_result",
          "data": {
            "text/plain": [
              "{'accuracy': 0.635, 'f1': 0.597, 'precision': 0.666, 'recall': 0.541}"
            ]
          },
          "metadata": {
            "tags": []
          },
          "execution_count": 75
        }
      ]
    },
    {
      "cell_type": "markdown",
      "metadata": {
        "id": "7uFQqweRvz4_"
      },
      "source": [
        "## DecisionTreeClassifier(model_5)"
      ]
    },
    {
      "cell_type": "code",
      "metadata": {
        "id": "3a3VrL8IvsyN"
      },
      "source": [
        "#set random seed\n",
        "tf.random.set_seed(42)\n",
        "\n",
        "#Build model\n",
        "clf_5, ypred_5 = build_model(train_data, ytrain,\n",
        "                             test_data, DecisionTreeClassifier)"
      ],
      "execution_count": null,
      "outputs": []
    },
    {
      "cell_type": "code",
      "metadata": {
        "colab": {
          "base_uri": "https://localhost:8080/",
          "height": 433
        },
        "id": "bUDn-1aRwHwY",
        "outputId": "13665ffa-7bcf-4911-9c21-b28c3f1268f7"
      },
      "source": [
        "#Evaluate model\n",
        "eval_5 = evaluate_model(\n",
        "    ypred_5, ytest\n",
        ")\n",
        "\n",
        "#Display results\n",
        "eval_5"
      ],
      "execution_count": null,
      "outputs": [
        {
          "output_type": "display_data",
          "data": {
            "image/png": "[encoded data removed]",
            "text/plain": [
              "<Figure size 432x288 with 2 Axes>"
            ]
          },
          "metadata": {
            "tags": [],
            "needs_background": "light"
          }
        },
        {
          "output_type": "stream",
          "text": [
            "              precision    recall  f1-score   support\n",
            "\n",
            "           0       0.74      0.61      0.67     13744\n",
            "           1       0.53      0.67      0.59      8842\n",
            "\n",
            "    accuracy                           0.63     22586\n",
            "   macro avg       0.63      0.64      0.63     22586\n",
            "weighted avg       0.66      0.63      0.64     22586\n",
            "\n"
          ],
          "name": "stdout"
        },
        {
          "output_type": "execute_result",
          "data": {
            "text/plain": [
              "{'accuracy': 0.634, 'f1': 0.589, 'precision': 0.671, 'recall': 0.525}"
            ]
          },
          "metadata": {
            "tags": []
          },
          "execution_count": 77
        }
      ]
    },
    {
      "cell_type": "markdown",
      "metadata": {
        "id": "jDMDxSohwnDL"
      },
      "source": [
        "## GradientBoostingClassifier(model_6)"
      ]
    },
    {
      "cell_type": "code",
      "metadata": {
        "id": "tFb7lSmpwP5s"
      },
      "source": [
        "#set random seed\n",
        "tf.random.set_seed(42)\n",
        "\n",
        "#Build model\n",
        "clf_6, ypred_6 = build_model(train_data, ytrain, test_data,\n",
        "                              GradientBoostingClassifier)"
      ],
      "execution_count": null,
      "outputs": []
    },
    {
      "cell_type": "code",
      "metadata": {
        "colab": {
          "base_uri": "https://localhost:8080/",
          "height": 433
        },
        "id": "o-FO6vPPw4_9",
        "outputId": "143a6c9b-e821-40dc-fe5e-b05a2c6494ba"
      },
      "source": [
        "#Evaluate our model\n",
        "eval_6 = evaluate_model(ypred_6, ytest)\n",
        "\n",
        "#Display results\n",
        "eval_6"
      ],
      "execution_count": null,
      "outputs": [
        {
          "output_type": "display_data",
          "data": {
            "image/png": "[encoded data removed]",
            "text/plain": [
              "<Figure size 432x288 with 2 Axes>"
            ]
          },
          "metadata": {
            "tags": [],
            "needs_background": "light"
          }
        },
        {
          "output_type": "stream",
          "text": [
            "              precision    recall  f1-score   support\n",
            "\n",
            "           0       0.75      0.59      0.66     14247\n",
            "           1       0.49      0.66      0.56      8339\n",
            "\n",
            "    accuracy                           0.62     22586\n",
            "   macro avg       0.62      0.63      0.61     22586\n",
            "weighted avg       0.65      0.62      0.63     22586\n",
            "\n"
          ],
          "name": "stdout"
        },
        {
          "output_type": "execute_result",
          "data": {
            "text/plain": [
              "{'accuracy': 0.619, 'f1': 0.562, 'precision': 0.661, 'recall': 0.488}"
            ]
          },
          "metadata": {
            "tags": []
          },
          "execution_count": 79
        }
      ]
    },
    {
      "cell_type": "code",
      "metadata": {
        "colab": {
          "base_uri": "https://localhost:8080/",
          "height": 254
        },
        "id": "myWa0qucy5EO",
        "outputId": "11875249-0cb0-487b-8251-6daea148681f"
      },
      "source": [
        "\"\"\"Okay so lest create a dataframe out from\n",
        "our resulted evaluation metrics by sorting\n",
        "them based on the highest accuracy score.\"\"\"\n",
        "\n",
        "#Create a DataFrame from our evvaluation\n",
        "baseline_model = pd.DataFrame({\n",
        "    \"Baseline\": eval_0,\"model_1\": eval_1,\"model_2\": eval_2,\n",
        "    \"model_3\": eval_3,\"model_4\": eval_4,\"model_5\": eval_5,\n",
        "    \"model_6\": eval_5\n",
        "}).T.sort_values(by=\"accuracy\", ascending=False)\n",
        "\n",
        "#Display results\n",
        "baseline_model"
      ],
      "execution_count": null,
      "outputs": [
        {
          "output_type": "execute_result",
          "data": {
            "text/html": [
              "<div>\n",
              "<style scoped>\n",
              "    .dataframe tbody tr th:only-of-type {\n",
              "        vertical-align: middle;\n",
              "    }\n",
              "\n",
              "    .dataframe tbody tr th {\n",
              "        vertical-align: top;\n",
              "    }\n",
              "\n",
              "    .dataframe thead th {\n",
              "        text-align: right;\n",
              "    }\n",
              "</style>\n",
              "<table border=\"1\" class=\"dataframe\">\n",
              "  <thead>\n",
              "    <tr style=\"text-align: right;\">\n",
              "      <th></th>\n",
              "      <th>accuracy</th>\n",
              "      <th>precision</th>\n",
              "      <th>recall</th>\n",
              "      <th>f1</th>\n",
              "    </tr>\n",
              "  </thead>\n",
              "  <tbody>\n",
              "    <tr>\n",
              "      <th>model_4</th>\n",
              "      <td>0.635</td>\n",
              "      <td>0.666</td>\n",
              "      <td>0.541</td>\n",
              "      <td>0.597</td>\n",
              "    </tr>\n",
              "    <tr>\n",
              "      <th>model_5</th>\n",
              "      <td>0.634</td>\n",
              "      <td>0.671</td>\n",
              "      <td>0.525</td>\n",
              "      <td>0.589</td>\n",
              "    </tr>\n",
              "    <tr>\n",
              "      <th>model_6</th>\n",
              "      <td>0.634</td>\n",
              "      <td>0.671</td>\n",
              "      <td>0.525</td>\n",
              "      <td>0.589</td>\n",
              "    </tr>\n",
              "    <tr>\n",
              "      <th>model_2</th>\n",
              "      <td>0.572</td>\n",
              "      <td>0.723</td>\n",
              "      <td>0.234</td>\n",
              "      <td>0.354</td>\n",
              "    </tr>\n",
              "    <tr>\n",
              "      <th>Baseline</th>\n",
              "      <td>0.541</td>\n",
              "      <td>0.526</td>\n",
              "      <td>0.845</td>\n",
              "      <td>0.648</td>\n",
              "    </tr>\n",
              "    <tr>\n",
              "      <th>model_1</th>\n",
              "      <td>0.541</td>\n",
              "      <td>0.526</td>\n",
              "      <td>0.845</td>\n",
              "      <td>0.648</td>\n",
              "    </tr>\n",
              "    <tr>\n",
              "      <th>model_3</th>\n",
              "      <td>0.520</td>\n",
              "      <td>0.511</td>\n",
              "      <td>0.963</td>\n",
              "      <td>0.667</td>\n",
              "    </tr>\n",
              "  </tbody>\n",
              "</table>\n",
              "</div>"
            ],
            "text/plain": [
              "          accuracy  precision  recall     f1\n",
              "model_4      0.635      0.666   0.541  0.597\n",
              "model_5      0.634      0.671   0.525  0.589\n",
              "model_6      0.634      0.671   0.525  0.589\n",
              "model_2      0.572      0.723   0.234  0.354\n",
              "Baseline     0.541      0.526   0.845  0.648\n",
              "model_1      0.541      0.526   0.845  0.648\n",
              "model_3      0.520      0.511   0.963  0.667"
            ]
          },
          "metadata": {
            "tags": []
          },
          "execution_count": 80
        }
      ]
    },
    {
      "cell_type": "code",
      "metadata": {
        "colab": {
          "base_uri": "https://localhost:8080/",
          "height": 353
        },
        "id": "B6oX7poezWeK",
        "outputId": "b571b44f-eaba-49e3-a312-551e101ba80f"
      },
      "source": [
        "#Lets visualize our baseline model\n",
        "baseline_model.plot(kind=\"bar\", \n",
        "figsize=(15, 5)).legend(bbox_to_anchor=(1.0, 1.0))\n",
        "plt.show()"
      ],
      "execution_count": null,
      "outputs": [
        {
          "output_type": "display_data",
          "data": {
            "image/png": "[encoded data removed]",
            "text/plain": [
              "<Figure size 1080x360 with 1 Axes>"
            ]
          },
          "metadata": {
            "tags": [],
            "needs_background": "light"
          }
        }
      ]
    },
    {
      "cell_type": "markdown",
      "metadata": {
        "id": "BHsivzl1xHzy"
      },
      "source": [
        "**Sammarize**\n",
        "\n",
        "Okay so we have successfully build our base models. From the models we've built so far, we can see that our models were performing a little well on the following algorithms considuring the accuracy, precision, recall and f1 score:\n",
        "\n",
        "* DecisionTreeClassifier\n",
        "* RandomForestClassier\n",
        "* GradientBoostingClassier\n",
        "\n",
        "Out of all the Algorithms we experimented on, it was only this three models that was giving us a good accuracy score even though it has not yet beat our `Evaluation` we defined. Now, we are going to start to perform hyper-parameter tunning on this three(3) Algorihms. We will be using:\n",
        "\n",
        "* RandomizedSearchCV\n",
        "* GridSearchCV\n",
        "\n",
        "We will apply this techniques on this algorithms and select the on with a good accuracy, precision and recall score. Without wasting much time, lets get started."
      ]
    },
    {
      "cell_type": "markdown",
      "metadata": {
        "id": "6bE_Hrq51PlH"
      },
      "source": [
        "# Hyperparameter Tunning\n",
        "Okay so as said earlier on, we are going to perform hyper-parameter tunning on the algorithms that gave us a good accuracy, precision, recall and f1 score. We are going to go in the following other.\n",
        "\n",
        "* We will perform Randomized Searched CV first\n",
        "* Then we wil perform `GridSearchCV` on each of the algorithms as we already know that `Machine Learning` is al about performing different experiment until you meet your evaluation metrics. Okay so without wasting much time, lets get started.\n",
        "\n",
        "Before we get started, lets build two functions to help us achieve our hyperparameter tunung. The first function will help us perform hyperparameter tunning using `RandomizedSearchCV` and the second one will be used using `GridSearchCV`. Lets get started."
      ]
    },
    {
      "cell_type": "code",
      "metadata": {
        "id": "hXOtHVTv7qRi"
      },
      "source": [
        "#Create a function for RandomizedSearchCV\n",
        "def randomized_cv(clf, grid, xtrain, ytrain):\n",
        "  \"\"\"\n",
        "  This function will be used to perform\n",
        "  RandomizedSearchCV and return the best\n",
        "  parameters to train our models on.\n",
        "  Args:\n",
        "\n",
        "    clf-> the returned value after we\n",
        "    initialized our algorithms in our\n",
        "    build model function. eg: with\n",
        "    RandomForestClassifier = clf_4,\n",
        "    DecisionTreeClassifier = clf_5,\n",
        "    GradientBoostingClassifier = clf_6.\n",
        "\n",
        "    grid -> the key value pair of our\n",
        "    algorithms parameter to help select\n",
        "    the best parameters.\n",
        "\n",
        "    xtrain, ytrain -> the training dataset\n",
        "    of both x and y.\n",
        "    \n",
        "    Note: clf = variable assigned when initializing \n",
        "    our algorithms in our build model function\n",
        "    \"\"\"\n",
        "\n",
        "  #Initialize randomized search cv\n",
        "  rs_cv = RandomizedSearchCV(\n",
        "    estimator=clf,\n",
        "    param_distributions=grid,\n",
        "    n_iter=10,\n",
        "    random_state=42,\n",
        "    cv=5, verbose=0,\n",
        "    n_jobs=-1\n",
        "  )\n",
        "\n",
        "  #Fit to get the best hyper parameter\n",
        "  rs_cv.fit(xtrain, ytrain)\n",
        "\n",
        "  #Get best hyperparameters\n",
        "  best_params = rs_cv.best_params_\n",
        "\n",
        "  #return results\n",
        "  return rs_cv, best_params"
      ],
      "execution_count": null,
      "outputs": []
    },
    {
      "cell_type": "code",
      "metadata": {
        "id": "oRQdSGKg9Maa"
      },
      "source": [
        "#Create a function for grid search cv\n",
        "def grid_search(clf, grid, xtrain, ytrain):\n",
        "  \"\"\"\n",
        "  This function will be used to perform\n",
        "  RandomizedSearchCV and return the best\n",
        "  parameters to train our models on.\n",
        "  Args:\n",
        "\n",
        "    clf-> the returned value after we\n",
        "    initialized our algorithms in our\n",
        "    build model function. eg: with\n",
        "    RandomForestClassifier = clf_4,\n",
        "    DecisionTreeClassifier = clf_5,\n",
        "    GradientBoostingClassifier = clf_6.\n",
        "\n",
        "    grid -> the key value pair of our\n",
        "    algorithms parameter to help select\n",
        "    the best parameters.\n",
        "\n",
        "    xtrain, ytrain -> the training dataset\n",
        "    of both x and y.\"\"\"\n",
        "\n",
        "  #Initialize GridSearchCV\n",
        "  gs_cv = GridSearchCV(\n",
        "   estimator=clf, cv=5, verbose=0,\n",
        "   param_grid=grid,\n",
        "  )\n",
        "\n",
        "  #Fit on GridSearchCV\n",
        "  gs_cv.fit(xtrain, ytrain)\n",
        "\n",
        "  #Get best parameters\n",
        "  best_param = gs_cv.best_params_\n",
        "\n",
        "  #Return results\n",
        "  return gs_cv, best_param"
      ],
      "execution_count": null,
      "outputs": []
    },
    {
      "cell_type": "code",
      "metadata": {
        "id": "T1RhEmaAxCZi"
      },
      "source": [
        "\"\"\"\n",
        "Okay so we are going to define the grid parameters for RandomForestClassifier,\n",
        "DecisionTreeClassifier and GradientBoostingClassifier for RandomizedSearchCV.\n",
        "\"\"\"\n",
        "\n",
        "# RandomForestClassifier and GradientBoostingClassifier\n",
        "max_depth = [int(x) for x in np.linspace(10, 110, num = 11)]\n",
        "max_depth.append(None)\n",
        "rfc_grid = {\n",
        "    'n_estimators': [int(x) for x in np.linspace(start = 200, stop = 2000, num = 10)],\n",
        "    'max_features': ['auto', 'sqrt'],\n",
        "    'max_depth': max_depth,\n",
        "    'min_samples_split': [5, 10, 15],\n",
        "    'min_samples_leaf': [2, 4, 8],\n",
        "    'bootstrap': [True, False]\n",
        "}\n",
        "\n",
        "#DecisionTreeClassifier\n",
        "dtc_grid = {\n",
        "    'max_features': ['auto', 'sqrt'],\n",
        "    'max_depth': max_depth,\n",
        "    'min_samples_split': [2, 5, 10],\n",
        "    'min_samples_leaf': [1, 2, 4]\n",
        "}\n",
        "\n",
        "#GradientBoostingClassifier\n",
        "gbost_grid = {\n",
        "    'n_estimators': [int(x) for x in np.linspace(start = 200, stop = 2000, num = 10)],\n",
        "    'max_features': ['auto', 'sqrt'],\n",
        "    'max_depth': max_depth,\n",
        "    'min_samples_split': [2, 5, 10],\n",
        "    'min_samples_leaf': [1, 2, 4]\n",
        "}"
      ],
      "execution_count": null,
      "outputs": []
    },
    {
      "cell_type": "markdown",
      "metadata": {
        "id": "u98NpOqVMBJX"
      },
      "source": [
        "## RandomForestClassifier"
      ]
    },
    {
      "cell_type": "markdown",
      "metadata": {
        "id": "0Uu9hCsnhNKV"
      },
      "source": [
        "### model_7 RandomSearchCV\n",
        "We are going to start to perform our hyper-parameter tunning on RandomForestClassifier using `RandomizedSearchCV`. Let's get started."
      ]
    },
    {
      "cell_type": "code",
      "metadata": {
        "colab": {
          "base_uri": "https://localhost:8080/"
        },
        "id": "_-USVC2u5iPP",
        "outputId": "790a9d2d-54b9-4ac8-d38a-606aecfb2720"
      },
      "source": [
        "#set random seed\n",
        "tf.random.set_seed(42)\n",
        "\n",
        "#Call function to perform RandomizedSearchCV\n",
        "rs_4, param_4 = randomized_cv(\n",
        "    clf_4, rfc_grid, \n",
        "    train_data, ytrain\n",
        ")\n",
        "\n",
        "#Display best parameters\n",
        "param_4"
      ],
      "execution_count": null,
      "outputs": [
        {
          "output_type": "execute_result",
          "data": {
            "text/plain": [
              "{'bootstrap': True,\n",
              " 'max_depth': 30,\n",
              " 'max_features': 'sqrt',\n",
              " 'min_samples_leaf': 2,\n",
              " 'min_samples_split': 10,\n",
              " 'n_estimators': 1400}"
            ]
          },
          "metadata": {
            "tags": []
          },
          "execution_count": 85
        }
      ]
    },
    {
      "cell_type": "code",
      "metadata": {
        "colab": {
          "base_uri": "https://localhost:8080/"
        },
        "id": "od0kKGfR9BXG",
        "outputId": "60f18dd0-6ec3-4b19-a460-701e32875e9e"
      },
      "source": [
        "\"\"\"\n",
        "Okay so after performing our hyperparameter using\n",
        "RandomizedSearchCV on our train dataset, we could see\n",
        "the parameters it returned. Okay so now lets make prediction\n",
        "using our test dataset and rs_4\"\"\"\n",
        "#Make prediction\n",
        "ypred_7 = rs_4.predict(test_data)\n",
        "\n",
        "#Display results\n",
        "ypred_7"
      ],
      "execution_count": null,
      "outputs": [
        {
          "output_type": "execute_result",
          "data": {
            "text/plain": [
              "array([1, 1, 0, ..., 1, 1, 1])"
            ]
          },
          "metadata": {
            "tags": []
          },
          "execution_count": 86
        }
      ]
    },
    {
      "cell_type": "code",
      "metadata": {
        "colab": {
          "base_uri": "https://localhost:8080/",
          "height": 433
        },
        "id": "tuercDeZXd_V",
        "outputId": "c18df853-2b16-4e1a-ab8b-e2103394e4d3"
      },
      "source": [
        "#Evalue our results\n",
        "eval_4rs = evaluate_model(ypred_7, ytest)\n",
        "\n",
        "#Display results\n",
        "eval_4rs"
      ],
      "execution_count": null,
      "outputs": [
        {
          "output_type": "display_data",
          "data": {
            "image/png": "[encoded data removed]",
            "text/plain": [
              "<Figure size 432x288 with 2 Axes>"
            ]
          },
          "metadata": {
            "tags": [],
            "needs_background": "light"
          }
        },
        {
          "output_type": "stream",
          "text": [
            "              precision    recall  f1-score   support\n",
            "\n",
            "           0       0.73      0.61      0.67     13583\n",
            "           1       0.53      0.67      0.59      9003\n",
            "\n",
            "    accuracy                           0.63     22586\n",
            "   macro avg       0.63      0.64      0.63     22586\n",
            "weighted avg       0.65      0.63      0.64     22586\n",
            "\n"
          ],
          "name": "stdout"
        },
        {
          "output_type": "execute_result",
          "data": {
            "text/plain": [
              "{'accuracy': 0.632, 'f1': 0.591, 'precision': 0.666, 'recall': 0.531}"
            ]
          },
          "metadata": {
            "tags": []
          },
          "execution_count": 87
        }
      ]
    },
    {
      "cell_type": "code",
      "metadata": {
        "colab": {
          "base_uri": "https://localhost:8080/"
        },
        "id": "GeQsuL0WXn9h",
        "outputId": "5ef60883-3a82-4355-ae09-666585e5b0a4"
      },
      "source": [
        "#Display previouse results to ccompare\n",
        "eval_4"
      ],
      "execution_count": null,
      "outputs": [
        {
          "output_type": "execute_result",
          "data": {
            "text/plain": [
              "{'accuracy': 0.635, 'f1': 0.597, 'precision': 0.666, 'recall': 0.541}"
            ]
          },
          "metadata": {
            "tags": []
          },
          "execution_count": 88
        }
      ]
    },
    {
      "cell_type": "markdown",
      "metadata": {
        "id": "gldzpWwKcPst"
      },
      "source": [
        "### model_8 GridSearchCV\n"
      ]
    },
    {
      "cell_type": "code",
      "metadata": {
        "id": "0tgrrueVYl6D"
      },
      "source": [
        "\"\"\"\n",
        "It seems like nothing changed. Our aaccuracy\n",
        "score using default parameters and after performing\n",
        "our hyper-parameter tuning using grid serach cv, we're\n",
        "still getting the same results. Okay now lets try it\n",
        "again using GridSearchCV\"\"\"\n",
        "#set random seed\n",
        "tf.random.set_seed(42)\n",
        "\n",
        "#Define GridSearchCVGrid\n",
        "rfc_grid_gs = {'bootstrap': [False, True],\n",
        " 'max_depth': [60, 2],\n",
        " 'max_features': ['sqrt'],\n",
        " 'min_samples_leaf': [20],\n",
        " 'min_samples_split': [17],\n",
        " 'n_estimators': [100, 400]\n",
        "}\n",
        "\n",
        "#Call grid search cv to perform hyperparameter tunning\n",
        "clf_4gs, param_4gs = grid_search(\n",
        "    clf_4, rfc_grid_gs,\n",
        "    train_data, ytrain\n",
        ")"
      ],
      "execution_count": null,
      "outputs": []
    },
    {
      "cell_type": "code",
      "metadata": {
        "colab": {
          "base_uri": "https://localhost:8080/"
        },
        "id": "EAPANJgZb7FG",
        "outputId": "533f43f2-7441-4bc4-acda-b62b277e6782"
      },
      "source": [
        "#Display bestparameters\n",
        "param_4gs"
      ],
      "execution_count": null,
      "outputs": [
        {
          "output_type": "execute_result",
          "data": {
            "text/plain": [
              "{'bootstrap': False,\n",
              " 'max_depth': 60,\n",
              " 'max_features': 'sqrt',\n",
              " 'min_samples_leaf': 20,\n",
              " 'min_samples_split': 17,\n",
              " 'n_estimators': 400}"
            ]
          },
          "metadata": {
            "tags": []
          },
          "execution_count": 90
        }
      ]
    },
    {
      "cell_type": "code",
      "metadata": {
        "colab": {
          "base_uri": "https://localhost:8080/"
        },
        "id": "M0ZowZz8dnlK",
        "outputId": "17adf083-47a4-4356-d490-f282f09bafdd"
      },
      "source": [
        "#Make prediction\n",
        "ypred_8 = clf_4gs.predict(test_data)\n",
        "\n",
        "#Display results\n",
        "ypred_8"
      ],
      "execution_count": null,
      "outputs": [
        {
          "output_type": "execute_result",
          "data": {
            "text/plain": [
              "array([1, 1, 0, ..., 1, 1, 1])"
            ]
          },
          "metadata": {
            "tags": []
          },
          "execution_count": 91
        }
      ]
    },
    {
      "cell_type": "code",
      "metadata": {
        "colab": {
          "base_uri": "https://localhost:8080/",
          "height": 433
        },
        "id": "8g949fy5dv6v",
        "outputId": "9945ea1a-92bd-4b9e-effe-b83aae1358e3"
      },
      "source": [
        "#Evaluate our model\n",
        "eval_4gs = evaluate_model(ypred_8, ytest)\n",
        "\n",
        "#Display results\n",
        "eval_4gs"
      ],
      "execution_count": null,
      "outputs": [
        {
          "output_type": "display_data",
          "data": {
            "image/png": "[encoded data removed]",
            "text/plain": [
              "<Figure size 432x288 with 2 Axes>"
            ]
          },
          "metadata": {
            "tags": [],
            "needs_background": "light"
          }
        },
        {
          "output_type": "stream",
          "text": [
            "              precision    recall  f1-score   support\n",
            "\n",
            "           0       0.75      0.60      0.67     14178\n",
            "           1       0.50      0.67      0.57      8408\n",
            "\n",
            "    accuracy                           0.62     22586\n",
            "   macro avg       0.62      0.63      0.62     22586\n",
            "weighted avg       0.66      0.62      0.63     22586\n",
            "\n"
          ],
          "name": "stdout"
        },
        {
          "output_type": "execute_result",
          "data": {
            "text/plain": [
              "{'accuracy': 0.623, 'f1': 0.568, 'precision': 0.666, 'recall': 0.496}"
            ]
          },
          "metadata": {
            "tags": []
          },
          "execution_count": 92
        }
      ]
    },
    {
      "cell_type": "code",
      "metadata": {
        "colab": {
          "base_uri": "https://localhost:8080/",
          "height": 136
        },
        "id": "diUbJCggd-gf",
        "outputId": "ba908d1a-d74e-4104-e042-e87655d7e0de"
      },
      "source": [
        "#Create Dataframe out of RandomForestClassifier evaluation\n",
        "rfc = pd.DataFrame({\n",
        "    \"Default Parameters\": eval_4,\n",
        "    \"RandomSearchCV\": eval_4rs,\n",
        "    \"GridSearchCV\": eval_4gs\n",
        "}).T.sort_values(by=\"accuracy\", ascending=False)\n",
        "\n",
        "#Display results\n",
        "rfc"
      ],
      "execution_count": null,
      "outputs": [
        {
          "output_type": "execute_result",
          "data": {
            "text/html": [
              "<div>\n",
              "<style scoped>\n",
              "    .dataframe tbody tr th:only-of-type {\n",
              "        vertical-align: middle;\n",
              "    }\n",
              "\n",
              "    .dataframe tbody tr th {\n",
              "        vertical-align: top;\n",
              "    }\n",
              "\n",
              "    .dataframe thead th {\n",
              "        text-align: right;\n",
              "    }\n",
              "</style>\n",
              "<table border=\"1\" class=\"dataframe\">\n",
              "  <thead>\n",
              "    <tr style=\"text-align: right;\">\n",
              "      <th></th>\n",
              "      <th>accuracy</th>\n",
              "      <th>precision</th>\n",
              "      <th>recall</th>\n",
              "      <th>f1</th>\n",
              "    </tr>\n",
              "  </thead>\n",
              "  <tbody>\n",
              "    <tr>\n",
              "      <th>Default Parameters</th>\n",
              "      <td>0.635</td>\n",
              "      <td>0.666</td>\n",
              "      <td>0.541</td>\n",
              "      <td>0.597</td>\n",
              "    </tr>\n",
              "    <tr>\n",
              "      <th>RandomSearchCV</th>\n",
              "      <td>0.632</td>\n",
              "      <td>0.666</td>\n",
              "      <td>0.531</td>\n",
              "      <td>0.591</td>\n",
              "    </tr>\n",
              "    <tr>\n",
              "      <th>GridSearchCV</th>\n",
              "      <td>0.623</td>\n",
              "      <td>0.666</td>\n",
              "      <td>0.496</td>\n",
              "      <td>0.568</td>\n",
              "    </tr>\n",
              "  </tbody>\n",
              "</table>\n",
              "</div>"
            ],
            "text/plain": [
              "                    accuracy  precision  recall     f1\n",
              "Default Parameters     0.635      0.666   0.541  0.597\n",
              "RandomSearchCV         0.632      0.666   0.531  0.591\n",
              "GridSearchCV           0.623      0.666   0.496  0.568"
            ]
          },
          "metadata": {
            "tags": []
          },
          "execution_count": 93
        }
      ]
    },
    {
      "cell_type": "code",
      "metadata": {
        "colab": {
          "base_uri": "https://localhost:8080/",
          "height": 407
        },
        "id": "lbrzs4GdeI0-",
        "outputId": "ab661aba-fbcd-478b-dba9-ad79d7032e78"
      },
      "source": [
        "#Visualize results\n",
        "rfc.plot(kind=\"bar\", figsize=(10, 5)).legend(bbox_to_anchor=(1.0, 1.0))\n",
        "plt.show()"
      ],
      "execution_count": null,
      "outputs": [
        {
          "output_type": "display_data",
          "data": {
            "image/png": "[encoded data removed]",
            "text/plain": [
              "<Figure size 720x360 with 1 Axes>"
            ]
          },
          "metadata": {
            "tags": [],
            "needs_background": "light"
          }
        }
      ]
    },
    {
      "cell_type": "markdown",
      "metadata": {
        "id": "ZzV_D1_rhoxK"
      },
      "source": [
        "After perfoming our parameter tunning, we can see that our the model with default parameters is perfoming well than the once after we performed hypaparameter tunning. We can still go back change some parameters untill we get a good accuracy score. Butwe will continue by performing hyper parameter tuning on `DecisionTreeClassfier` hopefully, we will get a better results than what is above us. Okay so without wasting much time, lets get started now."
      ]
    },
    {
      "cell_type": "markdown",
      "metadata": {
        "id": "O9rjqa-AicvJ"
      },
      "source": [
        "## DecisionTreeClassifier"
      ]
    },
    {
      "cell_type": "markdown",
      "metadata": {
        "id": "2m3KXbj0igSc"
      },
      "source": [
        "### model_9 RandomSearchCV"
      ]
    },
    {
      "cell_type": "code",
      "metadata": {
        "colab": {
          "base_uri": "https://localhost:8080/"
        },
        "id": "8-eUz6u-gnTM",
        "outputId": "b8b9e926-209f-47b2-d03e-4f6d2d36d8e8"
      },
      "source": [
        "#set random seed\n",
        "tf.random.set_seed(42)\n",
        "\n",
        "#Call function to perform RandomizedSearchCV\n",
        "rs_5, param_5 = randomized_cv(\n",
        "    clf_5, dtc_grid, \n",
        "    train_data, ytrain\n",
        ")\n",
        "\n",
        "#Display best parameters\n",
        "param_5"
      ],
      "execution_count": null,
      "outputs": [
        {
          "output_type": "execute_result",
          "data": {
            "text/plain": [
              "{'max_depth': 110,\n",
              " 'max_features': 'auto',\n",
              " 'min_samples_leaf': 1,\n",
              " 'min_samples_split': 10}"
            ]
          },
          "metadata": {
            "tags": []
          },
          "execution_count": 95
        }
      ]
    },
    {
      "cell_type": "code",
      "metadata": {
        "colab": {
          "base_uri": "https://localhost:8080/"
        },
        "id": "_iadSrHziwL7",
        "outputId": "235ebee9-77a7-46c4-eabe-fbd4cc66dd39"
      },
      "source": [
        "\"\"\"\n",
        "Okay so after performing our hyperparameter using\n",
        "RandomizedSearchCV on our train dataset, we could see\n",
        "the parameters it returned. Okay so now lets make prediction\n",
        "using our test dataset and rs_5\"\"\"\n",
        "#Make prediction\n",
        "ypred_9 = rs_5.predict(test_data)\n",
        "\n",
        "#Display results\n",
        "ypred_9"
      ],
      "execution_count": null,
      "outputs": [
        {
          "output_type": "execute_result",
          "data": {
            "text/plain": [
              "array([1, 1, 0, ..., 1, 1, 1])"
            ]
          },
          "metadata": {
            "tags": []
          },
          "execution_count": 96
        }
      ]
    },
    {
      "cell_type": "code",
      "metadata": {
        "colab": {
          "base_uri": "https://localhost:8080/",
          "height": 433
        },
        "id": "M63xbKJfi_GH",
        "outputId": "d2c7a8e4-8b40-4e50-a949-038a5b07ccb7"
      },
      "source": [
        "#Evalue our results\n",
        "eval_5rs = evaluate_model(ypred_9, ytest)\n",
        "\n",
        "#Display results\n",
        "eval_5rs"
      ],
      "execution_count": null,
      "outputs": [
        {
          "output_type": "display_data",
          "data": {
            "image/png": "[encoded data removed]",
            "text/plain": [
              "<Figure size 432x288 with 2 Axes>"
            ]
          },
          "metadata": {
            "tags": [],
            "needs_background": "light"
          }
        },
        {
          "output_type": "stream",
          "text": [
            "              precision    recall  f1-score   support\n",
            "\n",
            "           0       0.74      0.61      0.67     13727\n",
            "           1       0.53      0.67      0.59      8859\n",
            "\n",
            "    accuracy                           0.63     22586\n",
            "   macro avg       0.63      0.64      0.63     22586\n",
            "weighted avg       0.66      0.63      0.64     22586\n",
            "\n"
          ],
          "name": "stdout"
        },
        {
          "output_type": "execute_result",
          "data": {
            "text/plain": [
              "{'accuracy': 0.633, 'f1': 0.589, 'precision': 0.67, 'recall': 0.526}"
            ]
          },
          "metadata": {
            "tags": []
          },
          "execution_count": 97
        }
      ]
    },
    {
      "cell_type": "markdown",
      "metadata": {
        "id": "0INDkMSujKGQ"
      },
      "source": [
        "### model_10 GridSearchCV"
      ]
    },
    {
      "cell_type": "code",
      "metadata": {
        "colab": {
          "base_uri": "https://localhost:8080/"
        },
        "id": "aoZB1jmTjE_v",
        "outputId": "c72382e0-6c78-4c5e-a5d1-5e07f204dcd3"
      },
      "source": [
        "\"\"\"\n",
        "It seems like nothing changed. Our aaccuracy\n",
        "score using default parameters and after performing\n",
        "our hyper-parameter tuning using grid serach cv, we're\n",
        "getting similer results. Okay now lets try it\n",
        "again using GridSearchCV\"\"\"\n",
        "#set random seed\n",
        "tf.random.set_seed(42)\n",
        "\n",
        "#Define GridSearchCVGrid\n",
        "dtc_grid_gs = {\n",
        " 'max_depth': [110, 200, 250],\n",
        " 'max_features': ['auto'],\n",
        " 'min_samples_leaf': [1, 4, 5],\n",
        " 'min_samples_split': [10, 30, 100]\n",
        "}\n",
        "\n",
        "#Call grid search cv to perform hyperparameter tunning\n",
        "clf_5gs, param_5gs = grid_search(\n",
        "    clf_5, dtc_grid_gs,\n",
        "    train_data, ytrain\n",
        ")\n",
        "\n",
        "#Display best parameter\n",
        "param_5gs"
      ],
      "execution_count": null,
      "outputs": [
        {
          "output_type": "execute_result",
          "data": {
            "text/plain": [
              "{'max_depth': 110,\n",
              " 'max_features': 'auto',\n",
              " 'min_samples_leaf': 1,\n",
              " 'min_samples_split': 30}"
            ]
          },
          "metadata": {
            "tags": []
          },
          "execution_count": 98
        }
      ]
    },
    {
      "cell_type": "code",
      "metadata": {
        "colab": {
          "base_uri": "https://localhost:8080/"
        },
        "id": "bnPnUylIj08T",
        "outputId": "838dcff2-4f20-49e5-9faf-71c16281cdb3"
      },
      "source": [
        "\"\"\"\n",
        "Okay so after performing our hyperparameter using\n",
        "RandomizedSearchCV on our train dataset, we could see\n",
        "the parameters it returned. Okay so now lets make prediction\n",
        "using our test dataset and rs_5\"\"\"\n",
        "#Make prediction\n",
        "ypred_10 = clf_5gs.predict(test_data)\n",
        "\n",
        "#Display results\n",
        "ypred_10"
      ],
      "execution_count": null,
      "outputs": [
        {
          "output_type": "execute_result",
          "data": {
            "text/plain": [
              "array([1, 1, 0, ..., 1, 0, 1])"
            ]
          },
          "metadata": {
            "tags": []
          },
          "execution_count": 99
        }
      ]
    },
    {
      "cell_type": "code",
      "metadata": {
        "colab": {
          "base_uri": "https://localhost:8080/",
          "height": 433
        },
        "id": "tHx3qFonj8jd",
        "outputId": "be37bcdc-9891-4253-b62d-2752181acff3"
      },
      "source": [
        "#Evaluate our model\n",
        "eval_5gs = evaluate_model(ypred_10, ytest)\n",
        "\n",
        "#Display results\n",
        "eval_5gs"
      ],
      "execution_count": null,
      "outputs": [
        {
          "output_type": "display_data",
          "data": {
            "image/png": "[encoded data removed]",
            "text/plain": [
              "<Figure size 432x288 with 2 Axes>"
            ]
          },
          "metadata": {
            "tags": [],
            "needs_background": "light"
          }
        },
        {
          "output_type": "stream",
          "text": [
            "              precision    recall  f1-score   support\n",
            "\n",
            "           0       0.74      0.61      0.67     13632\n",
            "           1       0.53      0.67      0.59      8954\n",
            "\n",
            "    accuracy                           0.63     22586\n",
            "   macro avg       0.63      0.64      0.63     22586\n",
            "weighted avg       0.65      0.63      0.64     22586\n",
            "\n"
          ],
          "name": "stdout"
        },
        {
          "output_type": "execute_result",
          "data": {
            "text/plain": [
              "{'accuracy': 0.633, 'f1': 0.59, 'precision': 0.667, 'recall': 0.529}"
            ]
          },
          "metadata": {
            "tags": []
          },
          "execution_count": 100
        }
      ]
    },
    {
      "cell_type": "code",
      "metadata": {
        "colab": {
          "base_uri": "https://localhost:8080/",
          "height": 136
        },
        "id": "mQmbtHf2kmNe",
        "outputId": "441f4ca5-9d36-46e6-e13b-6d722ccc4b53"
      },
      "source": [
        "#Create Dataframe out of DecisionTree evaluation\n",
        "dtc = pd.DataFrame({\n",
        "    \"Default Parameters\": eval_5,\n",
        "    \"RandomSearchCV\": eval_5rs,\n",
        "    \"GridSearchCV\": eval_5gs\n",
        "}).T.sort_values(by=\"accuracy\", ascending=False)\n",
        "\n",
        "#Display results\n",
        "dtc"
      ],
      "execution_count": null,
      "outputs": [
        {
          "output_type": "execute_result",
          "data": {
            "text/html": [
              "<div>\n",
              "<style scoped>\n",
              "    .dataframe tbody tr th:only-of-type {\n",
              "        vertical-align: middle;\n",
              "    }\n",
              "\n",
              "    .dataframe tbody tr th {\n",
              "        vertical-align: top;\n",
              "    }\n",
              "\n",
              "    .dataframe thead th {\n",
              "        text-align: right;\n",
              "    }\n",
              "</style>\n",
              "<table border=\"1\" class=\"dataframe\">\n",
              "  <thead>\n",
              "    <tr style=\"text-align: right;\">\n",
              "      <th></th>\n",
              "      <th>accuracy</th>\n",
              "      <th>precision</th>\n",
              "      <th>recall</th>\n",
              "      <th>f1</th>\n",
              "    </tr>\n",
              "  </thead>\n",
              "  <tbody>\n",
              "    <tr>\n",
              "      <th>Default Parameters</th>\n",
              "      <td>0.634</td>\n",
              "      <td>0.671</td>\n",
              "      <td>0.525</td>\n",
              "      <td>0.589</td>\n",
              "    </tr>\n",
              "    <tr>\n",
              "      <th>RandomSearchCV</th>\n",
              "      <td>0.633</td>\n",
              "      <td>0.670</td>\n",
              "      <td>0.526</td>\n",
              "      <td>0.589</td>\n",
              "    </tr>\n",
              "    <tr>\n",
              "      <th>GridSearchCV</th>\n",
              "      <td>0.633</td>\n",
              "      <td>0.667</td>\n",
              "      <td>0.529</td>\n",
              "      <td>0.590</td>\n",
              "    </tr>\n",
              "  </tbody>\n",
              "</table>\n",
              "</div>"
            ],
            "text/plain": [
              "                    accuracy  precision  recall     f1\n",
              "Default Parameters     0.634      0.671   0.525  0.589\n",
              "RandomSearchCV         0.633      0.670   0.526  0.589\n",
              "GridSearchCV           0.633      0.667   0.529  0.590"
            ]
          },
          "metadata": {
            "tags": []
          },
          "execution_count": 101
        }
      ]
    },
    {
      "cell_type": "code",
      "metadata": {
        "colab": {
          "base_uri": "https://localhost:8080/",
          "height": 409
        },
        "id": "4FOXrnkdktwU",
        "outputId": "f7cfe29a-c64e-40ad-c03f-0d5904d27167"
      },
      "source": [
        "#Visualize results\n",
        "dtc.plot(kind=\"bar\", figsize=(10, 5)).legend(bbox_to_anchor=(1.0, 1.0))\n",
        "plt.show()"
      ],
      "execution_count": null,
      "outputs": [
        {
          "output_type": "display_data",
          "data": {
            "image/png": "[encoded data removed]",
            "text/plain": [
              "<Figure size 720x360 with 1 Axes>"
            ]
          },
          "metadata": {
            "tags": [],
            "needs_background": "light"
          }
        }
      ]
    },
    {
      "cell_type": "markdown",
      "metadata": {
        "id": "faakqvr-lJ-V"
      },
      "source": [
        "Just with RandomForestClassifier, our models results are very similer. There is no improvement in our model(it has not yet hit our evaluation i.e between 0.70 and 95). Lets continue to performing our hypaparameter tunning on `GradientBoostingVlassifier` hopefully, we will get a better results than what we are getting soo far. Lets get started."
      ]
    },
    {
      "cell_type": "markdown",
      "metadata": {
        "id": "two8QNwql_-q"
      },
      "source": [
        "## GradientBoostingClassifier"
      ]
    },
    {
      "cell_type": "markdown",
      "metadata": {
        "id": "k833UfCImEpA"
      },
      "source": [
        "### model_11 RandomSearchCV"
      ]
    },
    {
      "cell_type": "code",
      "metadata": {
        "colab": {
          "base_uri": "https://localhost:8080/"
        },
        "id": "3CRPsspXk0GM",
        "outputId": "13f2e6a3-bb8e-4229-8a9e-057c7e76922f"
      },
      "source": [
        "#set random seed\n",
        "tf.random.set_seed(42)\n",
        "\n",
        "#Call function to perform RandomizedSearchCV\n",
        "rs_6, param_6 = randomized_cv(\n",
        "    clf_6, gbost_grid, \n",
        "    train_data, ytrain\n",
        ")\n",
        "\n",
        "#Display best parameters\n",
        "param_6"
      ],
      "execution_count": null,
      "outputs": [
        {
          "output_type": "execute_result",
          "data": {
            "text/plain": [
              "{'max_depth': 20,\n",
              " 'max_features': 'sqrt',\n",
              " 'min_samples_leaf': 4,\n",
              " 'min_samples_split': 2,\n",
              " 'n_estimators': 200}"
            ]
          },
          "metadata": {
            "tags": []
          },
          "execution_count": 103
        }
      ]
    },
    {
      "cell_type": "code",
      "metadata": {
        "colab": {
          "base_uri": "https://localhost:8080/"
        },
        "id": "o-50uIhAmQvL",
        "outputId": "b668e05c-9e38-4efe-b6ac-ac82c7e7be82"
      },
      "source": [
        "\"\"\"\n",
        "Okay so after performing our hyperparameter using\n",
        "RandomizedSearchCV on our train dataset, we could see\n",
        "the parameters it returned. Okay so now lets make prediction\n",
        "using our test dataset and rs_6\"\"\"\n",
        "#Make prediction\n",
        "ypred_11 = rs_6.predict(test_data)\n",
        "\n",
        "#Display results\n",
        "ypred_11"
      ],
      "execution_count": null,
      "outputs": [
        {
          "output_type": "execute_result",
          "data": {
            "text/plain": [
              "array([1, 1, 0, ..., 1, 1, 1])"
            ]
          },
          "metadata": {
            "tags": []
          },
          "execution_count": 104
        }
      ]
    },
    {
      "cell_type": "code",
      "metadata": {
        "colab": {
          "base_uri": "https://localhost:8080/",
          "height": 433
        },
        "id": "9ynTLxdcmkV5",
        "outputId": "5fdd59d6-1995-48c0-c96e-45f76ccc3267"
      },
      "source": [
        "#Evalue our results\n",
        "eval_6rs = evaluate_model(ypred_11, ytest)\n",
        "\n",
        "#Display results\n",
        "eval_6rs"
      ],
      "execution_count": null,
      "outputs": [
        {
          "output_type": "display_data",
          "data": {
            "image/png": "[encoded data removed]",
            "text/plain": [
              "<Figure size 432x288 with 2 Axes>"
            ]
          },
          "metadata": {
            "tags": [],
            "needs_background": "light"
          }
        },
        {
          "output_type": "stream",
          "text": [
            "              precision    recall  f1-score   support\n",
            "\n",
            "           0       0.73      0.61      0.67     13443\n",
            "           1       0.54      0.67      0.60      9143\n",
            "\n",
            "    accuracy                           0.63     22586\n",
            "   macro avg       0.63      0.64      0.63     22586\n",
            "weighted avg       0.65      0.63      0.64     22586\n",
            "\n"
          ],
          "name": "stdout"
        },
        {
          "output_type": "execute_result",
          "data": {
            "text/plain": [
              "{'accuracy': 0.635, 'f1': 0.597, 'precision': 0.667, 'recall': 0.54}"
            ]
          },
          "metadata": {
            "tags": []
          },
          "execution_count": 105
        }
      ]
    },
    {
      "cell_type": "markdown",
      "metadata": {
        "id": "L6CaTyQkmyTJ"
      },
      "source": [
        "### model_12 GridSearchCV"
      ]
    },
    {
      "cell_type": "code",
      "metadata": {
        "colab": {
          "base_uri": "https://localhost:8080/"
        },
        "id": "qzwIh4w2m1KB",
        "outputId": "e67190fe-f54e-4d1e-8212-559a5f197b95"
      },
      "source": [
        "\"\"\"\n",
        "It seems like nothing changed. Our aaccuracy\n",
        "score using default parameters and after performing\n",
        "our hyper-parameter tuning using grid serach cv, we're\n",
        "getting similer results. Okay now lets try it\n",
        "again using GridSearchCV\"\"\"\n",
        "#set random seed\n",
        "tf.random.set_seed(42)\n",
        "\n",
        "#Define GridSearchCVGrid\n",
        "gbc_grid_gs = {\n",
        " 'max_depth': [80,100],\n",
        " 'max_features': ['auto'],\n",
        " 'min_samples_leaf': [2,10],\n",
        " 'min_samples_split': [2,20],\n",
        " 'n_estimators': [50,100,200]\n",
        "}\n",
        "\n",
        "\n",
        "#Call grid search cv to perform hyperparameter tunning\n",
        "clf_6gs, param_6gs = grid_search(\n",
        "    clf_6, gbc_grid_gs,\n",
        "    train_data, ytrain\n",
        ")\n",
        "\n",
        "#Display best parameter\n",
        "param_6gs"
      ],
      "execution_count": null,
      "outputs": [
        {
          "output_type": "execute_result",
          "data": {
            "text/plain": [
              "{'max_depth': 80,\n",
              " 'max_features': 'auto',\n",
              " 'min_samples_leaf': 10,\n",
              " 'min_samples_split': 2,\n",
              " 'n_estimators': 100}"
            ]
          },
          "metadata": {
            "tags": []
          },
          "execution_count": 106
        }
      ]
    },
    {
      "cell_type": "code",
      "metadata": {
        "colab": {
          "base_uri": "https://localhost:8080/"
        },
        "id": "XW5nIYYMm_th",
        "outputId": "46034a26-971a-47fc-f720-85e2dc309bf5"
      },
      "source": [
        "\"\"\"\n",
        "Okay so after performing our hyperparameter using\n",
        "RandomizedSearchCV on our train dataset, we could see\n",
        "the parameters it returned. Okay so now lets make prediction\n",
        "using our test dataset and rs_6\"\"\"\n",
        "#Make prediction\n",
        "ypred_12 = clf_6gs.predict(test_data)\n",
        "\n",
        "#Display results\n",
        "ypred_12"
      ],
      "execution_count": null,
      "outputs": [
        {
          "output_type": "execute_result",
          "data": {
            "text/plain": [
              "array([1, 1, 0, ..., 1, 1, 1])"
            ]
          },
          "metadata": {
            "tags": []
          },
          "execution_count": 107
        }
      ]
    },
    {
      "cell_type": "code",
      "metadata": {
        "colab": {
          "base_uri": "https://localhost:8080/",
          "height": 433
        },
        "id": "oq1hyNKenDkW",
        "outputId": "713da74a-d578-4b29-94b8-6f3d408eafee"
      },
      "source": [
        "#Evaluate our model\n",
        "eval_6gs = evaluate_model(ypred_12, ytest)\n",
        "\n",
        "#Display results\n",
        "eval_6gs"
      ],
      "execution_count": null,
      "outputs": [
        {
          "output_type": "display_data",
          "data": {
            "image/png": "[encoded data removed]",
            "text/plain": [
              "<Figure size 432x288 with 2 Axes>"
            ]
          },
          "metadata": {
            "tags": [],
            "needs_background": "light"
          }
        },
        {
          "output_type": "stream",
          "text": [
            "              precision    recall  f1-score   support\n",
            "\n",
            "           0       0.74      0.61      0.67     13593\n",
            "           1       0.53      0.67      0.59      8993\n",
            "\n",
            "    accuracy                           0.63     22586\n",
            "   macro avg       0.63      0.64      0.63     22586\n",
            "weighted avg       0.65      0.63      0.64     22586\n",
            "\n"
          ],
          "name": "stdout"
        },
        {
          "output_type": "execute_result",
          "data": {
            "text/plain": [
              "{'accuracy': 0.634, 'f1': 0.593, 'precision': 0.668, 'recall': 0.532}"
            ]
          },
          "metadata": {
            "tags": []
          },
          "execution_count": 108
        }
      ]
    },
    {
      "cell_type": "code",
      "metadata": {
        "colab": {
          "base_uri": "https://localhost:8080/",
          "height": 136
        },
        "id": "-QghetA-nH0v",
        "outputId": "3c9c8308-6252-453f-e86a-917ef7ee9c18"
      },
      "source": [
        "#Create Dataframe out of GradientBoostClassifier evaluation\n",
        "gbc = pd.DataFrame({\n",
        "    \"Default Parameters\": eval_6,\n",
        "    \"RandomSearchCV\": eval_6rs,\n",
        "    \"GridSearchCV\": eval_6gs\n",
        "}).T.sort_values(by=\"accuracy\", ascending=False)\n",
        "\n",
        "#Display results\n",
        "gbc"
      ],
      "execution_count": null,
      "outputs": [
        {
          "output_type": "execute_result",
          "data": {
            "text/html": [
              "<div>\n",
              "<style scoped>\n",
              "    .dataframe tbody tr th:only-of-type {\n",
              "        vertical-align: middle;\n",
              "    }\n",
              "\n",
              "    .dataframe tbody tr th {\n",
              "        vertical-align: top;\n",
              "    }\n",
              "\n",
              "    .dataframe thead th {\n",
              "        text-align: right;\n",
              "    }\n",
              "</style>\n",
              "<table border=\"1\" class=\"dataframe\">\n",
              "  <thead>\n",
              "    <tr style=\"text-align: right;\">\n",
              "      <th></th>\n",
              "      <th>accuracy</th>\n",
              "      <th>precision</th>\n",
              "      <th>recall</th>\n",
              "      <th>f1</th>\n",
              "    </tr>\n",
              "  </thead>\n",
              "  <tbody>\n",
              "    <tr>\n",
              "      <th>RandomSearchCV</th>\n",
              "      <td>0.635</td>\n",
              "      <td>0.667</td>\n",
              "      <td>0.540</td>\n",
              "      <td>0.597</td>\n",
              "    </tr>\n",
              "    <tr>\n",
              "      <th>GridSearchCV</th>\n",
              "      <td>0.634</td>\n",
              "      <td>0.668</td>\n",
              "      <td>0.532</td>\n",
              "      <td>0.593</td>\n",
              "    </tr>\n",
              "    <tr>\n",
              "      <th>Default Parameters</th>\n",
              "      <td>0.619</td>\n",
              "      <td>0.661</td>\n",
              "      <td>0.488</td>\n",
              "      <td>0.562</td>\n",
              "    </tr>\n",
              "  </tbody>\n",
              "</table>\n",
              "</div>"
            ],
            "text/plain": [
              "                    accuracy  precision  recall     f1\n",
              "RandomSearchCV         0.635      0.667   0.540  0.597\n",
              "GridSearchCV           0.634      0.668   0.532  0.593\n",
              "Default Parameters     0.619      0.661   0.488  0.562"
            ]
          },
          "metadata": {
            "tags": []
          },
          "execution_count": 109
        }
      ]
    },
    {
      "cell_type": "code",
      "metadata": {
        "colab": {
          "base_uri": "https://localhost:8080/",
          "height": 410
        },
        "id": "oXulo1SjnIil",
        "outputId": "a3c8423d-71be-4477-a61c-2d48d250f9dc"
      },
      "source": [
        "#Visualize results\n",
        "gbc.plot(kind=\"bar\", figsize=(10, 5)).legend(bbox_to_anchor=(1.0, 1.0))\n",
        "plt.show()"
      ],
      "execution_count": null,
      "outputs": [
        {
          "output_type": "display_data",
          "data": {
            "image/png": "[encoded data removed]",
            "text/plain": [
              "<Figure size 720x360 with 1 Axes>"
            ]
          },
          "metadata": {
            "tags": [],
            "needs_background": "light"
          }
        }
      ]
    },
    {
      "cell_type": "code",
      "metadata": {
        "id": "n6mfxKv-uoDX"
      },
      "source": [
        "\"\"\"\n",
        "Now that we have performed hyperparameter tunning using\n",
        "both grid serach and random search cv, we are going to\n",
        "create a dataframe from our by grouping all model built\n",
        "using GridSearchCV and all models built using RandomSearchCV\"\"\"\n",
        "\n",
        "#Grid Search CV\n",
        "grid_search_cv = pd.DataFrame({\n",
        "    \"model_7\": eval_4gs, #Grid search cv model\n",
        "    \"model_8\": eval_5gs, #Grid search cv model\n",
        "    \"model_9\": eval_6gs #Grid search cv model\n",
        "}).T.sort_values(by=\"accuracy\", ascending=False)\n",
        "\n",
        "#Random Search CV\n",
        "random_search_cv = pd.DataFrame({\n",
        "    \"model_10\": eval_4rs, #Random search cv model\n",
        "    \"model_11\": eval_5rs, #Random search cv model\n",
        "    \"model_12\": eval_6rs #Random search cv model\n",
        "}).T.sort_values(by=\"accuracy\", ascending=False)"
      ],
      "execution_count": null,
      "outputs": []
    },
    {
      "cell_type": "code",
      "metadata": {
        "colab": {
          "base_uri": "https://localhost:8080/",
          "height": 136
        },
        "id": "ir51O7KN5lcW",
        "outputId": "db2348bd-b628-4024-c88a-ce9b4eed596f"
      },
      "source": [
        "#Display grid search\n",
        "grid_search_cv"
      ],
      "execution_count": null,
      "outputs": [
        {
          "output_type": "execute_result",
          "data": {
            "text/html": [
              "<div>\n",
              "<style scoped>\n",
              "    .dataframe tbody tr th:only-of-type {\n",
              "        vertical-align: middle;\n",
              "    }\n",
              "\n",
              "    .dataframe tbody tr th {\n",
              "        vertical-align: top;\n",
              "    }\n",
              "\n",
              "    .dataframe thead th {\n",
              "        text-align: right;\n",
              "    }\n",
              "</style>\n",
              "<table border=\"1\" class=\"dataframe\">\n",
              "  <thead>\n",
              "    <tr style=\"text-align: right;\">\n",
              "      <th></th>\n",
              "      <th>accuracy</th>\n",
              "      <th>precision</th>\n",
              "      <th>recall</th>\n",
              "      <th>f1</th>\n",
              "    </tr>\n",
              "  </thead>\n",
              "  <tbody>\n",
              "    <tr>\n",
              "      <th>model_9</th>\n",
              "      <td>0.634</td>\n",
              "      <td>0.668</td>\n",
              "      <td>0.532</td>\n",
              "      <td>0.593</td>\n",
              "    </tr>\n",
              "    <tr>\n",
              "      <th>model_8</th>\n",
              "      <td>0.633</td>\n",
              "      <td>0.667</td>\n",
              "      <td>0.529</td>\n",
              "      <td>0.590</td>\n",
              "    </tr>\n",
              "    <tr>\n",
              "      <th>model_7</th>\n",
              "      <td>0.623</td>\n",
              "      <td>0.666</td>\n",
              "      <td>0.496</td>\n",
              "      <td>0.568</td>\n",
              "    </tr>\n",
              "  </tbody>\n",
              "</table>\n",
              "</div>"
            ],
            "text/plain": [
              "         accuracy  precision  recall     f1\n",
              "model_9     0.634      0.668   0.532  0.593\n",
              "model_8     0.633      0.667   0.529  0.590\n",
              "model_7     0.623      0.666   0.496  0.568"
            ]
          },
          "metadata": {
            "tags": []
          },
          "execution_count": 112
        }
      ]
    },
    {
      "cell_type": "code",
      "metadata": {
        "colab": {
          "base_uri": "https://localhost:8080/",
          "height": 356
        },
        "id": "yjVBHXmG83q4",
        "outputId": "7695eb66-fe9e-4494-8348-040e7e6357b5"
      },
      "source": [
        "#Visualize grid search cv\n",
        "grid_search_cv.plot(kind=\"bar\", figsize=(10, 5)).legend(bbox_to_anchor=(1.0, 1.0))\n",
        "plt.show()"
      ],
      "execution_count": null,
      "outputs": [
        {
          "output_type": "display_data",
          "data": {
            "image/png": "[encoded data removed]",
            "text/plain": [
              "<Figure size 720x360 with 1 Axes>"
            ]
          },
          "metadata": {
            "tags": [],
            "needs_background": "light"
          }
        }
      ]
    },
    {
      "cell_type": "code",
      "metadata": {
        "colab": {
          "base_uri": "https://localhost:8080/",
          "height": 136
        },
        "id": "lyt8XMDD5phw",
        "outputId": "904cf083-65af-427c-ab58-a68ff3170450"
      },
      "source": [
        "#Display random  search\n",
        "random_search_cv"
      ],
      "execution_count": null,
      "outputs": [
        {
          "output_type": "execute_result",
          "data": {
            "text/html": [
              "<div>\n",
              "<style scoped>\n",
              "    .dataframe tbody tr th:only-of-type {\n",
              "        vertical-align: middle;\n",
              "    }\n",
              "\n",
              "    .dataframe tbody tr th {\n",
              "        vertical-align: top;\n",
              "    }\n",
              "\n",
              "    .dataframe thead th {\n",
              "        text-align: right;\n",
              "    }\n",
              "</style>\n",
              "<table border=\"1\" class=\"dataframe\">\n",
              "  <thead>\n",
              "    <tr style=\"text-align: right;\">\n",
              "      <th></th>\n",
              "      <th>accuracy</th>\n",
              "      <th>precision</th>\n",
              "      <th>recall</th>\n",
              "      <th>f1</th>\n",
              "    </tr>\n",
              "  </thead>\n",
              "  <tbody>\n",
              "    <tr>\n",
              "      <th>model_12</th>\n",
              "      <td>0.635</td>\n",
              "      <td>0.667</td>\n",
              "      <td>0.540</td>\n",
              "      <td>0.597</td>\n",
              "    </tr>\n",
              "    <tr>\n",
              "      <th>model_11</th>\n",
              "      <td>0.633</td>\n",
              "      <td>0.670</td>\n",
              "      <td>0.526</td>\n",
              "      <td>0.589</td>\n",
              "    </tr>\n",
              "    <tr>\n",
              "      <th>model_10</th>\n",
              "      <td>0.632</td>\n",
              "      <td>0.666</td>\n",
              "      <td>0.531</td>\n",
              "      <td>0.591</td>\n",
              "    </tr>\n",
              "  </tbody>\n",
              "</table>\n",
              "</div>"
            ],
            "text/plain": [
              "          accuracy  precision  recall     f1\n",
              "model_12     0.635      0.667   0.540  0.597\n",
              "model_11     0.633      0.670   0.526  0.589\n",
              "model_10     0.632      0.666   0.531  0.591"
            ]
          },
          "metadata": {
            "tags": []
          },
          "execution_count": 114
        }
      ]
    },
    {
      "cell_type": "code",
      "metadata": {
        "colab": {
          "base_uri": "https://localhost:8080/",
          "height": 361
        },
        "id": "oumpIBAx81dc",
        "outputId": "0f0bc6b6-7d5a-476b-a907-ada025170931"
      },
      "source": [
        "#Visualize random search cv\n",
        "random_search_cv.plot(kind=\"bar\", figsize=(10, 5)).legend(bbox_to_anchor=(1.0, 1.0))\n",
        "plt.show()"
      ],
      "execution_count": null,
      "outputs": [
        {
          "output_type": "display_data",
          "data": {
            "image/png": "[encoded data removed]",
            "text/plain": [
              "<Figure size 720x360 with 1 Axes>"
            ]
          },
          "metadata": {
            "tags": [],
            "needs_background": "light"
          }
        }
      ]
    },
    {
      "cell_type": "markdown",
      "metadata": {
        "id": "ZGWqutmE9_Lb"
      },
      "source": [
        "It's now time to compare our models. That's the three models created using `Default parameters`, `GridSearchCV` and `RandomSearchCV`. We will first create a dart af r ame out of this models then visualize it to make better decision. Lets get started."
      ]
    },
    {
      "cell_type": "code",
      "metadata": {
        "colab": {
          "base_uri": "https://localhost:8080/",
          "height": 314
        },
        "id": "DTMvngzjAABz",
        "outputId": "531fb911-f750-48c9-a69b-4d2829e037c3"
      },
      "source": [
        "#Combine models\n",
        "model_ = pd.DataFrame({\n",
        "    \"model_4\": eval_4,\n",
        "    \"model_5\": eval_5,\n",
        "    \"model_6\": eval_6,\n",
        "    \"model_7\": eval_4rs,\n",
        "    \"model_8\": eval_4gs,\n",
        "    \"model_9\": eval_5rs,\n",
        "    \"model_10\": eval_5gs,\n",
        "    \"model_11\": eval_6rs,\n",
        "    \"model_12\": eval_6gs\n",
        "}).T.sort_values(by=\"accuracy\", ascending=False)\n",
        "\n",
        "#Display model\n",
        "model_"
      ],
      "execution_count": null,
      "outputs": [
        {
          "output_type": "execute_result",
          "data": {
            "text/html": [
              "<div>\n",
              "<style scoped>\n",
              "    .dataframe tbody tr th:only-of-type {\n",
              "        vertical-align: middle;\n",
              "    }\n",
              "\n",
              "    .dataframe tbody tr th {\n",
              "        vertical-align: top;\n",
              "    }\n",
              "\n",
              "    .dataframe thead th {\n",
              "        text-align: right;\n",
              "    }\n",
              "</style>\n",
              "<table border=\"1\" class=\"dataframe\">\n",
              "  <thead>\n",
              "    <tr style=\"text-align: right;\">\n",
              "      <th></th>\n",
              "      <th>accuracy</th>\n",
              "      <th>precision</th>\n",
              "      <th>recall</th>\n",
              "      <th>f1</th>\n",
              "    </tr>\n",
              "  </thead>\n",
              "  <tbody>\n",
              "    <tr>\n",
              "      <th>model_4</th>\n",
              "      <td>0.635</td>\n",
              "      <td>0.666</td>\n",
              "      <td>0.541</td>\n",
              "      <td>0.597</td>\n",
              "    </tr>\n",
              "    <tr>\n",
              "      <th>model_11</th>\n",
              "      <td>0.635</td>\n",
              "      <td>0.667</td>\n",
              "      <td>0.540</td>\n",
              "      <td>0.597</td>\n",
              "    </tr>\n",
              "    <tr>\n",
              "      <th>model_5</th>\n",
              "      <td>0.634</td>\n",
              "      <td>0.671</td>\n",
              "      <td>0.525</td>\n",
              "      <td>0.589</td>\n",
              "    </tr>\n",
              "    <tr>\n",
              "      <th>model_12</th>\n",
              "      <td>0.634</td>\n",
              "      <td>0.668</td>\n",
              "      <td>0.532</td>\n",
              "      <td>0.593</td>\n",
              "    </tr>\n",
              "    <tr>\n",
              "      <th>model_9</th>\n",
              "      <td>0.633</td>\n",
              "      <td>0.670</td>\n",
              "      <td>0.526</td>\n",
              "      <td>0.589</td>\n",
              "    </tr>\n",
              "    <tr>\n",
              "      <th>model_10</th>\n",
              "      <td>0.633</td>\n",
              "      <td>0.667</td>\n",
              "      <td>0.529</td>\n",
              "      <td>0.590</td>\n",
              "    </tr>\n",
              "    <tr>\n",
              "      <th>model_7</th>\n",
              "      <td>0.632</td>\n",
              "      <td>0.666</td>\n",
              "      <td>0.531</td>\n",
              "      <td>0.591</td>\n",
              "    </tr>\n",
              "    <tr>\n",
              "      <th>model_8</th>\n",
              "      <td>0.623</td>\n",
              "      <td>0.666</td>\n",
              "      <td>0.496</td>\n",
              "      <td>0.568</td>\n",
              "    </tr>\n",
              "    <tr>\n",
              "      <th>model_6</th>\n",
              "      <td>0.619</td>\n",
              "      <td>0.661</td>\n",
              "      <td>0.488</td>\n",
              "      <td>0.562</td>\n",
              "    </tr>\n",
              "  </tbody>\n",
              "</table>\n",
              "</div>"
            ],
            "text/plain": [
              "          accuracy  precision  recall     f1\n",
              "model_4      0.635      0.666   0.541  0.597\n",
              "model_11     0.635      0.667   0.540  0.597\n",
              "model_5      0.634      0.671   0.525  0.589\n",
              "model_12     0.634      0.668   0.532  0.593\n",
              "model_9      0.633      0.670   0.526  0.589\n",
              "model_10     0.633      0.667   0.529  0.590\n",
              "model_7      0.632      0.666   0.531  0.591\n",
              "model_8      0.623      0.666   0.496  0.568\n",
              "model_6      0.619      0.661   0.488  0.562"
            ]
          },
          "metadata": {
            "tags": []
          },
          "execution_count": 116
        }
      ]
    },
    {
      "cell_type": "code",
      "metadata": {
        "colab": {
          "base_uri": "https://localhost:8080/",
          "height": 361
        },
        "id": "Rn3EHNQnBpmK",
        "outputId": "9235ddc9-162c-4bce-c0f3-bf66166f0865"
      },
      "source": [
        "#Visualize model\n",
        "model_.plot(kind=\"bar\", figsize=(15, 5)).legend(bbox_to_anchor=(1.0, 1.0))\n",
        "plt.show()"
      ],
      "execution_count": null,
      "outputs": [
        {
          "output_type": "display_data",
          "data": {
            "image/png": "[encoded data removed]",
            "text/plain": [
              "<Figure size 1080x360 with 1 Axes>"
            ]
          },
          "metadata": {
            "tags": [],
            "needs_background": "light"
          }
        }
      ]
    },
    {
      "cell_type": "code",
      "metadata": {
        "colab": {
          "base_uri": "https://localhost:8080/"
        },
        "id": "5DpzCiQoCQe6",
        "outputId": "9d1962a7-5971-4b79-9255-a230394fbf52"
      },
      "source": [
        "#Display model 4 and 7 evaluation results\n",
        "eval_4, eval_4rs"
      ],
      "execution_count": null,
      "outputs": [
        {
          "output_type": "execute_result",
          "data": {
            "text/plain": [
              "({'accuracy': 0.635, 'f1': 0.597, 'precision': 0.666, 'recall': 0.541},\n",
              " {'accuracy': 0.632, 'f1': 0.591, 'precision': 0.666, 'recall': 0.531})"
            ]
          },
          "metadata": {
            "tags": []
          },
          "execution_count": 118
        }
      ]
    },
    {
      "cell_type": "markdown",
      "metadata": {
        "id": "sxvKpjiOCqGS"
      },
      "source": [
        "Even though we didn't get a better results, the model performing well are model_4 and model_7. We still havent hit our `evaluation` we defined. Because of that, we are going to continue experimenting on our model using `Deep Learning` techniques. We will use googles tensorflow toolkit to continue with our experiments. Okay so lets get started."
      ]
    },
    {
      "cell_type": "markdown",
      "metadata": {
        "id": "Pz0K0N1-Dgmn"
      },
      "source": [
        "# Tensorflow\n",
        "As said earlier on, we are going to continue to experiment using tensorflow. Without wasting much time, lets continue with our experiment by building or 13th model. We will be experimenting using keras `Functional API` and `Sequential API`."
      ]
    },
    {
      "cell_type": "markdown",
      "metadata": {
        "id": "K5kiUW_3DxZm"
      },
      "source": [
        "## model_13\n",
        "Okay so we are going to build our model with basic parameters to set as a baseline for all our tesnorflow models. Lets get started."
      ]
    },
    {
      "cell_type": "code",
      "metadata": {
        "id": "gryUf3R5Dfs3"
      },
      "source": [
        "#set random seed\n",
        "tf.random.set_seed(42)\n",
        "\n",
        "#Define input shape\n",
        "inputs = tf.keras.layers.Input(shape=(train_data.shape[1],), dtype=tf.float64)\n",
        "\n",
        "#Define 1st dense layer\n",
        "x = tf.keras.layers.Dense(units=64)(inputs)\n",
        "x = tf.keras.layers.Dense(units=48)(x)\n",
        "x = tf.keras.layers.Dense(units=24)(x)\n",
        "x = tf.keras.layers.Dense(units=16)(x)\n",
        "\n",
        "#Define output layer\n",
        "outputs = tf.keras.layers.Dense(units=1, activation=\"sigmoid\")(x)\n",
        "\n",
        "#Define model\n",
        "model_13 = tf.keras.Model(inputs, outputs)"
      ],
      "execution_count": null,
      "outputs": []
    },
    {
      "cell_type": "code",
      "metadata": {
        "colab": {
          "base_uri": "https://localhost:8080/"
        },
        "id": "B_nKjXxuCWkB",
        "outputId": "02dec95e-222b-4db3-8f3e-22d2f6bba3d4"
      },
      "source": [
        "#Check model layers\n",
        "model_13.summary()"
      ],
      "execution_count": null,
      "outputs": [
        {
          "output_type": "stream",
          "text": [
            "Model: \"model\"\n",
            "_________________________________________________________________\n",
            "Layer (type)                 Output Shape              Param #   \n",
            "=================================================================\n",
            "input_1 (InputLayer)         [(None, 6)]               0         \n",
            "_________________________________________________________________\n",
            "dense (Dense)                (None, 64)                448       \n",
            "_________________________________________________________________\n",
            "dense_1 (Dense)              (None, 48)                3120      \n",
            "_________________________________________________________________\n",
            "dense_2 (Dense)              (None, 24)                1176      \n",
            "_________________________________________________________________\n",
            "dense_3 (Dense)              (None, 16)                400       \n",
            "_________________________________________________________________\n",
            "dense_4 (Dense)              (None, 1)                 17        \n",
            "=================================================================\n",
            "Total params: 5,161\n",
            "Trainable params: 5,161\n",
            "Non-trainable params: 0\n",
            "_________________________________________________________________\n"
          ],
          "name": "stdout"
        }
      ]
    },
    {
      "cell_type": "code",
      "metadata": {
        "id": "1wONCcDhERka"
      },
      "source": [
        "#Compile our model\n",
        "model_13.compile(\n",
        "    loss=\"binary_crossentropy\",\n",
        "    optimizer=\"adam\",\n",
        "    metrics=[\"accuracy\"]\n",
        ")"
      ],
      "execution_count": null,
      "outputs": []
    },
    {
      "cell_type": "code",
      "metadata": {
        "colab": {
          "base_uri": "https://localhost:8080/"
        },
        "id": "1yIwPktiFaje",
        "outputId": "9f66a5eb-9683-4790-9492-2adcbad8d6f7"
      },
      "source": [
        "#Fit on train datasets\n",
        "history_13 = model_13.fit(\n",
        "    train_data, ytrain,\n",
        "    validation_data=(test_data, ytest),\n",
        "    epochs=5\n",
        ")"
      ],
      "execution_count": null,
      "outputs": [
        {
          "output_type": "stream",
          "text": [
            "Epoch 1/5\n",
            "706/706 [==============================] - 4s 4ms/step - loss: 0.6894 - accuracy: 0.5266 - val_loss: 0.6859 - val_accuracy: 0.5406\n",
            "Epoch 2/5\n",
            "706/706 [==============================] - 3s 4ms/step - loss: 0.6868 - accuracy: 0.5295 - val_loss: 0.6848 - val_accuracy: 0.5409\n",
            "Epoch 3/5\n",
            "706/706 [==============================] - 3s 5ms/step - loss: 0.6860 - accuracy: 0.5352 - val_loss: 0.6860 - val_accuracy: 0.5414\n",
            "Epoch 4/5\n",
            "706/706 [==============================] - 3s 4ms/step - loss: 0.6856 - accuracy: 0.5327 - val_loss: 0.6838 - val_accuracy: 0.5325\n",
            "Epoch 5/5\n",
            "706/706 [==============================] - 3s 4ms/step - loss: 0.6855 - accuracy: 0.5296 - val_loss: 0.6855 - val_accuracy: 0.5296\n"
          ],
          "name": "stdout"
        }
      ]
    },
    {
      "cell_type": "code",
      "metadata": {
        "colab": {
          "base_uri": "https://localhost:8080/"
        },
        "id": "z-EdnUEkFnlC",
        "outputId": "f9c67ecb-a32b-4a9d-f45c-70c978014497"
      },
      "source": [
        "#Make prediction\n",
        "yprob_13 = model_13.predict(test_data)\n",
        "\n",
        "#Display results\n",
        "yprob_13"
      ],
      "execution_count": null,
      "outputs": [
        {
          "output_type": "execute_result",
          "data": {
            "text/plain": [
              "array([[0.47156715],\n",
              "       [0.5165425 ],\n",
              "       [0.4721168 ],\n",
              "       ...,\n",
              "       [0.54601073],\n",
              "       [0.4746439 ],\n",
              "       [0.40394503]], dtype=float32)"
            ]
          },
          "metadata": {
            "tags": []
          },
          "execution_count": 123
        }
      ]
    },
    {
      "cell_type": "code",
      "metadata": {
        "colab": {
          "base_uri": "https://localhost:8080/"
        },
        "id": "7Qvci764Fy4X",
        "outputId": "6b4909ea-f1c1-4f35-f3a5-b96fb8d3acf0"
      },
      "source": [
        "#Get predicted values in once and zero\n",
        "ypred_13 = tf.squeeze(tf.round(yprob_13))\n",
        "\n",
        "#Display results\n",
        "ypred_13"
      ],
      "execution_count": null,
      "outputs": [
        {
          "output_type": "execute_result",
          "data": {
            "text/plain": [
              "<tf.Tensor: shape=(22586,), dtype=float32, numpy=array([0., 1., 0., ..., 1., 0., 0.], dtype=float32)>"
            ]
          },
          "metadata": {
            "tags": []
          },
          "execution_count": 124
        }
      ]
    },
    {
      "cell_type": "code",
      "metadata": {
        "colab": {
          "base_uri": "https://localhost:8080/",
          "height": 434
        },
        "id": "DocSy6TGF9Il",
        "outputId": "258d119f-7657-4966-d135-b3468713c5c5"
      },
      "source": [
        "#Evaluate our model\n",
        "eval_13 = evaluate_model(ypred_13, ytest)\n",
        "\n",
        "#Display results\n",
        "eval_13"
      ],
      "execution_count": null,
      "outputs": [
        {
          "output_type": "display_data",
          "data": {
            "image/png": "[encoded data removed]",
            "text/plain": [
              "<Figure size 432x288 with 2 Axes>"
            ]
          },
          "metadata": {
            "tags": [],
            "needs_background": "light"
          }
        },
        {
          "output_type": "stream",
          "text": [
            "              precision    recall  f1-score   support\n",
            "\n",
            "         0.0       0.90      0.52      0.66     19568\n",
            "         1.0       0.16      0.61      0.26      3018\n",
            "\n",
            "    accuracy                           0.53     22586\n",
            "   macro avg       0.53      0.56      0.46     22586\n",
            "weighted avg       0.80      0.53      0.60     22586\n",
            "\n"
          ],
          "name": "stdout"
        },
        {
          "output_type": "execute_result",
          "data": {
            "text/plain": [
              "{'accuracy': 0.53, 'f1': 0.258, 'precision': 0.611, 'recall': 0.163}"
            ]
          },
          "metadata": {
            "tags": []
          },
          "execution_count": 126
        }
      ]
    },
    {
      "cell_type": "markdown",
      "metadata": {
        "id": "J36cCp1BOegv"
      },
      "source": [
        "## model_14\n",
        "We are going to build our 4th model. With this model, we are going add regularizer layer to our dense layers. Lets get started now."
      ]
    },
    {
      "cell_type": "code",
      "metadata": {
        "id": "qCkiIDNMGptW"
      },
      "source": [
        "#set random seed\n",
        "tf.random.set_seed(42)\n",
        "\n",
        "#Define input layer\n",
        "inputs = tf.keras.layers.Input(shape=(train_data.shape[1],), dtype=tf.float64)\n",
        "\n",
        "#Define dense layers\n",
        "x = tf.keras.layers.Dense(\n",
        "    units=100,\n",
        "    activation=\"relu\",\n",
        "    kernel_regularizer=tf.keras.regularizers.l2(l2=0.01)\n",
        ")(inputs)\n",
        "\n",
        "x = tf.keras.layers.Dense(\n",
        "    units=80,\n",
        "    activation=\"relu\",\n",
        "    kernel_regularizer=tf.keras.regularizers.l2(l2=0.01)\n",
        ")(x)\n",
        "\n",
        "x = tf.keras.layers.Dense(\n",
        "    units=30,\n",
        "    activation=\"relu\",\n",
        "    kernel_regularizer=tf.keras.regularizers.l2(l2=0.01)\n",
        ")(x)\n",
        "\n",
        "#Add Dropout layer\n",
        "tf.keras.layers.Dropout(rate=0.02)(x)\n",
        "\n",
        "#Define output layer\n",
        "outputs = tf.keras.layers.Dense(units=1, activation=\"sigmoid\")(x)\n",
        "\n",
        "#Define model\n",
        "model_14 = tf.keras.Model(inputs, outputs)"
      ],
      "execution_count": null,
      "outputs": []
    },
    {
      "cell_type": "code",
      "metadata": {
        "colab": {
          "base_uri": "https://localhost:8080/"
        },
        "id": "hQjHCtVvQfav",
        "outputId": "0c3500e1-4091-42e1-fa57-e0b153be4daa"
      },
      "source": [
        "#Check model layers\n",
        "model_14.summary()"
      ],
      "execution_count": null,
      "outputs": [
        {
          "output_type": "stream",
          "text": [
            "Model: \"model_12\"\n",
            "_________________________________________________________________\n",
            "Layer (type)                 Output Shape              Param #   \n",
            "=================================================================\n",
            "input_15 (InputLayer)        [(None, 6)]               0         \n",
            "_________________________________________________________________\n",
            "dense_54 (Dense)             (None, 100)               700       \n",
            "_________________________________________________________________\n",
            "dense_55 (Dense)             (None, 80)                8080      \n",
            "_________________________________________________________________\n",
            "dense_56 (Dense)             (None, 30)                2430      \n",
            "_________________________________________________________________\n",
            "dense_57 (Dense)             (None, 1)                 31        \n",
            "=================================================================\n",
            "Total params: 11,241\n",
            "Trainable params: 11,241\n",
            "Non-trainable params: 0\n",
            "_________________________________________________________________\n"
          ],
          "name": "stdout"
        }
      ]
    },
    {
      "cell_type": "code",
      "metadata": {
        "id": "8nhtiH07QyDS"
      },
      "source": [
        "#Compile model\n",
        "model_14.compile(\n",
        "    loss=\"binary_crossentropy\",\n",
        "    optimizer=tf.keras.optimizers.SGD(),\n",
        "    metrics=[\"accuracy\"]\n",
        ")"
      ],
      "execution_count": null,
      "outputs": []
    },
    {
      "cell_type": "code",
      "metadata": {
        "colab": {
          "base_uri": "https://localhost:8080/"
        },
        "id": "3mWMGiOZQ7CL",
        "outputId": "a05d7197-8861-483f-c37f-44c0bece292f"
      },
      "source": [
        "#Set random seed\n",
        "tf.random.set_seed(42)\n",
        "\n",
        "#Fit on model\n",
        "history_14 = model_14.fit(\n",
        "    train_data,\n",
        "    ytrain,\n",
        "    validation_data=(test_data, ytest),\n",
        "    epochs=5\n",
        ")"
      ],
      "execution_count": null,
      "outputs": [
        {
          "output_type": "stream",
          "text": [
            "Epoch 1/5\n",
            "706/706 [==============================] - 4s 4ms/step - loss: 1.9426 - accuracy: 0.5095 - val_loss: 1.7734 - val_accuracy: 0.5376\n",
            "Epoch 2/5\n",
            "706/706 [==============================] - 3s 4ms/step - loss: 1.6345 - accuracy: 0.5242 - val_loss: 1.5074 - val_accuracy: 0.5398\n",
            "Epoch 3/5\n",
            "706/706 [==============================] - 3s 4ms/step - loss: 1.4030 - accuracy: 0.5291 - val_loss: 1.3072 - val_accuracy: 0.5398\n",
            "Epoch 4/5\n",
            "706/706 [==============================] - 3s 4ms/step - loss: 1.2285 - accuracy: 0.5266 - val_loss: 1.1563 - val_accuracy: 0.5401\n",
            "Epoch 5/5\n",
            "706/706 [==============================] - 3s 4ms/step - loss: 1.0970 - accuracy: 0.5305 - val_loss: 1.0426 - val_accuracy: 0.5154\n"
          ],
          "name": "stdout"
        }
      ]
    },
    {
      "cell_type": "code",
      "metadata": {
        "colab": {
          "base_uri": "https://localhost:8080/"
        },
        "id": "IuZ6qF6QREK7",
        "outputId": "69597f44-066b-4a85-9093-8cf3a722730c"
      },
      "source": [
        "#Make prediction\n",
        "yprob_14 = model_14.predict(test_data)\n",
        "\n",
        "#Display results\n",
        "yprob_14"
      ],
      "execution_count": null,
      "outputs": [
        {
          "output_type": "execute_result",
          "data": {
            "text/plain": [
              "array([[0.49795762],\n",
              "       [0.4934232 ],\n",
              "       [0.49798107],\n",
              "       ...,\n",
              "       [0.49768066],\n",
              "       [0.49798095],\n",
              "       [0.48448166]], dtype=float32)"
            ]
          },
          "metadata": {
            "tags": []
          },
          "execution_count": 184
        }
      ]
    },
    {
      "cell_type": "code",
      "metadata": {
        "colab": {
          "base_uri": "https://localhost:8080/"
        },
        "id": "bM12qwVLVEBn",
        "outputId": "6f0e53ee-138a-49fa-f06c-bfc161a14cda"
      },
      "source": [
        "#Get predicted values in zeros and once\n",
        "ypred_14 = tf.squeeze(tf.round(yprob_14))\n",
        "\n",
        "#Display results\n",
        "ypred_14"
      ],
      "execution_count": null,
      "outputs": [
        {
          "output_type": "execute_result",
          "data": {
            "text/plain": [
              "<tf.Tensor: shape=(22586,), dtype=float32, numpy=array([0., 0., 0., ..., 0., 0., 0.], dtype=float32)>"
            ]
          },
          "metadata": {
            "tags": []
          },
          "execution_count": 185
        }
      ]
    },
    {
      "cell_type": "code",
      "metadata": {
        "colab": {
          "base_uri": "https://localhost:8080/",
          "height": 433
        },
        "id": "diSFCneJVN7m",
        "outputId": "569729b7-1973-48d5-bf8e-6fc863753bed"
      },
      "source": [
        "#Evaluate our model\n",
        "eval_14 = evaluate_model(ypred_14, ytest)\n",
        "\n",
        "#Display results\n",
        "eval_14"
      ],
      "execution_count": null,
      "outputs": [
        {
          "output_type": "display_data",
          "data": {
            "image/png": "[encoded data removed]",
            "text/plain": [
              "<Figure size 432x288 with 2 Axes>"
            ]
          },
          "metadata": {
            "tags": [],
            "needs_background": "light"
          }
        },
        {
          "output_type": "stream",
          "text": [
            "              precision    recall  f1-score   support\n",
            "\n",
            "         0.0       0.92      0.51      0.66     20499\n",
            "         1.0       0.11      0.58      0.18      2087\n",
            "\n",
            "    accuracy                           0.52     22586\n",
            "   macro avg       0.52      0.55      0.42     22586\n",
            "weighted avg       0.85      0.52      0.61     22586\n",
            "\n"
          ],
          "name": "stdout"
        },
        {
          "output_type": "execute_result",
          "data": {
            "text/plain": [
              "{'accuracy': 0.515, 'f1': 0.182, 'precision': 0.583, 'recall': 0.108}"
            ]
          },
          "metadata": {
            "tags": []
          },
          "execution_count": 186
        }
      ]
    },
    {
      "cell_type": "markdown",
      "metadata": {
        "id": "Ntxj0d3EVaGz"
      },
      "source": [
        "So far we've built two models using tensorflow but we are ot getting any good results. We are now going to tune our model using `KerasTunner`. We are going to use a this libry to perform parameter tunning to get the best parameters to get a better working model. Okay so lets get started."
      ]
    },
    {
      "cell_type": "markdown",
      "metadata": {
        "id": "-rzHVftbV0z3"
      },
      "source": [
        "## model_15\n",
        "Tune model with different parameters using keras tunner to ket the best parameters to build our model on."
      ]
    },
    {
      "cell_type": "code",
      "metadata": {
        "id": "aVGtIEleWNUo"
      },
      "source": [
        "#install keras tunner\n",
        "!pip3 install -q -U keras_tuner"
      ],
      "execution_count": null,
      "outputs": []
    },
    {
      "cell_type": "code",
      "metadata": {
        "id": "RILVYabTVWKv"
      },
      "source": [
        "#Import keras tuner\n",
        "import keras_tuner as kt"
      ],
      "execution_count": null,
      "outputs": []
    },
    {
      "cell_type": "code",
      "metadata": {
        "id": "8zXhkxiBXHkL"
      },
      "source": [
        "#Build model\n",
        "def build_model_kt(hp):\n",
        "\n",
        "  #Initialize sequential API\n",
        "  model = tf.keras.Sequential()\n",
        "\n",
        "  #Define configurations\n",
        "  hp_units = hp.Int(\"units\", min_value=32, max_value=512, step=32)\n",
        "  hp_learning_rate = hp.Choice(\"learning_rate\", values=[1e-2, 1e-3, 1e-4])\n",
        "\n",
        "  #Define dense layers\n",
        "  model.add(tf.keras.layers.Input(shape=(train_data.shape[1]), dtype=tf.float64))\n",
        "  model.add(tf.keras.layers.Dense(units = hp_units, activation=\"relu\"))\n",
        "  model.add(tf.keras.layers.Dense(units=1, activation=\"sigmoid\"))\n",
        "\n",
        "  #Compile our model\n",
        "  model.compile(\n",
        "      loss=\"binary_crossentropy\",\n",
        "      optimizer=tf.keras.optimizers.Adam(learning_rate=hp_learning_rate),\n",
        "      metrics=[\"accuracy\"]\n",
        "  )\n",
        "\n",
        "  #Return model\n",
        "  return model"
      ],
      "execution_count": null,
      "outputs": []
    },
    {
      "cell_type": "code",
      "metadata": {
        "id": "Rx0kh4oYbK4g"
      },
      "source": [
        "#nstantiate tuner and perform hypertuning\n",
        "tuner = kt.Hyperband(build_model_kt,\n",
        "                     objective='val_accuracy',\n",
        "                     max_epochs=10,\n",
        "                     factor=3,\n",
        "                     project_name='model_15_a')\n",
        "\n",
        "#Define early stopping\n",
        "stop_early = tf.keras.callbacks.EarlyStopping(monitor='val_loss', patience=10)"
      ],
      "execution_count": null,
      "outputs": []
    },
    {
      "cell_type": "code",
      "metadata": {
        "colab": {
          "base_uri": "https://localhost:8080/"
        },
        "id": "fI5Cpu5nba4E",
        "outputId": "1e3a2033-27d0-4814-be88-7cb9f1bf6340"
      },
      "source": [
        "tuner.search(train_data, ytrain, epochs=50, callbacks=[stop_early], validation_data=(test_data, ytest))\n",
        "\n",
        "# Get the optimal hyperparameters\n",
        "best_hps=tuner.get_best_hyperparameters(num_trials=1)[0]\n",
        "\n",
        "#Display best parameters\n",
        "best_hps"
      ],
      "execution_count": null,
      "outputs": [
        {
          "output_type": "stream",
          "text": [
            "Trial 30 Complete [00h 00m 41s]\n",
            "val_accuracy: 0.5410431027412415\n",
            "\n",
            "Best val_accuracy So Far: 0.5554768443107605\n",
            "Total elapsed time: 00h 07m 51s\n",
            "INFO:tensorflow:Oracle triggered exit\n"
          ],
          "name": "stdout"
        },
        {
          "output_type": "execute_result",
          "data": {
            "text/plain": [
              "<keras_tuner.engine.hyperparameters.HyperParameters at 0x7f8435328c10>"
            ]
          },
          "metadata": {
            "tags": []
          },
          "execution_count": 225
        }
      ]
    },
    {
      "cell_type": "code",
      "metadata": {
        "colab": {
          "base_uri": "https://localhost:8080/"
        },
        "id": "JBSEHIS3fj4a",
        "outputId": "6336c7c5-2d37-4c73-cec6-b588ea8da1cf"
      },
      "source": [
        "#Set random seed\n",
        "tf.random.set_seed(42)\n",
        "\n",
        "#Build the model with the optimal hyperparameters and train it on the data for 50 epochs\n",
        "model_15 = tuner.hypermodel.build(best_hps)\n",
        "history_15 = model_15.fit(train_data, ytrain, epochs=10, validation_data=(test_data, ytest))\n",
        "\n",
        "val_acc_per_epoch = history_15.history['val_accuracy']\n",
        "best_epoch = val_acc_per_epoch.index(max(val_acc_per_epoch)) + 1\n",
        "print('Best epoch: %d' % (best_epoch,))"
      ],
      "execution_count": null,
      "outputs": [
        {
          "output_type": "stream",
          "text": [
            "Epoch 1/10\n",
            "706/706 [==============================] - 4s 4ms/step - loss: 0.6862 - accuracy: 0.5280 - val_loss: 0.6834 - val_accuracy: 0.5409\n",
            "Epoch 2/10\n",
            "706/706 [==============================] - 3s 4ms/step - loss: 0.6841 - accuracy: 0.5326 - val_loss: 0.6814 - val_accuracy: 0.5417\n",
            "Epoch 3/10\n",
            "706/706 [==============================] - 3s 4ms/step - loss: 0.6836 - accuracy: 0.5329 - val_loss: 0.6818 - val_accuracy: 0.5409\n",
            "Epoch 4/10\n",
            "706/706 [==============================] - 2s 2ms/step - loss: 0.6828 - accuracy: 0.5351 - val_loss: 0.6802 - val_accuracy: 0.5417\n",
            "Epoch 5/10\n",
            "706/706 [==============================] - 2s 3ms/step - loss: 0.6825 - accuracy: 0.5341 - val_loss: 0.6819 - val_accuracy: 0.5298\n",
            "Epoch 6/10\n",
            "706/706 [==============================] - 3s 4ms/step - loss: 0.6821 - accuracy: 0.5360 - val_loss: 0.6794 - val_accuracy: 0.5420\n",
            "Epoch 7/10\n",
            "706/706 [==============================] - 2s 3ms/step - loss: 0.6818 - accuracy: 0.5351 - val_loss: 0.6808 - val_accuracy: 0.5420\n",
            "Epoch 8/10\n",
            "706/706 [==============================] - 2s 3ms/step - loss: 0.6815 - accuracy: 0.5404 - val_loss: 0.6787 - val_accuracy: 0.5417\n",
            "Epoch 9/10\n",
            "706/706 [==============================] - 3s 4ms/step - loss: 0.6814 - accuracy: 0.5366 - val_loss: 0.6792 - val_accuracy: 0.5371\n",
            "Epoch 10/10\n",
            "706/706 [==============================] - 2s 3ms/step - loss: 0.6807 - accuracy: 0.5375 - val_loss: 0.6786 - val_accuracy: 0.5418\n",
            "Best epoch: 6\n"
          ],
          "name": "stdout"
        }
      ]
    },
    {
      "cell_type": "code",
      "metadata": {
        "colab": {
          "base_uri": "https://localhost:8080/"
        },
        "id": "mek--gHf8dl2",
        "outputId": "cb522dad-8394-4fe8-fef0-bb5a14f19b14"
      },
      "source": [
        "model_15.evaluate(test_data, ytest)"
      ],
      "execution_count": null,
      "outputs": [
        {
          "output_type": "stream",
          "text": [
            "706/706 [==============================] - 1s 2ms/step - loss: 0.6786 - accuracy: 0.5418\n"
          ],
          "name": "stdout"
        },
        {
          "output_type": "execute_result",
          "data": {
            "text/plain": [
              "[0.678581714630127, 0.5418400764465332]"
            ]
          },
          "metadata": {
            "tags": []
          },
          "execution_count": 232
        }
      ]
    },
    {
      "cell_type": "code",
      "metadata": {
        "colab": {
          "base_uri": "https://localhost:8080/"
        },
        "id": "jM43YjGT8nb3",
        "outputId": "16acad11-7d96-4136-a7c7-b8d4e84a28ac"
      },
      "source": [
        "#Make prediction\n",
        "yprob_15 = model_15.predict(test_data)\n",
        "\n",
        "#Display results\n",
        "yprob_15"
      ],
      "execution_count": null,
      "outputs": [
        {
          "output_type": "execute_result",
          "data": {
            "text/plain": [
              "array([[0.52009946],\n",
              "       [0.6486325 ],\n",
              "       [0.5201295 ],\n",
              "       ...,\n",
              "       [0.7954489 ],\n",
              "       [0.52985924],\n",
              "       [0.421367  ]], dtype=float32)"
            ]
          },
          "metadata": {
            "tags": []
          },
          "execution_count": 234
        }
      ]
    },
    {
      "cell_type": "code",
      "metadata": {
        "colab": {
          "base_uri": "https://localhost:8080/"
        },
        "id": "iQW_5KK0qtTD",
        "outputId": "88fe8eea-5266-452c-c0b2-142c4d9fa3b9"
      },
      "source": [
        "#Get actual predicted values\n",
        "ypred_15 = tf.squeeze(tf.round(yprob_15))\n",
        "\n",
        "#Display results\n",
        "ypred_15"
      ],
      "execution_count": null,
      "outputs": [
        {
          "output_type": "execute_result",
          "data": {
            "text/plain": [
              "<tf.Tensor: shape=(22586,), dtype=float32, numpy=array([1., 1., 1., ..., 1., 1., 0.], dtype=float32)>"
            ]
          },
          "metadata": {
            "tags": []
          },
          "execution_count": 235
        }
      ]
    },
    {
      "cell_type": "code",
      "metadata": {
        "colab": {
          "base_uri": "https://localhost:8080/",
          "height": 433
        },
        "id": "lXQCEHBt866k",
        "outputId": "baa475ec-aa2d-44e2-f74f-d94cf7dfea24"
      },
      "source": [
        "#Evaluate our model performance\n",
        "eval_15 = evaluate_model(ypred_15, ytest)\n",
        "\n",
        "#Display results\n",
        "eval_15"
      ],
      "execution_count": null,
      "outputs": [
        {
          "output_type": "display_data",
          "data": {
            "image/png": "[encoded data removed]",
            "text/plain": [
              "<Figure size 432x288 with 2 Axes>"
            ]
          },
          "metadata": {
            "tags": [],
            "needs_background": "light"
          }
        },
        {
          "output_type": "stream",
          "text": [
            "              precision    recall  f1-score   support\n",
            "\n",
            "         0.0       0.23      0.61      0.33      4267\n",
            "         1.0       0.85      0.53      0.65     18319\n",
            "\n",
            "    accuracy                           0.54     22586\n",
            "   macro avg       0.54      0.57      0.49     22586\n",
            "weighted avg       0.74      0.54      0.59     22586\n",
            "\n"
          ],
          "name": "stdout"
        },
        {
          "output_type": "execute_result",
          "data": {
            "text/plain": [
              "{'accuracy': 0.542, 'f1': 0.651, 'precision': 0.526, 'recall': 0.853}"
            ]
          },
          "metadata": {
            "tags": []
          },
          "execution_count": 236
        }
      ]
    },
    {
      "cell_type": "markdown",
      "metadata": {
        "id": "2rlB1mizBcrb"
      },
      "source": [
        "# Combine All models\n",
        "We have tried to build different multiple models to get a good accuracy score. We have built 15 different models using different machine learning and deep learning techniques. Now we are going to combine all the models together and select the one with a good accuracy score by comparing them. Lest get started."
      ]
    },
    {
      "cell_type": "code",
      "metadata": {
        "id": "e-K6D-jX9GGu"
      },
      "source": [
        "#Combine all models\n",
        "final_results = pd.DataFrame({\n",
        "    \"model 0\": eval_0,\n",
        "    \"model 1\": eval_1,\n",
        "    \"model 2\": eval_2,\n",
        "    \"model 3\": eval_3,\n",
        "    \"model 4\": eval_4,\n",
        "    \"model 5\": eval_5,\n",
        "    \"model 6\": eval_6,\n",
        "    \"model 7\": eval_4rs,\n",
        "    \"model 8\": eval_4gs,\n",
        "    \"model 9\": eval_5rs,\n",
        "    \"model 10\": eval_5gs,\n",
        "    \"model 11\": eval_6rs,\n",
        "    \"model 12\": eval_6gs,\n",
        "    \"model 13\": eval_13,\n",
        "    \"model 14\": eval_14,\n",
        "    \"model 15\": eval_15,\n",
        "})"
      ],
      "execution_count": null,
      "outputs": []
    },
    {
      "cell_type": "code",
      "metadata": {
        "colab": {
          "base_uri": "https://localhost:8080/",
          "height": 182
        },
        "id": "vKqBNf4sB-Vr",
        "outputId": "f81860a3-5cbd-4073-89b7-2c74a8aa9b23"
      },
      "source": [
        "#Display results\n",
        "final_results"
      ],
      "execution_count": null,
      "outputs": [
        {
          "output_type": "execute_result",
          "data": {
            "text/html": [
              "<div>\n",
              "<style scoped>\n",
              "    .dataframe tbody tr th:only-of-type {\n",
              "        vertical-align: middle;\n",
              "    }\n",
              "\n",
              "    .dataframe tbody tr th {\n",
              "        vertical-align: top;\n",
              "    }\n",
              "\n",
              "    .dataframe thead th {\n",
              "        text-align: right;\n",
              "    }\n",
              "</style>\n",
              "<table border=\"1\" class=\"dataframe\">\n",
              "  <thead>\n",
              "    <tr style=\"text-align: right;\">\n",
              "      <th></th>\n",
              "      <th>model 0</th>\n",
              "      <th>model 1</th>\n",
              "      <th>model 2</th>\n",
              "      <th>model 3</th>\n",
              "      <th>model 4</th>\n",
              "      <th>model 5</th>\n",
              "      <th>model 6</th>\n",
              "      <th>model 7</th>\n",
              "      <th>model 8</th>\n",
              "      <th>model 9</th>\n",
              "      <th>model 10</th>\n",
              "      <th>model 11</th>\n",
              "      <th>model 12</th>\n",
              "      <th>model 13</th>\n",
              "      <th>model 14</th>\n",
              "      <th>model 15</th>\n",
              "    </tr>\n",
              "  </thead>\n",
              "  <tbody>\n",
              "    <tr>\n",
              "      <th>accuracy</th>\n",
              "      <td>0.541</td>\n",
              "      <td>0.541</td>\n",
              "      <td>0.572</td>\n",
              "      <td>0.520</td>\n",
              "      <td>0.635</td>\n",
              "      <td>0.634</td>\n",
              "      <td>0.619</td>\n",
              "      <td>0.632</td>\n",
              "      <td>0.623</td>\n",
              "      <td>0.633</td>\n",
              "      <td>0.633</td>\n",
              "      <td>0.635</td>\n",
              "      <td>0.634</td>\n",
              "      <td>0.530</td>\n",
              "      <td>0.515</td>\n",
              "      <td>0.542</td>\n",
              "    </tr>\n",
              "    <tr>\n",
              "      <th>precision</th>\n",
              "      <td>0.526</td>\n",
              "      <td>0.526</td>\n",
              "      <td>0.723</td>\n",
              "      <td>0.511</td>\n",
              "      <td>0.666</td>\n",
              "      <td>0.671</td>\n",
              "      <td>0.661</td>\n",
              "      <td>0.666</td>\n",
              "      <td>0.666</td>\n",
              "      <td>0.670</td>\n",
              "      <td>0.667</td>\n",
              "      <td>0.667</td>\n",
              "      <td>0.668</td>\n",
              "      <td>0.611</td>\n",
              "      <td>0.583</td>\n",
              "      <td>0.526</td>\n",
              "    </tr>\n",
              "    <tr>\n",
              "      <th>recall</th>\n",
              "      <td>0.845</td>\n",
              "      <td>0.845</td>\n",
              "      <td>0.234</td>\n",
              "      <td>0.963</td>\n",
              "      <td>0.541</td>\n",
              "      <td>0.525</td>\n",
              "      <td>0.488</td>\n",
              "      <td>0.531</td>\n",
              "      <td>0.496</td>\n",
              "      <td>0.526</td>\n",
              "      <td>0.529</td>\n",
              "      <td>0.540</td>\n",
              "      <td>0.532</td>\n",
              "      <td>0.163</td>\n",
              "      <td>0.108</td>\n",
              "      <td>0.853</td>\n",
              "    </tr>\n",
              "    <tr>\n",
              "      <th>f1</th>\n",
              "      <td>0.648</td>\n",
              "      <td>0.648</td>\n",
              "      <td>0.354</td>\n",
              "      <td>0.667</td>\n",
              "      <td>0.597</td>\n",
              "      <td>0.589</td>\n",
              "      <td>0.562</td>\n",
              "      <td>0.591</td>\n",
              "      <td>0.568</td>\n",
              "      <td>0.589</td>\n",
              "      <td>0.590</td>\n",
              "      <td>0.597</td>\n",
              "      <td>0.593</td>\n",
              "      <td>0.258</td>\n",
              "      <td>0.182</td>\n",
              "      <td>0.651</td>\n",
              "    </tr>\n",
              "  </tbody>\n",
              "</table>\n",
              "</div>"
            ],
            "text/plain": [
              "           model 0  model 1  model 2  ...  model 13  model 14  model 15\n",
              "accuracy     0.541    0.541    0.572  ...     0.530     0.515     0.542\n",
              "precision    0.526    0.526    0.723  ...     0.611     0.583     0.526\n",
              "recall       0.845    0.845    0.234  ...     0.163     0.108     0.853\n",
              "f1           0.648    0.648    0.354  ...     0.258     0.182     0.651\n",
              "\n",
              "[4 rows x 16 columns]"
            ]
          },
          "metadata": {
            "tags": []
          },
          "execution_count": 244
        }
      ]
    },
    {
      "cell_type": "code",
      "metadata": {
        "colab": {
          "base_uri": "https://localhost:8080/",
          "height": 358
        },
        "id": "c_4lmaDkDJxk",
        "outputId": "e5513df1-359e-4659-c0fd-1b466d56d2e1"
      },
      "source": [
        "\"\"\"We are going to visualize all our models\n",
        "by Transposing them and sorting them based on the\n",
        "model with the highest accuracy score.\"\"\"\n",
        "\n",
        "#Lets visualize result\n",
        "final_results.T.sort_values(by=\"accuracy\", ascending=False).plot(kind=\"bar\", figsize=(15, 5)).legend(bbox_to_anchor=(1.0, 1.0))\n",
        "plt.show()"
      ],
      "execution_count": null,
      "outputs": [
        {
          "output_type": "display_data",
          "data": {
            "image/png": "[encoded data removed]",
            "text/plain": [
              "<Figure size 1080x360 with 1 Axes>"
            ]
          },
          "metadata": {
            "tags": [],
            "needs_background": "light"
          }
        }
      ]
    },
    {
      "cell_type": "code",
      "metadata": {
        "colab": {
          "base_uri": "https://localhost:8080/"
        },
        "id": "c_goaM4vDSSg",
        "outputId": "76cf9a8a-4ff8-450f-993d-a140fb6895cf"
      },
      "source": [
        "#Display best model\n",
        "eval_4"
      ],
      "execution_count": null,
      "outputs": [
        {
          "output_type": "execute_result",
          "data": {
            "text/plain": [
              "{'accuracy': 0.635, 'f1': 0.597, 'precision': 0.666, 'recall': 0.541}"
            ]
          },
          "metadata": {
            "tags": []
          },
          "execution_count": 256
        }
      ]
    },
    {
      "cell_type": "markdown",
      "metadata": {
        "id": "kgZaGIeUEElW"
      },
      "source": [
        "# Save model"
      ]
    },
    {
      "cell_type": "code",
      "metadata": {
        "id": "yc2KhStED6N7"
      },
      "source": [
        "\"\"\"\n",
        "Since the model with the highest score\n",
        "was build using machine learning, we are going\n",
        "to use pickle to save and download our model. Lets\n",
        "get started.\"\"\"\n",
        "#Save model\n",
        "pickle.dump(clf_4, open(\"model_4.pkl\",\"wb\"))"
      ],
      "execution_count": null,
      "outputs": []
    },
    {
      "cell_type": "code",
      "metadata": {
        "id": "FCeA-fqPGs6j"
      },
      "source": [
        "#Import and test model\n",
        "model_4 = pickle.load(open(\"model_4.pkl\",\"rb\"))"
      ],
      "execution_count": null,
      "outputs": []
    },
    {
      "cell_type": "code",
      "metadata": {
        "colab": {
          "base_uri": "https://localhost:8080/"
        },
        "id": "SrEvRsnjGz2h",
        "outputId": "90a77f22-b382-4847-f520-7c8f3b1cf041"
      },
      "source": [
        "#Use model to make prediction\n",
        "save_pred = model_4.predict(test_data)\n",
        "\n",
        "#Display results\n",
        "save_pred"
      ],
      "execution_count": null,
      "outputs": [
        {
          "output_type": "execute_result",
          "data": {
            "text/plain": [
              "array([1, 1, 0, ..., 1, 1, 1])"
            ]
          },
          "metadata": {
            "tags": []
          },
          "execution_count": 263
        }
      ]
    },
    {
      "cell_type": "code",
      "metadata": {
        "colab": {
          "base_uri": "https://localhost:8080/",
          "height": 433
        },
        "id": "keVRUx-QG9uJ",
        "outputId": "151a25fb-7ec4-440f-8d97-337cf6a46c7a"
      },
      "source": [
        "#Now evaluate model\n",
        "evaluate_model(save_pred, ytest)"
      ],
      "execution_count": null,
      "outputs": [
        {
          "output_type": "display_data",
          "data": {
            "image/png": "[encoded data removed]",
            "text/plain": [
              "<Figure size 432x288 with 2 Axes>"
            ]
          },
          "metadata": {
            "tags": [],
            "needs_background": "light"
          }
        },
        {
          "output_type": "stream",
          "text": [
            "              precision    recall  f1-score   support\n",
            "\n",
            "           0       0.73      0.61      0.67     13417\n",
            "           1       0.54      0.67      0.60      9169\n",
            "\n",
            "    accuracy                           0.63     22586\n",
            "   macro avg       0.63      0.64      0.63     22586\n",
            "weighted avg       0.65      0.63      0.64     22586\n",
            "\n"
          ],
          "name": "stdout"
        },
        {
          "output_type": "execute_result",
          "data": {
            "text/plain": [
              "{'accuracy': 0.635, 'f1': 0.597, 'precision': 0.666, 'recall': 0.541}"
            ]
          },
          "metadata": {
            "tags": []
          },
          "execution_count": 264
        }
      ]
    },
    {
      "cell_type": "code",
      "metadata": {
        "colab": {
          "base_uri": "https://localhost:8080/"
        },
        "id": "3Qa_CdR7HLdy",
        "outputId": "640ec9f4-019d-4c28-bef0-664eeab889bb"
      },
      "source": [
        "#Display results\n",
        "eval_4"
      ],
      "execution_count": null,
      "outputs": [
        {
          "output_type": "execute_result",
          "data": {
            "text/plain": [
              "{'accuracy': 0.635, 'f1': 0.597, 'precision': 0.666, 'recall': 0.541}"
            ]
          },
          "metadata": {
            "tags": []
          },
          "execution_count": 265
        }
      ]
    },
    {
      "cell_type": "markdown",
      "metadata": {
        "id": "NuLVyQIMHdg6"
      },
      "source": [
        "# Conclusion\n",
        "We have finally come to an end of building our model. So far, we built 16 different models including the base model. We used different `Machine Learning` and `Deep Learning` techniques. Even though we didnt meet our evaluation, we were almost close to our evaluation.\n",
        "\n",
        "From above, we can see that the model which was performing well was model_4. Why because it had a good accuracy score, precision, recall and f1 score. Now that we have successfully saved the model, we are going to create and expose an API for it then deploy it on a cloud using terraform.\n",
        "\n",
        "* By: Owusu Bright Debrah\n",
        "* Email: owusubrightdebrah@gmail.com\n",
        "* Profession: Data scientist and A Cloud Engineer"
      ]
    },
    {
      "cell_type": "code",
      "metadata": {
        "id": "Km2qYQANMsAo"
      },
      "source": [
        ""
      ],
      "execution_count": null,
      "outputs": []
    }
  ]
}